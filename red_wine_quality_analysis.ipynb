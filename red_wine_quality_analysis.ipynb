{
 "cells": [
  {
   "cell_type": "markdown",
   "id": "7eb5d80028033c61",
   "metadata": {
    "collapsed": false,
    "jupyter": {
     "outputs_hidden": false
    }
   },
   "source": [
    "### Red Wine Quality Analysis\n",
    "\n",
    "**Introduction**\n",
    "\n",
    "In the quest for excellence, the wine industry heavily emphasizes maintaining consistent quality to satisfy consumers and uphold brand reputation. This project focuses on analyzing the Red Wine Quality dataset through robust data analysis and machine learning techniques to discern the key factors that influence wine quality. We aim to uncover the intricate patterns among the physicochemical properties of the wine and explore their impact on the sensory quality score.\n",
    "\n",
    "**Data Description**\n",
    "\n",
    "The dataset for this analysis comprises physicochemical (input) and sensory (output) variables of red wine. These input variables, representing measurements from various stages of wine production, include:\n",
    "\n",
    "* Fixed Acidity\n",
    "* Volatile Acidity\n",
    "* Citric Acid\n",
    "* Residual Sugar\n",
    "* Chlorides\n",
    "* Free Sulfur Dioxide\n",
    "* Total Sulfur Dioxide\n",
    "* Density\n",
    "* pH\n",
    "* Sulphates\n",
    "* Alcohol\n",
    "\n",
    "The output variable is the wine's quality, scored on a scale from 0 to 10. Details regarding the dataset's source will be acknowledged if available, and specifics such as the number of samples and features will be noted.\n",
    "\n",
    "**Data Loading and Preprocessing**\n",
    "\n",
    "We will utilize Pandas for data loading. The preprocessing steps will aim to optimize data quality and readiness for further analysis. Key actions will include:\n",
    "\n",
    "* **Handling missing values:** Depending on the data attributes, we will apply mean/median imputation or outright removal of missing data.\n",
    "* **Scaling numerical features:** To equalize the influence of each feature in our analyses, we'll employ scaling techniques such as standardization or normalization based on the distribution of the data.\n",
    "\n",
    "**Exploratory Data Analysis (EDA)**\n",
    "\n",
    "Our EDA will aim to thoroughly understand the data properties and unearth relationships between variables through:\n",
    "\n",
    "* **Univariate analysis:** Utilizing histograms and boxplots to examine distributions and pinpoint outliers.\n",
    "* **Multivariate analysis:** Employing heatmaps to explore the correlation matrix, highlighting relationships and potential multicollinearity among features.\n",
    "\n",
    "**Statistical Inference**\n",
    "\n",
    "Defining our target population (e.g., varieties of red wine), we will develop specific statistical hypotheses based on EDA insights concerning relationships between features and the wine quality:\n",
    "\n",
    "* Testing correlations between alcohol content and wine quality, as well as volatile acidity and wine quality.\n",
    "* Establishing confidence intervals for crucial statistics and setting significance levels.\n",
    "* Implementing suitable statistical tests, such as the Pearson correlation coefficient, to test these hypotheses.\n",
    "\n",
    "**Machine Learning Models**\n",
    "\n",
    "Focusing on linear regression models, we will predict the quality and alcohol content of the wine using the remaining features. Our approach will start with an Ordinary Least Squares regression, evaluating model performance through:\n",
    "\n",
    "* **Feature significance:** Analyzing p-values of coefficients to identify influential features.\n",
    "* **R-squared and Adjusted R-squared:** These metrics will reflect how well the model captures the variance in the target variable.\n",
    "* **Information criteria:** Using AIC and BIC to compare models and select the optimal balance of simplicity and fit.\n",
    "\n",
    "**Visualization**\n",
    "\n",
    "To effectively communicate our findings, we will create a dashboard using tools like Looker Studio, incorporating various chart types such as:\n",
    "\n",
    "* Bar charts for feature distributions\n",
    "* Scatter plots for correlations\n",
    "* Line charts for tracking model performance\n",
    "\n",
    "**Conclusion and Suggestions for Improvement**\n",
    "\n",
    "The final section will synthesize the analysis results, underscoring critical insights into how physicochemical properties influence wine quality and suggesting avenues for enhancing the analytical approach."
   ]
  },
  {
   "cell_type": "code",
   "execution_count": 1,
   "id": "dff77b86",
   "metadata": {},
   "outputs": [],
   "source": [
    "%load_ext autoreload\n",
    "%autoreload 2"
   ]
  },
  {
   "cell_type": "code",
   "execution_count": 2,
   "id": "feb273ccfcd79378",
   "metadata": {
    "ExecuteTime": {
     "end_time": "2024-04-01T17:55:12.171732Z",
     "start_time": "2024-04-01T17:55:12.143903Z"
    },
    "collapsed": false,
    "jupyter": {
     "outputs_hidden": false
    },
    "metadata": {}
   },
   "outputs": [],
   "source": [
    "import sqlite3\n",
    "\n",
    "import pandas as pd\n",
    "from IPython.display import Image\n",
    "\n",
    "from red_wine_quality_utils import (\n",
    "    get_columns,\n",
    "    identify_outliers,\n",
    "    log_transform_features,\n",
    "    plot_box_chart,\n",
    "    plot_correlation,\n",
    "    plot_heatmap,\n",
    "    plot_histograms,\n",
    "    plot_model_predictions,\n",
    "    remove_duplicates,\n",
    "    test_correlation,\n",
    "    train_linear_model,\n",
    ")"
   ]
  },
  {
   "cell_type": "code",
   "execution_count": 3,
   "id": "3c2e7dfac7b764ba",
   "metadata": {
    "ExecuteTime": {
     "end_time": "2024-04-01T17:55:12.249112Z",
     "start_time": "2024-04-01T17:55:12.172645Z"
    },
    "collapsed": false,
    "jupyter": {
     "outputs_hidden": false
    },
    "metadata": {}
   },
   "outputs": [
    {
     "data": {
      "text/plain": [
       "1599"
      ]
     },
     "execution_count": 3,
     "metadata": {},
     "output_type": "execute_result"
    }
   ],
   "source": [
    "wine_df = pd.read_csv(\"data/winequality_red.csv\")\n",
    "conn = sqlite3.connect(\"data/wine_quality.db\")\n",
    "wine_df.to_sql(\"wine_quality\", conn, if_exists=\"replace\", index=False)"
   ]
  },
  {
   "cell_type": "code",
   "execution_count": 4,
   "id": "492337584b7137ce",
   "metadata": {
    "ExecuteTime": {
     "end_time": "2024-04-01T17:55:12.273075Z",
     "start_time": "2024-04-01T17:55:12.250444Z"
    },
    "collapsed": false,
    "jupyter": {
     "outputs_hidden": false
    },
    "metadata": {}
   },
   "outputs": [
    {
     "data": {
      "text/html": [
       "<div>\n",
       "<style scoped>\n",
       "    .dataframe tbody tr th:only-of-type {\n",
       "        vertical-align: middle;\n",
       "    }\n",
       "\n",
       "    .dataframe tbody tr th {\n",
       "        vertical-align: top;\n",
       "    }\n",
       "\n",
       "    .dataframe thead th {\n",
       "        text-align: right;\n",
       "    }\n",
       "</style>\n",
       "<table border=\"1\" class=\"dataframe\">\n",
       "  <thead>\n",
       "    <tr style=\"text-align: right;\">\n",
       "      <th></th>\n",
       "      <th>fixed acidity</th>\n",
       "      <th>volatile acidity</th>\n",
       "      <th>citric acid</th>\n",
       "      <th>residual sugar</th>\n",
       "      <th>chlorides</th>\n",
       "      <th>free sulfur dioxide</th>\n",
       "      <th>total sulfur dioxide</th>\n",
       "      <th>density</th>\n",
       "      <th>pH</th>\n",
       "      <th>sulphates</th>\n",
       "      <th>alcohol</th>\n",
       "      <th>quality</th>\n",
       "    </tr>\n",
       "  </thead>\n",
       "  <tbody>\n",
       "    <tr>\n",
       "      <th>0</th>\n",
       "      <td>7.4</td>\n",
       "      <td>0.70</td>\n",
       "      <td>0.00</td>\n",
       "      <td>1.9</td>\n",
       "      <td>0.076</td>\n",
       "      <td>11.0</td>\n",
       "      <td>34.0</td>\n",
       "      <td>0.9978</td>\n",
       "      <td>3.51</td>\n",
       "      <td>0.56</td>\n",
       "      <td>9.4</td>\n",
       "      <td>5</td>\n",
       "    </tr>\n",
       "    <tr>\n",
       "      <th>1</th>\n",
       "      <td>7.8</td>\n",
       "      <td>0.88</td>\n",
       "      <td>0.00</td>\n",
       "      <td>2.6</td>\n",
       "      <td>0.098</td>\n",
       "      <td>25.0</td>\n",
       "      <td>67.0</td>\n",
       "      <td>0.9968</td>\n",
       "      <td>3.20</td>\n",
       "      <td>0.68</td>\n",
       "      <td>9.8</td>\n",
       "      <td>5</td>\n",
       "    </tr>\n",
       "    <tr>\n",
       "      <th>2</th>\n",
       "      <td>7.8</td>\n",
       "      <td>0.76</td>\n",
       "      <td>0.04</td>\n",
       "      <td>2.3</td>\n",
       "      <td>0.092</td>\n",
       "      <td>15.0</td>\n",
       "      <td>54.0</td>\n",
       "      <td>0.9970</td>\n",
       "      <td>3.26</td>\n",
       "      <td>0.65</td>\n",
       "      <td>9.8</td>\n",
       "      <td>5</td>\n",
       "    </tr>\n",
       "    <tr>\n",
       "      <th>3</th>\n",
       "      <td>11.2</td>\n",
       "      <td>0.28</td>\n",
       "      <td>0.56</td>\n",
       "      <td>1.9</td>\n",
       "      <td>0.075</td>\n",
       "      <td>17.0</td>\n",
       "      <td>60.0</td>\n",
       "      <td>0.9980</td>\n",
       "      <td>3.16</td>\n",
       "      <td>0.58</td>\n",
       "      <td>9.8</td>\n",
       "      <td>6</td>\n",
       "    </tr>\n",
       "    <tr>\n",
       "      <th>4</th>\n",
       "      <td>7.4</td>\n",
       "      <td>0.70</td>\n",
       "      <td>0.00</td>\n",
       "      <td>1.9</td>\n",
       "      <td>0.076</td>\n",
       "      <td>11.0</td>\n",
       "      <td>34.0</td>\n",
       "      <td>0.9978</td>\n",
       "      <td>3.51</td>\n",
       "      <td>0.56</td>\n",
       "      <td>9.4</td>\n",
       "      <td>5</td>\n",
       "    </tr>\n",
       "  </tbody>\n",
       "</table>\n",
       "</div>"
      ],
      "text/plain": [
       "   fixed acidity  volatile acidity  citric acid  residual sugar  chlorides  \\\n",
       "0            7.4              0.70         0.00             1.9      0.076   \n",
       "1            7.8              0.88         0.00             2.6      0.098   \n",
       "2            7.8              0.76         0.04             2.3      0.092   \n",
       "3           11.2              0.28         0.56             1.9      0.075   \n",
       "4            7.4              0.70         0.00             1.9      0.076   \n",
       "\n",
       "   free sulfur dioxide  total sulfur dioxide  density    pH  sulphates  \\\n",
       "0                 11.0                  34.0   0.9978  3.51       0.56   \n",
       "1                 25.0                  67.0   0.9968  3.20       0.68   \n",
       "2                 15.0                  54.0   0.9970  3.26       0.65   \n",
       "3                 17.0                  60.0   0.9980  3.16       0.58   \n",
       "4                 11.0                  34.0   0.9978  3.51       0.56   \n",
       "\n",
       "   alcohol  quality  \n",
       "0      9.4        5  \n",
       "1      9.8        5  \n",
       "2      9.8        5  \n",
       "3      9.8        6  \n",
       "4      9.4        5  "
      ]
     },
     "execution_count": 4,
     "metadata": {},
     "output_type": "execute_result"
    }
   ],
   "source": [
    "wine_df.head()"
   ]
  },
  {
   "cell_type": "code",
   "execution_count": 5,
   "id": "e50085e789a75cb4",
   "metadata": {
    "ExecuteTime": {
     "end_time": "2024-04-01T17:55:12.312980Z",
     "start_time": "2024-04-01T17:55:12.273735Z"
    },
    "collapsed": false,
    "jupyter": {
     "outputs_hidden": false
    },
    "metadata": {}
   },
   "outputs": [
    {
     "name": "stdout",
     "output_type": "stream",
     "text": [
      "<class 'pandas.core.frame.DataFrame'>\n",
      "RangeIndex: 1599 entries, 0 to 1598\n",
      "Data columns (total 12 columns):\n",
      " #   Column                Non-Null Count  Dtype  \n",
      "---  ------                --------------  -----  \n",
      " 0   fixed acidity         1599 non-null   float64\n",
      " 1   volatile acidity      1599 non-null   float64\n",
      " 2   citric acid           1599 non-null   float64\n",
      " 3   residual sugar        1599 non-null   float64\n",
      " 4   chlorides             1599 non-null   float64\n",
      " 5   free sulfur dioxide   1599 non-null   float64\n",
      " 6   total sulfur dioxide  1599 non-null   float64\n",
      " 7   density               1599 non-null   float64\n",
      " 8   pH                    1599 non-null   float64\n",
      " 9   sulphates             1599 non-null   float64\n",
      " 10  alcohol               1599 non-null   float64\n",
      " 11  quality               1599 non-null   int64  \n",
      "dtypes: float64(11), int64(1)\n",
      "memory usage: 150.0 KB\n"
     ]
    }
   ],
   "source": [
    "wine_df.info()"
   ]
  },
  {
   "cell_type": "markdown",
   "id": "5f3c93b08aaa4920",
   "metadata": {
    "collapsed": false,
    "jupyter": {
     "outputs_hidden": false
    }
   },
   "source": [
    "Great news, the data we are looking at does not have any missing entries.  There are 1,599 rows of data with 12 columns each. Everything is stored as numeric variables.  \n",
    "\n",
    "Next up, we see if there are any duplicate entries in the data, if there are - get rid of them.\n"
   ]
  },
  {
   "cell_type": "code",
   "execution_count": 6,
   "id": "a47d1cff1b973cba",
   "metadata": {
    "ExecuteTime": {
     "end_time": "2024-04-01T17:55:12.334885Z",
     "start_time": "2024-04-01T17:55:12.314084Z"
    },
    "collapsed": false,
    "jupyter": {
     "outputs_hidden": false
    },
    "metadata": {}
   },
   "outputs": [
    {
     "name": "stdout",
     "output_type": "stream",
     "text": [
      "Removed 240 duplicate rows\n"
     ]
    }
   ],
   "source": [
    "wine_df = remove_duplicates(wine_df)"
   ]
  },
  {
   "cell_type": "markdown",
   "id": "ebf7cbb549571e8b",
   "metadata": {
    "collapsed": false,
    "jupyter": {
     "outputs_hidden": false
    }
   },
   "source": [
    "We can see that, there were 240 duplicates in the dataset, which have been removed, we can see that by the output of our function.\n",
    "\n",
    "Now, we describe the data to get a better understanding of the distribution of the features."
   ]
  },
  {
   "cell_type": "code",
   "execution_count": 7,
   "id": "f0d8435d524b2fb9",
   "metadata": {
    "ExecuteTime": {
     "end_time": "2024-04-01T17:55:12.361083Z",
     "start_time": "2024-04-01T17:55:12.335877Z"
    },
    "collapsed": false,
    "jupyter": {
     "outputs_hidden": false
    },
    "metadata": {}
   },
   "outputs": [
    {
     "data": {
      "text/html": [
       "<div>\n",
       "<style scoped>\n",
       "    .dataframe tbody tr th:only-of-type {\n",
       "        vertical-align: middle;\n",
       "    }\n",
       "\n",
       "    .dataframe tbody tr th {\n",
       "        vertical-align: top;\n",
       "    }\n",
       "\n",
       "    .dataframe thead th {\n",
       "        text-align: right;\n",
       "    }\n",
       "</style>\n",
       "<table border=\"1\" class=\"dataframe\">\n",
       "  <thead>\n",
       "    <tr style=\"text-align: right;\">\n",
       "      <th></th>\n",
       "      <th>count</th>\n",
       "      <th>mean</th>\n",
       "      <th>std</th>\n",
       "      <th>min</th>\n",
       "      <th>25%</th>\n",
       "      <th>50%</th>\n",
       "      <th>75%</th>\n",
       "      <th>max</th>\n",
       "    </tr>\n",
       "  </thead>\n",
       "  <tbody>\n",
       "    <tr>\n",
       "      <th>fixed acidity</th>\n",
       "      <td>1359.0</td>\n",
       "      <td>8.310596</td>\n",
       "      <td>1.736990</td>\n",
       "      <td>4.60000</td>\n",
       "      <td>7.1000</td>\n",
       "      <td>7.9000</td>\n",
       "      <td>9.20000</td>\n",
       "      <td>15.90000</td>\n",
       "    </tr>\n",
       "    <tr>\n",
       "      <th>volatile acidity</th>\n",
       "      <td>1359.0</td>\n",
       "      <td>0.529478</td>\n",
       "      <td>0.183031</td>\n",
       "      <td>0.12000</td>\n",
       "      <td>0.3900</td>\n",
       "      <td>0.5200</td>\n",
       "      <td>0.64000</td>\n",
       "      <td>1.58000</td>\n",
       "    </tr>\n",
       "    <tr>\n",
       "      <th>citric acid</th>\n",
       "      <td>1359.0</td>\n",
       "      <td>0.272333</td>\n",
       "      <td>0.195537</td>\n",
       "      <td>0.00000</td>\n",
       "      <td>0.0900</td>\n",
       "      <td>0.2600</td>\n",
       "      <td>0.43000</td>\n",
       "      <td>1.00000</td>\n",
       "    </tr>\n",
       "    <tr>\n",
       "      <th>residual sugar</th>\n",
       "      <td>1359.0</td>\n",
       "      <td>2.523400</td>\n",
       "      <td>1.352314</td>\n",
       "      <td>0.90000</td>\n",
       "      <td>1.9000</td>\n",
       "      <td>2.2000</td>\n",
       "      <td>2.60000</td>\n",
       "      <td>15.50000</td>\n",
       "    </tr>\n",
       "    <tr>\n",
       "      <th>chlorides</th>\n",
       "      <td>1359.0</td>\n",
       "      <td>0.088124</td>\n",
       "      <td>0.049377</td>\n",
       "      <td>0.01200</td>\n",
       "      <td>0.0700</td>\n",
       "      <td>0.0790</td>\n",
       "      <td>0.09100</td>\n",
       "      <td>0.61100</td>\n",
       "    </tr>\n",
       "    <tr>\n",
       "      <th>free sulfur dioxide</th>\n",
       "      <td>1359.0</td>\n",
       "      <td>15.893304</td>\n",
       "      <td>10.447270</td>\n",
       "      <td>1.00000</td>\n",
       "      <td>7.0000</td>\n",
       "      <td>14.0000</td>\n",
       "      <td>21.00000</td>\n",
       "      <td>72.00000</td>\n",
       "    </tr>\n",
       "    <tr>\n",
       "      <th>total sulfur dioxide</th>\n",
       "      <td>1359.0</td>\n",
       "      <td>46.825975</td>\n",
       "      <td>33.408946</td>\n",
       "      <td>6.00000</td>\n",
       "      <td>22.0000</td>\n",
       "      <td>38.0000</td>\n",
       "      <td>63.00000</td>\n",
       "      <td>289.00000</td>\n",
       "    </tr>\n",
       "    <tr>\n",
       "      <th>density</th>\n",
       "      <td>1359.0</td>\n",
       "      <td>0.996709</td>\n",
       "      <td>0.001869</td>\n",
       "      <td>0.99007</td>\n",
       "      <td>0.9956</td>\n",
       "      <td>0.9967</td>\n",
       "      <td>0.99782</td>\n",
       "      <td>1.00369</td>\n",
       "    </tr>\n",
       "    <tr>\n",
       "      <th>pH</th>\n",
       "      <td>1359.0</td>\n",
       "      <td>3.309787</td>\n",
       "      <td>0.155036</td>\n",
       "      <td>2.74000</td>\n",
       "      <td>3.2100</td>\n",
       "      <td>3.3100</td>\n",
       "      <td>3.40000</td>\n",
       "      <td>4.01000</td>\n",
       "    </tr>\n",
       "    <tr>\n",
       "      <th>sulphates</th>\n",
       "      <td>1359.0</td>\n",
       "      <td>0.658705</td>\n",
       "      <td>0.170667</td>\n",
       "      <td>0.33000</td>\n",
       "      <td>0.5500</td>\n",
       "      <td>0.6200</td>\n",
       "      <td>0.73000</td>\n",
       "      <td>2.00000</td>\n",
       "    </tr>\n",
       "    <tr>\n",
       "      <th>alcohol</th>\n",
       "      <td>1359.0</td>\n",
       "      <td>10.432315</td>\n",
       "      <td>1.082065</td>\n",
       "      <td>8.40000</td>\n",
       "      <td>9.5000</td>\n",
       "      <td>10.2000</td>\n",
       "      <td>11.10000</td>\n",
       "      <td>14.90000</td>\n",
       "    </tr>\n",
       "    <tr>\n",
       "      <th>quality</th>\n",
       "      <td>1359.0</td>\n",
       "      <td>5.623252</td>\n",
       "      <td>0.823578</td>\n",
       "      <td>3.00000</td>\n",
       "      <td>5.0000</td>\n",
       "      <td>6.0000</td>\n",
       "      <td>6.00000</td>\n",
       "      <td>8.00000</td>\n",
       "    </tr>\n",
       "  </tbody>\n",
       "</table>\n",
       "</div>"
      ],
      "text/plain": [
       "                       count       mean        std      min      25%      50%  \\\n",
       "fixed acidity         1359.0   8.310596   1.736990  4.60000   7.1000   7.9000   \n",
       "volatile acidity      1359.0   0.529478   0.183031  0.12000   0.3900   0.5200   \n",
       "citric acid           1359.0   0.272333   0.195537  0.00000   0.0900   0.2600   \n",
       "residual sugar        1359.0   2.523400   1.352314  0.90000   1.9000   2.2000   \n",
       "chlorides             1359.0   0.088124   0.049377  0.01200   0.0700   0.0790   \n",
       "free sulfur dioxide   1359.0  15.893304  10.447270  1.00000   7.0000  14.0000   \n",
       "total sulfur dioxide  1359.0  46.825975  33.408946  6.00000  22.0000  38.0000   \n",
       "density               1359.0   0.996709   0.001869  0.99007   0.9956   0.9967   \n",
       "pH                    1359.0   3.309787   0.155036  2.74000   3.2100   3.3100   \n",
       "sulphates             1359.0   0.658705   0.170667  0.33000   0.5500   0.6200   \n",
       "alcohol               1359.0  10.432315   1.082065  8.40000   9.5000  10.2000   \n",
       "quality               1359.0   5.623252   0.823578  3.00000   5.0000   6.0000   \n",
       "\n",
       "                           75%        max  \n",
       "fixed acidity          9.20000   15.90000  \n",
       "volatile acidity       0.64000    1.58000  \n",
       "citric acid            0.43000    1.00000  \n",
       "residual sugar         2.60000   15.50000  \n",
       "chlorides              0.09100    0.61100  \n",
       "free sulfur dioxide   21.00000   72.00000  \n",
       "total sulfur dioxide  63.00000  289.00000  \n",
       "density                0.99782    1.00369  \n",
       "pH                     3.40000    4.01000  \n",
       "sulphates              0.73000    2.00000  \n",
       "alcohol               11.10000   14.90000  \n",
       "quality                6.00000    8.00000  "
      ]
     },
     "execution_count": 7,
     "metadata": {},
     "output_type": "execute_result"
    }
   ],
   "source": [
    "wine_df.describe().T"
   ]
  },
  {
   "cell_type": "markdown",
   "id": "6d7ddc10bc09584d",
   "metadata": {
    "collapsed": false,
    "jupyter": {
     "outputs_hidden": false
    }
   },
   "source": [
    "Those 12 columns represent the following features:\n",
    "\n",
    "\n",
    "\n",
    "* **Fixed Acidity:** The average value is 8.31, the highest value is 15.9.\n",
    "* **Volatile Acidity:** The average value is 0.529, the highest value is 1.58.\n",
    "* **Citric Acid:** The average value is 0.272, the highest value is 1.00.\n",
    "* **Residual Sugar:** The average value is 2.523, the highest value is 15.5.\n",
    "* **Chlorides:** The average value is 0.088, the highest value is 0.611.\n",
    "* **Free Sulfur Dioxide:** The average value is 15.89, the highest value is 72.00.\n",
    "* **Total Sulfur Dioxide:** The average value is 46.82, the highest value is 289.00.\n",
    "* **Density:** The average value is 0.996, the highest value is 1.004.\n",
    "* **pH:** The average value is 3.3, the highest value is 4.01.\n",
    "* **Sulphates:** The average value is 0.65, the highest value is 2.00.\n",
    "* **Alcohol:** The average value is 10.43, the highest value is 14.90.\n",
    "* **Quality:** The average value is 5.62, the highest value is 8.00.\n",
    "\n",
    "Afterwards, we can rename the features to be able to use them more easily.\n"
   ]
  },
  {
   "cell_type": "code",
   "execution_count": 8,
   "id": "747ab62811008d0c",
   "metadata": {
    "ExecuteTime": {
     "end_time": "2024-04-01T17:55:12.378113Z",
     "start_time": "2024-04-01T17:55:12.362066Z"
    },
    "collapsed": false,
    "jupyter": {
     "outputs_hidden": false
    },
    "metadata": {}
   },
   "outputs": [
    {
     "data": {
      "text/plain": [
       "['fixed acidity',\n",
       " 'volatile acidity',\n",
       " 'citric acid',\n",
       " 'residual sugar',\n",
       " 'chlorides',\n",
       " 'free sulfur dioxide',\n",
       " 'total sulfur dioxide',\n",
       " 'density',\n",
       " 'pH',\n",
       " 'sulphates',\n",
       " 'alcohol',\n",
       " 'quality']"
      ]
     },
     "execution_count": 8,
     "metadata": {},
     "output_type": "execute_result"
    }
   ],
   "source": [
    "get_columns(wine_df)"
   ]
  },
  {
   "cell_type": "code",
   "execution_count": 9,
   "id": "fb0c1b9ecb8dc7ea",
   "metadata": {
    "ExecuteTime": {
     "end_time": "2024-04-01T17:55:12.393448Z",
     "start_time": "2024-04-01T17:55:12.378810Z"
    },
    "collapsed": false,
    "jupyter": {
     "outputs_hidden": false
    },
    "metadata": {}
   },
   "outputs": [],
   "source": [
    "wine_df.rename(\n",
    "    columns={\n",
    "        \"fixed acidity\": \"fixed_acidity\",\n",
    "        \"volatile acidity\": \"volatile_acidity\",\n",
    "        \"citric acid\": \"citric_acid\",\n",
    "        \"residual sugar\": \"residual_sugar\",\n",
    "        \"free sulfur dioxide\": \"free_sulfur_dioxide\",\n",
    "        \"total sulfur dioxide\": \"total_sulfur_dioxide\",\n",
    "    },\n",
    "    inplace=True,\n",
    ")"
   ]
  },
  {
   "cell_type": "markdown",
   "id": "583bc1e7b865e9c2",
   "metadata": {
    "collapsed": false,
    "jupyter": {
     "outputs_hidden": false
    }
   },
   "source": [
    "After fixing the columns names, we can check for the outliers in the features itself."
   ]
  },
  {
   "cell_type": "code",
   "execution_count": 10,
   "id": "ff4c49f99e5e6681",
   "metadata": {
    "ExecuteTime": {
     "end_time": "2024-04-01T17:55:12.425057Z",
     "start_time": "2024-04-01T17:55:12.395470Z"
    },
    "collapsed": false,
    "jupyter": {
     "outputs_hidden": false
    },
    "metadata": {}
   },
   "outputs": [
    {
     "data": {
      "application/vnd.plotly.v1+json": {
       "config": {
        "plotlyServerURL": "https://plot.ly"
       },
       "data": [
        {
         "boxpoints": "outliers",
         "line": {
          "color": "#7BC0FF"
         },
         "marker": {
          "color": "#5684F7"
         },
         "name": "fixed_acidity",
         "type": "box",
         "y": {
          "bdata": "mpmZmZmZHUAzMzMzMzMfQDMzMzMzMx9AZmZmZmZmJkCamZmZmZkdQJqZmZmZmR9AMzMzMzMzHUAzMzMzMzMfQAAAAAAAAB5AzczMzMzMGkBmZmZmZmYWQDMzMzMzMx9AzczMzMzMIUDNzMzMzMwhQAAAAAAAACFAMzMzMzMzIECamZmZmZkdQJqZmZmZmR9AzczMzMzMIUBmZmZmZmYeQJqZmZmZmR9AAAAAAAAAIUCamZmZmZkbQDMzMzMzMxlAZmZmZmZmHkBmZmZmZmYcQDMzMzMzMx9AzczMzMzMGkCamZmZmZkbQJqZmZmZmSBAmpmZmZmZG0DNzMzMzMwUQDMzMzMzMx9AMzMzMzMzH0AzMzMzMzMgQM3MzMzMzBZAMzMzMzMzHUCamZmZmZkhQAAAAAAAAB5AMzMzMzMzIEAzMzMzMzMbQGZmZmZmZhJAzczMzMzMHkBmZmZmZmYhQJqZmZmZmRlAZmZmZmZmFkCamZmZmZkhQGZmZmZmZhpAZmZmZmZmGkAzMzMzMzMhQGZmZmZmZh5AzczMzMzMHkBmZmZmZmYkQAAAAAAAAB5AMzMzMzMzH0AzMzMzMzMdQJqZmZmZmSFAzczMzMzMHkAAAAAAAAAeQAAAAAAAABxAzczMzMzMHEAAAAAAAAAeQGZmZmZmZhpAmpmZmZmZIkAAAAAAAAAgQM3MzMzMzB5AzczMzMzMHkDNzMzMzMweQJqZmZmZmSBAZmZmZmZmI0CamZmZmZkhQDMzMzMzMxtAzczMzMzMGkCamZmZmZkgQM3MzMzMzBhAMzMzMzMzH0CamZmZmZkdQDMzMzMzMx1AMzMzMzMzGUCamZmZmZkbQDMzMzMzMyFAzczMzMzMHkCamZmZmZkiQAAAAAAAABxAmpmZmZmZH0AzMzMzMzMhQAAAAAAAABRAzczMzMzMEkAzMzMzMzMbQAAAAAAAABxAZmZmZmZmHkAzMzMzMzMgQJqZmZmZmSBAMzMzMzMzH0AzMzMzMzMgQM3MzMzMzBxAMzMzMzMzH0DNzMzMzMwYQAAAAAAAACBAMzMzMzMzIEAzMzMzMzMfQM3MzMzMzCBAzczMzMzMIEAzMzMzMzMkQM3MzMzMzCJAmpmZmZmZIEAzMzMzMzMfQJqZmZmZmSFAAAAAAAAAHEAzMzMzMzMdQDMzMzMzMx1AAAAAAAAAIEAzMzMzMzMfQAAAAAAAACJAZmZmZmZmIEAzMzMzMzMgQAAAAAAAACBAZmZmZmZmGEAAAAAAAAAgQGZmZmZmZhZAZmZmZmZmGkCamZmZmZkfQM3MzMzMzCBAmpmZmZmZIEDNzMzMzMwcQDMzMzMzMx9AMzMzMzMzH0DNzMzMzMwUQDMzMzMzMxlAMzMzMzMzIEAzMzMzMzMXQGZmZmZmZh5AmpmZmZmZG0BmZmZmZmYgQDMzMzMzMx1AZmZmZmZmIkAAAAAAAAAeQGZmZmZmZhxAZmZmZmZmHEBmZmZmZmYcQDMzMzMzMxtAZmZmZmZmHkBmZmZmZmYeQDMzMzMzMx9AmpmZmZmZHUAzMzMzMzMdQDMzMzMzMx9AMzMzMzMzG0AzMzMzMzMdQDMzMzMzMxtAAAAAAAAAHkCamZmZmZkfQAAAAAAAACBAmpmZmZmZHUAzMzMzMzMdQJqZmZmZmRtAAAAAAAAAHkAAAAAAAAAcQJqZmZmZmSFAzczMzMzMIUDNzMzMzMwcQDMzMzMzMxtAzczMzMzMGkDNzMzMzMwhQJqZmZmZmR1AzczMzMzMHkCamZmZmZkfQJqZmZmZmR9AZmZmZmZmIECamZmZmZkZQDMzMzMzMxtAZmZmZmZmHkAzMzMzMzMfQDMzMzMzMx1AAAAAAAAAJ0CamZmZmZkVQJqZmZmZmRtAMzMzMzMzI0CamZmZmZkhQDMzMzMzMxtAAAAAAAAAHEAAAAAAAAAcQJqZmZmZmSlAMzMzMzMzH0AzMzMzMzMfQAAAAAAAACZAZmZmZmZmI0AAAAAAAAAgQDMzMzMzMydAZmZmZmZmIEAzMzMzMzMfQAAAAAAAABxAZmZmZmZmIUAzMzMzMzMgQAAAAAAAAB5AMzMzMzMzH0AzMzMzMzMfQJqZmZmZmR1AMzMzMzMzG0AzMzMzMzMhQM3MzMzMzCBAzczMzMzMHkDNzMzMzMwhQAAAAAAAACJAmpmZmZmZG0DNzMzMzMwUQAAAAAAAACBAAAAAAAAAIUBmZmZmZmYgQM3MzMzMzBxAzczMzMzMHEDNzMzMzMwhQAAAAAAAAChAzczMzMzMHkAAAAAAAAAuQDMzMzMzMx1AZmZmZmZmHEBmZmZmZmYgQM3MzMzMzB5AmpmZmZmZJUBmZmZmZmYcQDMzMzMzMyZAzczMzMzMHkAAAAAAAAAgQM3MzMzMzCJAZmZmZmZmGkDNzMzMzMweQAAAAAAAACRAmpmZmZmZH0AAAAAAAAAcQAAAAAAAACBAmpmZmZmZH0AAAAAAAAApQJqZmZmZmSdAMzMzMzMzIECamZmZmZkfQJqZmZmZmRtAAAAAAAAAJ0CamZmZmZkfQM3MzMzMzCVAzczMzMzMIEAAAAAAAAAeQJqZmZmZmSRAzczMzMzMIUDNzMzMzMwmQM3MzMzMzB5AZmZmZmZmHkDNzMzMzMwjQAAAAAAAAChAAAAAAAAAHkBmZmZmZmYhQDMzMzMzMydAAAAAAAAAJkDNzMzMzMwkQJqZmZmZmRtAmpmZmZmZKkCamZmZmZklQDMzMzMzMyVAZmZmZmZmHEDNzMzMzMwcQJqZmZmZmRtAAAAAAAAAHkAzMzMzMzMmQJqZmZmZmSBAmpmZmZmZHUDNzMzMzMwgQJqZmZmZmSRAZmZmZmZmHkCamZmZmZkkQJqZmZmZmSRAmpmZmZmZHUCamZmZmZkfQAAAAAAAACJAMzMzMzMzIUCamZmZmZkdQGZmZmZmZhxAMzMzMzMzI0AzMzMzMzMjQJqZmZmZmSNAmpmZmZmZIkAzMzMzMzMfQJqZmZmZmSRAAAAAAAAAJEAzMzMzMzMnQJqZmZmZmSRAzczMzMzMKkBmZmZmZmYlQGZmZmZmZiRAAAAAAAAAIEDNzMzMzMwgQJqZmZmZmR9AzczMzMzMJ0DNzMzMzMwhQDMzMzMzMx9AzczMzMzMKEAAAAAAAAApQGZmZmZmZihAMzMzMzMzJUDNzMzMzMwlQM3MzMzMzCdAAAAAAAAAHEBmZmZmZmYaQJqZmZmZmStAMzMzMzMzI0AzMzMzMzMiQGZmZmZmZiVAMzMzMzMzIkDNzMzMzMweQAAAAAAAACtAZmZmZmZmGEDNzMzMzMwaQAAAAAAAACdAAAAAAAAAJUDNzMzMzMwnQDMzMzMzMylAZmZmZmZmIEAzMzMzMzMhQM3MzMzMzCdAAAAAAAAAKUCamZmZmZkpQAAAAAAAACRAzczMzMzMJECamZmZmZkkQM3MzMzMzCJAmpmZmZmZG0CamZmZmZkfQDMzMzMzMyJAmpmZmZmZHUAAAAAAAAAsQAAAAAAAACdAAAAAAAAAJ0DNzMzMzMwmQJqZmZmZmSBAmpmZmZmZIEBmZmZmZmYrQM3MzMzMzB5AmpmZmZmZHUAzMzMzMzMfQJqZmZmZmSBAMzMzMzMzH0AzMzMzMzMjQGZmZmZmZhZAAAAAAAAAI0DNzMzMzMwgQGZmZmZmZilAAAAAAAAAKEBmZmZmZmYaQAAAAAAAACdAZmZmZmZmIUDNzMzMzMweQGZmZmZmZihAzczMzMzMJkDNzMzMzMweQGZmZmZmZiFAmpmZmZmZI0AAAAAAAAAoQM3MzMzMzCRAAAAAAAAAKUAAAAAAAAAiQDMzMzMzMyJAZmZmZmZmHEDNzMzMzMwjQJqZmZmZmSFAMzMzMzMzIUAzMzMzMzMlQAAAAAAAABxAzczMzMzMJ0AzMzMzMzMbQAAAAAAAACNAZmZmZmZmGkDNzMzMzMweQAAAAAAAACVAmpmZmZmZGUAAAAAAAAAjQDMzMzMzMyJAmpmZmZmZKUAzMzMzMzMfQM3MzMzMzCdAmpmZmZmZKEDNzMzMzMwkQAAAAAAAACBAMzMzMzMzJkAAAAAAAAAcQDMzMzMzMylAzczMzMzMJ0AzMzMzMzMvQAAAAAAAACRAMzMzMzMzFUAAAAAAAAAjQAAAAAAAAClAmpmZmZmZIkAzMzMzMzMhQM3MzMzMzCdAzczMzMzMIEAzMzMzMzMbQM3MzMzMzCRAAAAAAAAAHECamZmZmZkmQM3MzMzMzCFAZmZmZmZmIkAzMzMzMzMnQGZmZmZmZiJAmpmZmZmZIEAAAAAAAAAmQDMzMzMzMyBAAAAAAAAAJ0AAAAAAAAAkQJqZmZmZmSRAmpmZmZmZIUDNzMzMzMwmQGZmZmZmZiFAAAAAAAAAKkAzMzMzMzMjQAAAAAAAAClAzczMzMzMI0AAAAAAAAAlQDMzMzMzMyNAmpmZmZmZIkDNzMzMzMwkQM3MzMzMzCJAMzMzMzMzJUDNzMzMzMwiQDMzMzMzMyVAMzMzMzMzJUAzMzMzMzMlQGZmZmZmZiRAZmZmZmZmJEAzMzMzMzMnQJqZmZmZmSJAmpmZmZmZIkBmZmZmZmYiQM3MzMzMzCFAZmZmZmZmIUAAAAAAAAAaQGZmZmZmZiVAMzMzMzMzH0DNzMzMzMwcQM3MzMzMzCRAAAAAAAAAJUAAAAAAAAAlQGZmZmZmZiRAzczMzMzMJEBmZmZmZmYmQAAAAAAAACRAmpmZmZmZKkDNzMzMzMwoQGZmZmZmZiVAAAAAAAAAJUAAAAAAAAAhQAAAAAAAAClAzczMzMzMJEDNzMzMzMwlQDMzMzMzMx1AmpmZmZmZI0BmZmZmZmYeQGZmZmZmZiBAmpmZmZmZIkBmZmZmZmYiQM3MzMzMzCRAAAAAAAAAHEBmZmZmZmYgQM3MzMzMzCNAMzMzMzMzIkDNzMzMzMwnQJqZmZmZmSRAAAAAAAAAJEAzMzMzMzMgQM3MzMzMzClAZmZmZmZmJkBmZmZmZmYiQAAAAAAAACNAmpmZmZmZIkBmZmZmZmYmQJqZmZmZmSxAMzMzMzMzIkAAAAAAAAAeQDMzMzMzMyVAzczMzMzMKEAAAAAAAAAiQDMzMzMzMxtAzczMzMzMIkAAAAAAAAAjQAAAAAAAABRAAAAAAAAAL0DNzMzMzMwlQDMzMzMzMy9AAAAAAAAAKkBmZmZmZmYpQAAAAAAAACJAAAAAAAAAIkBmZmZmZmYeQGZmZmZmZiFAmpmZmZmZI0DNzMzMzMwYQAAAAAAAACdAZmZmZmZmJEAAAAAAAAAlQDMzMzMzMyVAmpmZmZmZKEDNzMzMzMwjQJqZmZmZmSFAmpmZmZmZIUAzMzMzMzMlQJqZmZmZmShAZmZmZmZmJ0AAAAAAAAAoQJqZmZmZmSdAZmZmZmZmHkAzMzMzMzMmQDMzMzMzMx1AAAAAAAAAFEBmZmZmZmYkQAAAAAAAACJAZmZmZmZmGkDNzMzMzMwjQJqZmZmZmR9AzczMzMzMIUDNzMzMzMwoQM3MzMzMzCdAAAAAAAAAIUBmZmZmZmYpQGZmZmZmZiBAZmZmZmZmKkDNzMzMzMweQJqZmZmZmSBAmpmZmZmZIEDNzMzMzMwiQJqZmZmZmSFAMzMzMzMzJEAzMzMzMzMZQJqZmZmZmSFAZmZmZmZmKkAAAAAAAAAeQGZmZmZmZiBAZmZmZmZmIkAzMzMzMzMjQAAAAAAAACdAzczMzMzMJkCamZmZmZkmQJqZmZmZmSBAZmZmZmZmIEAAAAAAAAAkQJqZmZmZmR9AMzMzMzMzG0CamZmZmZkhQGZmZmZmZiFAZmZmZmZmHkDNzMzMzMwkQGZmZmZmZh5AMzMzMzMzJECamZmZmZkfQGZmZmZmZiFAMzMzMzMzI0AAAAAAAAAjQM3MzMzMzB5AzczMzMzMIUDNzMzMzMwjQAAAAAAAACNAMzMzMzMzH0AzMzMzMzMdQJqZmZmZmSBAZmZmZmZmIUDNzMzMzMwaQGZmZmZmZiVAmpmZmZmZI0DNzMzMzMwvQM3MzMzMzCJAMzMzMzMzIUBmZmZmZmYjQAAAAAAAAChAzczMzMzMHEBmZmZmZmYcQAAAAAAAAB5AzczMzMzMHEAzMzMzMzMkQDMzMzMzMyhAzczMzMzMIkCamZmZmZkgQJqZmZmZmSZAAAAAAAAAJECamZmZmZkbQGZmZmZmZiBAmpmZmZmZI0CamZmZmZklQJqZmZmZmSJAMzMzMzMzIUCamZmZmZkgQJqZmZmZmSVAmpmZmZmZKkAAAAAAAAAgQAAAAAAAACFAMzMzMzMzIECamZmZmZkjQGZmZmZmZhxAMzMzMzMzIkDNzMzMzMweQDMzMzMzMyBAmpmZmZmZHUBmZmZmZmYiQDMzMzMzMyFAAAAAAAAAIkAAAAAAAAAiQGZmZmZmZhRAAAAAAAAAHEDNzMzMzMwiQJqZmZmZmSdAMzMzMzMzJUAAAAAAAAAcQAAAAAAAAB5AMzMzMzMzIkDNzMzMzMwgQAAAAAAAABxAmpmZmZmZHUAzMzMzMzMfQGZmZmZmZiNAMzMzMzMzJUDNzMzMzMwhQGZmZmZmZiFAAAAAAAAAIEDNzMzMzMwjQM3MzMzMzBxAZmZmZmZmHkDNzMzMzMwgQGZmZmZmZhxAzczMzMzMIUBmZmZmZmYeQGZmZmZmZhxAAAAAAAAAHkAAAAAAAAAiQDMzMzMzMyBAmpmZmZmZGUCamZmZmZkZQAAAAAAAACNAzczMzMzMIUAzMzMzMzMdQAAAAAAAABxAzczMzMzMHkDNzMzMzMweQGZmZmZmZiBAAAAAAAAAIkAAAAAAAAAiQJqZmZmZmSBAZmZmZmZmIkAAAAAAAAAaQDMzMzMzMydAMzMzMzMzJkAzMzMzMzMdQGZmZmZmZiBAMzMzMzMzIUDNzMzMzMwcQJqZmZmZmSBAZmZmZmZmHkAzMzMzMzMfQDMzMzMzMx9AMzMzMzMzGUAzMzMzMzMgQJqZmZmZmSFAAAAAAAAAIkCamZmZmZkiQJqZmZmZmSFAMzMzMzMzIkBmZmZmZmYiQJqZmZmZmSFAAAAAAAAAHkBmZmZmZmYcQJqZmZmZmR9AzczMzMzMIkAAAAAAAAAjQJqZmZmZmR9AmpmZmZmZH0DNzMzMzMwcQJqZmZmZmRtAmpmZmZmZG0CamZmZmZkgQGZmZmZmZhxAAAAAAAAAHEAAAAAAAAAaQAAAAAAAACJAZmZmZmZmHEDNzMzMzMwjQAAAAAAAACRAMzMzMzMzIUCamZmZmZkdQJqZmZmZmSFAZmZmZmZmHEDNzMzMzMweQDMzMzMzMyRAmpmZmZmZJUBmZmZmZmYhQJqZmZmZmSJAzczMzMzMIkDNzMzMzMwcQDMzMzMzMyFAZmZmZmZmFEDNzMzMzMweQM3MzMzMzCBAZmZmZmZmIEDNzMzMzMwgQJqZmZmZmR1AZmZmZmZmHkAzMzMzMzMdQM3MzMzMzClAmpmZmZmZJUCamZmZmZkbQDMzMzMzMylAmpmZmZmZI0CamZmZmZklQGZmZmZmZhxAMzMzMzMzIkAAAAAAAAAcQJqZmZmZmRNAzczMzMzMGkBmZmZmZmYcQGZmZmZmZhxAAAAAAAAAHkAzMzMzMzMfQJqZmZmZmRdAAAAAAAAAHkDNzMzMzMwkQDMzMzMzMydAmpmZmZmZIUBmZmZmZmYeQM3MzMzMzBpAMzMzMzMzJEAAAAAAAAAYQDMzMzMzMyZAZmZmZmZmGkAzMzMzMzMlQGZmZmZmZhxAzczMzMzMI0CamZmZmZkZQJqZmZmZmR1AmpmZmZmZGUCamZmZmZkiQAAAAAAAACBAmpmZmZmZIkBmZmZmZmYeQGZmZmZmZiBAZmZmZmZmJ0AzMzMzMzMbQM3MzMzMzBxAMzMzMzMzF0AAAAAAAAAeQM3MzMzMzBxAzczMzMzMHEAzMzMzMzMbQJqZmZmZmRtAZmZmZmZmHkDNzMzMzMweQJqZmZmZmRtAMzMzMzMzHUAzMzMzMzMiQM3MzMzMzCRAmpmZmZmZIUBmZmZmZmYcQJqZmZmZmSFAzczMzMzMHEBmZmZmZmYiQGZmZmZmZh5AzczMzMzMIEDNzMzMzMwhQAAAAAAAACJAZmZmZmZmJUAzMzMzMzMbQGZmZmZmZiVAzczMzMzMHEDNzMzMzMwcQDMzMzMzMyRAzczMzMzMHEBmZmZmZmYcQJqZmZmZmSBAmpmZmZmZIEDNzMzMzMwhQJqZmZmZmR1AMzMzMzMzG0BmZmZmZmYiQM3MzMzMzBxAZmZmZmZmGECamZmZmZkdQDMzMzMzMx1AmpmZmZmZIkAzMzMzMzMiQAAAAAAAACRAzczMzMzMIkAzMzMzMzMhQDMzMzMzMxVAMzMzMzMzG0DNzMzMzMwgQM3MzMzMzCBAMzMzMzMzI0AzMzMzMzMhQDMzMzMzMyFAzczMzMzMIkDNzMzMzMwgQGZmZmZmZiFAZmZmZmZmGkCamZmZmZkdQGZmZmZmZh5AmpmZmZmZIUAAAAAAAAAoQM3MzMzMzBxAzczMzMzMGEAzMzMzMzMjQM3MzMzMzCNAMzMzMzMzJECamZmZmZkjQJqZmZmZmSBAZmZmZmZmJEBmZmZmZmYkQJqZmZmZmSBAzczMzMzMIUBmZmZmZmYgQGZmZmZmZiRAZmZmZmZmHkAAAAAAAAAhQAAAAAAAACJAAAAAAAAAI0CamZmZmZkZQAAAAAAAACBAAAAAAAAAIUBmZmZmZmYcQGZmZmZmZhpAmpmZmZmZIUCamZmZmZkgQAAAAAAAACJAAAAAAAAAIUAAAAAAAAAiQM3MzMzMzBpAzczMzMzMJEAzMzMzMzMkQAAAAAAAACFAmpmZmZmZIUDNzMzMzMwcQM3MzMzMzCBAAAAAAAAAHEBmZmZmZmYoQDMzMzMzMyJAAAAAAAAAI0AzMzMzMzMdQJqZmZmZmR1AmpmZmZmZI0BmZmZmZmYcQM3MzMzMzB5AZmZmZmZmI0BmZmZmZmYcQAAAAAAAABpAAAAAAAAAJEDNzMzMzMweQGZmZmZmZhZAzczMzMzMIUCamZmZmZkZQAAAAAAAAB5AzczMzMzMI0AzMzMzMzMiQDMzMzMzMxtAZmZmZmZmIEAzMzMzMzMiQM3MzMzMzCFAMzMzMzMzI0DNzMzMzMwhQM3MzMzMzCFAzczMzMzMHkAAAAAAAAAeQAAAAAAAACBAAAAAAAAAJUDNzMzMzMwhQAAAAAAAACBAAAAAAAAAHECamZmZmZkmQAAAAAAAABxAZmZmZmZmIEDNzMzMzMweQDMzMzMzMyFAmpmZmZmZH0CamZmZmZkZQM3MzMzMzBxAZmZmZmZmHEAzMzMzMzMdQDMzMzMzMyBAAAAAAAAAHkDNzMzMzMwhQDMzMzMzMyRAZmZmZmZmHkAzMzMzMzMdQGZmZmZmZiFAzczMzMzMIUCamZmZmZkdQJqZmZmZmRtAAAAAAAAAI0CamZmZmZkZQJqZmZmZmRtAZmZmZmZmHkBmZmZmZmYcQJqZmZmZmSJAmpmZmZmZIkAAAAAAAAAhQGZmZmZmZhZAmpmZmZmZIEBmZmZmZmYgQM3MzMzMzCFAZmZmZmZmHkDNzMzMzMwjQDMzMzMzMydAMzMzMzMzIkAAAAAAAAAgQGZmZmZmZiRAZmZmZmZmIEDNzMzMzMweQGZmZmZmZhpAMzMzMzMzJkAAAAAAAAAgQJqZmZmZmSJAAAAAAAAAHkDNzMzMzMwcQAAAAAAAACBAMzMzMzMzIkDNzMzMzMwjQDMzMzMzMyFAmpmZmZmZH0CamZmZmZkkQJqZmZmZmR9AzczMzMzMHEBmZmZmZmYhQDMzMzMzMxtAAAAAAAAAIUCamZmZmZkfQDMzMzMzMydAAAAAAAAAJECamZmZmZkfQAAAAAAAABxAZmZmZmZmIkBmZmZmZmYaQM3MzMzMzCJAMzMzMzMzIUAAAAAAAAAgQM3MzMzMzCBAmpmZmZmZHUBmZmZmZmYYQAAAAAAAACBAMzMzMzMzGUBmZmZmZmYgQDMzMzMzMyJAMzMzMzMzIECamZmZmZklQJqZmZmZmSBAmpmZmZmZFUCamZmZmZkfQM3MzMzMzCFAAAAAAAAAFEAAAAAAAAAcQGZmZmZmZhxAZmZmZmZmFkCamZmZmZkfQGZmZmZmZhpAMzMzMzMzGUBmZmZmZmYlQAAAAAAAABpAmpmZmZmZIUAzMzMzMzMXQDMzMzMzMxlAAAAAAAAAJEAAAAAAAAAlQDMzMzMzMyJAmpmZmZmZF0CamZmZmZkdQM3MzMzMzBxAAAAAAAAAIUAAAAAAAAAgQM3MzMzMzCRAAAAAAAAAHkBmZmZmZmYgQDMzMzMzMx1AZmZmZmZmIECamZmZmZkbQAAAAAAAABxAMzMzMzMzHUBmZmZmZmYgQDMzMzMzMx9AAAAAAAAAJEAzMzMzMzMfQAAAAAAAACRAZmZmZmZmIEBmZmZmZmYYQJqZmZmZmSBAMzMzMzMzI0BmZmZmZmYaQAAAAAAAACFAZmZmZmZmFEDNzMzMzMwaQGZmZmZmZiRAMzMzMzMzJUCamZmZmZkhQAAAAAAAACFAAAAAAAAAIkAAAAAAAAAhQM3MzMzMzCNAZmZmZmZmIEAAAAAAAAAaQGZmZmZmZh5AZmZmZmZmIkBmZmZmZmYcQGZmZmZmZiNAZmZmZmZmHkAAAAAAAAAaQAAAAAAAABpAZmZmZmZmHEBmZmZmZmYWQGZmZmZmZiBAmpmZmZmZI0BmZmZmZmYkQDMzMzMzMxtAzczMzMzMGkAAAAAAAAAcQGZmZmZmZhpAmpmZmZmZIUAzMzMzMzMiQAAAAAAAABpAzczMzMzMHECamZmZmZkZQAAAAAAAABxAzczMzMzMGECamZmZmZkfQM3MzMzMzB5AzczMzMzMHkCamZmZmZkfQDMzMzMzMyFAzczMzMzMI0DNzMzMzMwcQM3MzMzMzCNAzczMzMzMGEAzMzMzMzMbQGZmZmZmZhpAMzMzMzMzI0BmZmZmZmYkQJqZmZmZmSFAmpmZmZmZH0BmZmZmZmYgQGZmZmZmZiBAAAAAAAAAIkDNzMzMzMwlQDMzMzMzMyBAAAAAAAAAJUAzMzMzMzMpQGZmZmZmZiJAAAAAAAAAHkAAAAAAAAAiQGZmZmZmZhRAZmZmZmZmHkDNzMzMzMweQDMzMzMzMx9AZmZmZmZmJEBmZmZmZmYcQAAAAAAAABhAMzMzMzMzH0AzMzMzMzMgQAAAAAAAABpAAAAAAAAAHkCamZmZmZkjQAAAAAAAACJAmpmZmZmZIECamZmZmZkXQJqZmZmZmR1AmpmZmZmZHUCamZmZmZkbQGZmZmZmZhxAAAAAAAAAHkBmZmZmZmYcQJqZmZmZmR9AMzMzMzMzH0BmZmZmZmYYQAAAAAAAAB5AAAAAAAAAHEAzMzMzMzMbQDMzMzMzMyFAMzMzMzMzGUCamZmZmZkjQGZmZmZmZiBAAAAAAAAAIUDNzMzMzMwcQM3MzMzMzCRAmpmZmZmZG0AAAAAAAAAWQAAAAAAAABRAMzMzMzMzHUCamZmZmZkXQAAAAAAAAB5AMzMzMzMzH0AAAAAAAAAgQAAAAAAAACFAAAAAAAAAHECamZmZmZkjQGZmZmZmZhxAmpmZmZmZH0BmZmZmZmYhQAAAAAAAABxAmpmZmZmZJkBmZmZmZmYcQAAAAAAAACBAAAAAAAAAHEBmZmZmZmYeQGZmZmZmZiBAmpmZmZmZF0AAAAAAAAAeQGZmZmZmZhpAzczMzMzMHEDNzMzMzMwWQGZmZmZmZh5AzczMzMzMFEDNzMzMzMwaQDMzMzMzMyJAAAAAAAAAIEBmZmZmZmYeQAAAAAAAAB5AZmZmZmZmI0AzMzMzMzMbQAAAAAAAABxAAAAAAAAAGkAAAAAAAAAgQAAAAAAAABxAAAAAAAAAHEAAAAAAAAAeQJqZmZmZmRVAzczMzMzMI0AzMzMzMzMiQGZmZmZmZiNAAAAAAAAAFEAzMzMzMzMiQDMzMzMzMyJAzczMzMzMGkAAAAAAAAAaQJqZmZmZmR1AMzMzMzMzH0DNzMzMzMwgQDMzMzMzMyJAzczMzMzMHEBmZmZmZmYaQAAAAAAAABhAAAAAAAAAHkBmZmZmZmYeQAAAAAAAACdAZmZmZmZmIEBmZmZmZmYYQM3MzMzMzBxAmpmZmZmZG0AAAAAAAAAiQM3MzMzMzBxAZmZmZmZmHkDNzMzMzMwcQGZmZmZmZhhAZmZmZmZmGEAzMzMzMzMdQJqZmZmZmR1AMzMzMzMzJ0BmZmZmZmYiQJqZmZmZmSBAAAAAAAAAIEDNzMzMzMwcQDMzMzMzMx9AMzMzMzMzHUCamZmZmZkbQAAAAAAAACBAZmZmZmZmGkBmZmZmZmYhQAAAAAAAAB5AzczMzMzMHkAzMzMzMzMbQM3MzMzMzBxAZmZmZmZmIEDNzMzMzMwUQM3MzMzMzBxAAAAAAAAAHkAzMzMzMzMbQAAAAAAAACBAZmZmZmZmHEAAAAAAAAAgQJqZmZmZmR1AZmZmZmZmGkDNzMzMzMwaQAAAAAAAABhAAAAAAAAAIEBmZmZmZmYcQAAAAAAAACBAmpmZmZmZGUAzMzMzMzMhQGZmZmZmZiFAMzMzMzMzHUAAAAAAAAAcQM3MzMzMzBxAmpmZmZmZH0BmZmZmZmYeQM3MzMzMzBxAAAAAAAAAIEDNzMzMzMweQGZmZmZmZiBAAAAAAAAAGEAzMzMzMzMgQGZmZmZmZhpAmpmZmZmZGUDNzMzMzMwjQAAAAAAAACRAzczMzMzMGEAzMzMzMzMdQDMzMzMzMx9AzczMzMzMHkAAAAAAAAAeQAAAAAAAABxAmpmZmZmZGUCamZmZmZkgQM3MzMzMzB5AZmZmZmZmHkAzMzMzMzMfQJqZmZmZmR9AmpmZmZmZHUBmZmZmZmYeQJqZmZmZmRdAZmZmZmZmGEBmZmZmZmYkQAAAAAAAACRAMzMzMzMzG0AAAAAAAAAcQDMzMzMzMx1AzczMzMzMHECamZmZmZkdQJqZmZmZmRtAmpmZmZmZG0AzMzMzMzMdQJqZmZmZmR1AMzMzMzMzG0CamZmZmZkbQM3MzMzMzBxAMzMzMzMzH0BmZmZmZmYaQGZmZmZmZh5AZmZmZmZmJ0AAAAAAAAAaQAAAAAAAABhAzczMzMzMIECamZmZmZkfQJqZmZmZmRlAzczMzMzMGEAzMzMzMzMbQJqZmZmZmRtAMzMzMzMzG0AzMzMzMzMdQM3MzMzMzBpAMzMzMzMzHUAAAAAAAAAkQM3MzMzMzBpAZmZmZmZmHkBmZmZmZmYYQM3MzMzMzCNAMzMzMzMzFUAzMzMzMzMVQGZmZmZmZhxAZmZmZmZmIEBmZmZmZmYWQM3MzMzMzBxAMzMzMzMzIEAzMzMzMzMbQAAAAAAAABxAMzMzMzMzG0AAAAAAAAAYQGZmZmZmZhZAzczMzMzMGEBmZmZmZmYcQM3MzMzMzBhAzczMzMzMHkCamZmZmZkZQAAAAAAAABxAmpmZmZmZG0BmZmZmZmYaQAAAAAAAAB5AMzMzMzMzH0AzMzMzMzMdQM3MzMzMzBhAAAAAAAAAHkDNzMzMzMwaQDMzMzMzMxtAZmZmZmZmHECamZmZmZkfQJqZmZmZmRlAZmZmZmZmHECamZmZmZkZQJqZmZmZmRlAmpmZmZmZG0CamZmZmZkbQGZmZmZmZhhAAAAAAAAAGkCamZmZmZkdQGZmZmZmZhpAmpmZmZmZG0AzMzMzMzMbQAAAAAAAABhAzczMzMzMGkAzMzMzMzMbQGZmZmZmZhxAmpmZmZmZH0BmZmZmZmYcQGZmZmZmZhpAZmZmZmZmGEDNzMzMzMwcQAAAAAAAACBAZmZmZmZmGkAAAAAAAAAcQGZmZmZmZhhAmpmZmZmZFUDNzMzMzMwYQM3MzMzMzBxAzczMzMzMGECamZmZmZkdQM3MzMzMzBpAMzMzMzMzJkDNzMzMzMwgQAAAAAAAABpAAAAAAAAAHEAzMzMzMzMZQGZmZmZmZiZAmpmZmZmZHUBmZmZmZmYcQGZmZmZmZhxAMzMzMzMzGUAzMzMzMzMdQGZmZmZmZhpAAAAAAAAAHEBmZmZmZmYaQJqZmZmZmRtAMzMzMzMzH0DNzMzMzMwcQM3MzMzMzBpAzczMzMzMGkAAAAAAAAAcQM3MzMzMzBhAmpmZmZmZGUCamZmZmZkZQDMzMzMzMx1AAAAAAAAAGEBmZmZmZmYWQAAAAAAAAB5AAAAAAAAAIEDNzMzMzMwYQDMzMzMzMxtAzczMzMzMGECamZmZmZkdQGZmZmZmZhhAzczMzMzMGEDNzMzMzMwaQM3MzMzMzBxAAAAAAAAAHkAzMzMzMzMXQM3MzMzMzBxAZmZmZmZmGkAzMzMzMzMZQJqZmZmZmRVAMzMzMzMzGUAzMzMzMzMbQM3MzMzMzBhAmpmZmZmZF0CamZmZmZkXQAAAAAAAABhA",
          "dtype": "f8"
         }
        },
        {
         "boxpoints": "outliers",
         "line": {
          "color": "#7BC0FF"
         },
         "marker": {
          "color": "#3A5CED"
         },
         "name": "volatile_acidity",
         "type": "box",
         "y": {
          "bdata": "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",
          "dtype": "f8"
         }
        },
        {
         "boxpoints": "outliers",
         "line": {
          "color": "#7BC0FF"
         },
         "marker": {
          "color": "#7E7AE6"
         },
         "name": "citric_acid",
         "type": "box",
         "y": {
          "bdata": "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",
          "dtype": "f8"
         }
        },
        {
         "boxpoints": "outliers",
         "line": {
          "color": "#7BC0FF"
         },
         "marker": {
          "color": "#C2A9FF"
         },
         "name": "residual_sugar",
         "type": "box",
         "y": {
          "bdata": "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",
          "dtype": "f8"
         }
        },
        {
         "boxpoints": "outliers",
         "line": {
          "color": "#7BC0FF"
         },
         "marker": {
          "color": "#5684F7"
         },
         "name": "chlorides",
         "type": "box",
         "y": {
          "bdata": "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",
          "dtype": "f8"
         }
        },
        {
         "boxpoints": "outliers",
         "line": {
          "color": "#7BC0FF"
         },
         "marker": {
          "color": "#3A5CED"
         },
         "name": "free_sulfur_dioxide",
         "type": "box",
         "y": {
          "bdata": "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",
          "dtype": "f8"
         }
        },
        {
         "boxpoints": "outliers",
         "line": {
          "color": "#7BC0FF"
         },
         "marker": {
          "color": "#7E7AE6"
         },
         "name": "total_sulfur_dioxide",
         "type": "box",
         "y": {
          "bdata": "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",
          "dtype": "f8"
         }
        },
        {
         "boxpoints": "outliers",
         "line": {
          "color": "#7BC0FF"
         },
         "marker": {
          "color": "#C2A9FF"
         },
         "name": "density",
         "type": "box",
         "y": {
          "bdata": "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",
          "dtype": "f8"
         }
        },
        {
         "boxpoints": "outliers",
         "line": {
          "color": "#7BC0FF"
         },
         "marker": {
          "color": "#5684F7"
         },
         "name": "pH",
         "type": "box",
         "y": {
          "bdata": "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",
          "dtype": "f8"
         }
        },
        {
         "boxpoints": "outliers",
         "line": {
          "color": "#7BC0FF"
         },
         "marker": {
          "color": "#3A5CED"
         },
         "name": "sulphates",
         "type": "box",
         "y": {
          "bdata": "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",
          "dtype": "f8"
         }
        },
        {
         "boxpoints": "outliers",
         "line": {
          "color": "#7BC0FF"
         },
         "marker": {
          "color": "#7E7AE6"
         },
         "name": "alcohol",
         "type": "box",
         "y": {
          "bdata": "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",
          "dtype": "f8"
         }
        },
        {
         "boxpoints": "outliers",
         "line": {
          "color": "#7BC0FF"
         },
         "marker": {
          "color": "#C2A9FF"
         },
         "name": "quality",
         "type": "box",
         "y": {
          "bdata": "BQUFBgUFBwcFBQUFBQUHBQQGBgUFBQYFBQUGBQYFBgUGBgcEBQQGBQUEBQUFBQUGBgUGBQUFBQYFBQcFBQUFBQYGBQUEBQUGBQQFBQUFBgUGBQUFBQUEBgUFBQYGBgUFBQUGBQUFBQYGBgYGBgUFBQUFBQUHBQUFBgYFBQUFBQYFBQUFBgYGBAUFBQUGBQQGBQUFBQQGBQQGBgUFBgUFBQUFBgUFBQUFBQYFBQUFBgcEBwUFBQYHBQUHBgYGBQYFBQUFBQYFBQYEBgYFBQcGBgYGBgUGBgcGBQUGBgYFBQUFBQUHBQQFBQUHBAgGBgYFBQUIBwYHBQUGBgcFBQYGBgUFBQUFBgYFBQUGBQYGBgYGBQUGBQYHBQUGBgcFBgUGBgUHBwYFBgcGBgYGBQcGBgYGBgUFBgYFBwcGBQYFBQcGBQUHBQYGBQYHBgYGBgYFBgYGBgcIBQUFBwUGBQYGBgUGBgcGBAYFBQcFBQYFBgUHBwUHBgYFBgUGBQYGBgUIBgcHBwYFBQYGBgYHBQgFBQMGBQUFBgUGBgYFBQYGBQYFBQYGBQgFBQYFBgcGBgcHBgYIBgUHBwcHBwYGBwUGBwUGAwYFBgUFBQUFBgYFBgUGBgYHBQUGBQYGBQYGBgYGBgYFBQYFBgUFBQYGBgYGBQQGBgQFBQYFBQcHBgcFCAcFBgUFBQYGBgYEBgUGBgcGBgYFBQYFBgUGBQUFBQUGBQUGBQUGBAUFBQUHBgUFBwUEBwYFBQUGBQUHBgQFBgYFBQYGBQUFBQYFBQUFBQYFBQUFBQUFAwUFBQUGBgUGBgYEBAUFBQYGBQUFBQUGBQUFBQUFBAUGBQYFBQUFBQUGBQUGBQUFBQYGBQYFBQYGBgUFBQUGBgYFBQYFBQUGBgUGBgUFBgUFBQUGBQYFBgUGBQUHBgUFBwYGBwcFBgUGBQQGBgYFBQUHBQUFBwgGBAMEBQUHBwUHBQYFBgUGBQUFBgcHBwYFBgUFBQYGBgYFBAcHBwQGBQUGBgUGBwYFBQUGBgYHAwUHBwUFBgYGBgYGBwYFBgYGBQUHBgQHBQUGBgQHBQcHBwcHBwcHBwcHBgUGBgcFBgUFBgYHBQYFBgcFBwUFBwUGBQYGBwUFBgUGBQYHBgYHBwcHBQcHBQcGBQYGBgcGBQYFBgcGBgUGBwcFBgYHBwUHBgUGBwYGBgUGBgUFBwYHBQcGCAYGBgYHBwUHBQYGBwYFBwYHBgYFBwYHCAYGBwYFBQcGBgYGBQYHBQYGBwYGBgYGBQgGBgYEBwYGBQYGBQcHBwYGBQYGBgYGBQYGBwYGBwYFBgYHBwYFBwYHBQUFBwYGBgYGBgYEBwUGBQYFBQYFBAYFBwUGBgYGBgcIBQcFBwYFBgYGBgYGBgYGBgYFBQUHBQYFBAYEBgQEBQUGBQYFBQYGBQUFBQUFBgYFBAUEBgYGBggGBgUFBgYEBgcGBgYFBQYFBQUGBgQFBgYDBgYGBQUFBQQFBgUGBgYGBgYFBgUHBgUGBQYFBQYFBgYFBgUFBQUGBQUFBQYFBgUFBAYFBQYGBAUGBQMFBQYGBgUFBQUFBQUGBQUFBQYFBQcGBQYIBgcGBgcGBgUFBQcFBQUGBAYGBQUFBQYGBwYFBQUGBwYFBQYGBQUIBwcFBgYGBQcGBAYGBQcEAwUFBgUFBwcDBQQEBQQFBQUFBgYFBQcGBgYFBQUGBgMGBgUGBQYGBgYFBgUFBAUGBQYGBgYGBQYFBwYGBgUFBgcGBgcGBQUFCAUFBgUGBwUFBQUGBgUGBgYFBgYGBgYGBQYFBQcGBgYGBQYGBgYFBgUG",
          "dtype": "i1"
         }
        }
       ],
       "layout": {
        "height": 500,
        "margin": {
         "b": 50,
         "l": 50,
         "r": 50,
         "t": 80
        },
        "showlegend": false,
        "template": {
         "data": {
          "bar": [
           {
            "error_x": {
             "color": "#2a3f5f"
            },
            "error_y": {
             "color": "#2a3f5f"
            },
            "marker": {
             "line": {
              "color": "white",
              "width": 0.5
             },
             "pattern": {
              "fillmode": "overlay",
              "size": 10,
              "solidity": 0.2
             }
            },
            "type": "bar"
           }
          ],
          "barpolar": [
           {
            "marker": {
             "line": {
              "color": "white",
              "width": 0.5
             },
             "pattern": {
              "fillmode": "overlay",
              "size": 10,
              "solidity": 0.2
             }
            },
            "type": "barpolar"
           }
          ],
          "carpet": [
           {
            "aaxis": {
             "endlinecolor": "#2a3f5f",
             "gridcolor": "#C8D4E3",
             "linecolor": "#C8D4E3",
             "minorgridcolor": "#C8D4E3",
             "startlinecolor": "#2a3f5f"
            },
            "baxis": {
             "endlinecolor": "#2a3f5f",
             "gridcolor": "#C8D4E3",
             "linecolor": "#C8D4E3",
             "minorgridcolor": "#C8D4E3",
             "startlinecolor": "#2a3f5f"
            },
            "type": "carpet"
           }
          ],
          "choropleth": [
           {
            "colorbar": {
             "outlinewidth": 0,
             "ticks": ""
            },
            "type": "choropleth"
           }
          ],
          "contour": [
           {
            "colorbar": {
             "outlinewidth": 0,
             "ticks": ""
            },
            "colorscale": [
             [
              0,
              "#0d0887"
             ],
             [
              0.1111111111111111,
              "#46039f"
             ],
             [
              0.2222222222222222,
              "#7201a8"
             ],
             [
              0.3333333333333333,
              "#9c179e"
             ],
             [
              0.4444444444444444,
              "#bd3786"
             ],
             [
              0.5555555555555556,
              "#d8576b"
             ],
             [
              0.6666666666666666,
              "#ed7953"
             ],
             [
              0.7777777777777778,
              "#fb9f3a"
             ],
             [
              0.8888888888888888,
              "#fdca26"
             ],
             [
              1,
              "#f0f921"
             ]
            ],
            "type": "contour"
           }
          ],
          "contourcarpet": [
           {
            "colorbar": {
             "outlinewidth": 0,
             "ticks": ""
            },
            "type": "contourcarpet"
           }
          ],
          "heatmap": [
           {
            "colorbar": {
             "outlinewidth": 0,
             "ticks": ""
            },
            "colorscale": [
             [
              0,
              "#0d0887"
             ],
             [
              0.1111111111111111,
              "#46039f"
             ],
             [
              0.2222222222222222,
              "#7201a8"
             ],
             [
              0.3333333333333333,
              "#9c179e"
             ],
             [
              0.4444444444444444,
              "#bd3786"
             ],
             [
              0.5555555555555556,
              "#d8576b"
             ],
             [
              0.6666666666666666,
              "#ed7953"
             ],
             [
              0.7777777777777778,
              "#fb9f3a"
             ],
             [
              0.8888888888888888,
              "#fdca26"
             ],
             [
              1,
              "#f0f921"
             ]
            ],
            "type": "heatmap"
           }
          ],
          "histogram": [
           {
            "marker": {
             "pattern": {
              "fillmode": "overlay",
              "size": 10,
              "solidity": 0.2
             }
            },
            "type": "histogram"
           }
          ],
          "histogram2d": [
           {
            "colorbar": {
             "outlinewidth": 0,
             "ticks": ""
            },
            "colorscale": [
             [
              0,
              "#0d0887"
             ],
             [
              0.1111111111111111,
              "#46039f"
             ],
             [
              0.2222222222222222,
              "#7201a8"
             ],
             [
              0.3333333333333333,
              "#9c179e"
             ],
             [
              0.4444444444444444,
              "#bd3786"
             ],
             [
              0.5555555555555556,
              "#d8576b"
             ],
             [
              0.6666666666666666,
              "#ed7953"
             ],
             [
              0.7777777777777778,
              "#fb9f3a"
             ],
             [
              0.8888888888888888,
              "#fdca26"
             ],
             [
              1,
              "#f0f921"
             ]
            ],
            "type": "histogram2d"
           }
          ],
          "histogram2dcontour": [
           {
            "colorbar": {
             "outlinewidth": 0,
             "ticks": ""
            },
            "colorscale": [
             [
              0,
              "#0d0887"
             ],
             [
              0.1111111111111111,
              "#46039f"
             ],
             [
              0.2222222222222222,
              "#7201a8"
             ],
             [
              0.3333333333333333,
              "#9c179e"
             ],
             [
              0.4444444444444444,
              "#bd3786"
             ],
             [
              0.5555555555555556,
              "#d8576b"
             ],
             [
              0.6666666666666666,
              "#ed7953"
             ],
             [
              0.7777777777777778,
              "#fb9f3a"
             ],
             [
              0.8888888888888888,
              "#fdca26"
             ],
             [
              1,
              "#f0f921"
             ]
            ],
            "type": "histogram2dcontour"
           }
          ],
          "mesh3d": [
           {
            "colorbar": {
             "outlinewidth": 0,
             "ticks": ""
            },
            "type": "mesh3d"
           }
          ],
          "parcoords": [
           {
            "line": {
             "colorbar": {
              "outlinewidth": 0,
              "ticks": ""
             }
            },
            "type": "parcoords"
           }
          ],
          "pie": [
           {
            "automargin": true,
            "type": "pie"
           }
          ],
          "scatter": [
           {
            "fillpattern": {
             "fillmode": "overlay",
             "size": 10,
             "solidity": 0.2
            },
            "type": "scatter"
           }
          ],
          "scatter3d": [
           {
            "line": {
             "colorbar": {
              "outlinewidth": 0,
              "ticks": ""
             }
            },
            "marker": {
             "colorbar": {
              "outlinewidth": 0,
              "ticks": ""
             }
            },
            "type": "scatter3d"
           }
          ],
          "scattercarpet": [
           {
            "marker": {
             "colorbar": {
              "outlinewidth": 0,
              "ticks": ""
             }
            },
            "type": "scattercarpet"
           }
          ],
          "scattergeo": [
           {
            "marker": {
             "colorbar": {
              "outlinewidth": 0,
              "ticks": ""
             }
            },
            "type": "scattergeo"
           }
          ],
          "scattergl": [
           {
            "marker": {
             "colorbar": {
              "outlinewidth": 0,
              "ticks": ""
             }
            },
            "type": "scattergl"
           }
          ],
          "scattermap": [
           {
            "marker": {
             "colorbar": {
              "outlinewidth": 0,
              "ticks": ""
             }
            },
            "type": "scattermap"
           }
          ],
          "scattermapbox": [
           {
            "marker": {
             "colorbar": {
              "outlinewidth": 0,
              "ticks": ""
             }
            },
            "type": "scattermapbox"
           }
          ],
          "scatterpolar": [
           {
            "marker": {
             "colorbar": {
              "outlinewidth": 0,
              "ticks": ""
             }
            },
            "type": "scatterpolar"
           }
          ],
          "scatterpolargl": [
           {
            "marker": {
             "colorbar": {
              "outlinewidth": 0,
              "ticks": ""
             }
            },
            "type": "scatterpolargl"
           }
          ],
          "scatterternary": [
           {
            "marker": {
             "colorbar": {
              "outlinewidth": 0,
              "ticks": ""
             }
            },
            "type": "scatterternary"
           }
          ],
          "surface": [
           {
            "colorbar": {
             "outlinewidth": 0,
             "ticks": ""
            },
            "colorscale": [
             [
              0,
              "#0d0887"
             ],
             [
              0.1111111111111111,
              "#46039f"
             ],
             [
              0.2222222222222222,
              "#7201a8"
             ],
             [
              0.3333333333333333,
              "#9c179e"
             ],
             [
              0.4444444444444444,
              "#bd3786"
             ],
             [
              0.5555555555555556,
              "#d8576b"
             ],
             [
              0.6666666666666666,
              "#ed7953"
             ],
             [
              0.7777777777777778,
              "#fb9f3a"
             ],
             [
              0.8888888888888888,
              "#fdca26"
             ],
             [
              1,
              "#f0f921"
             ]
            ],
            "type": "surface"
           }
          ],
          "table": [
           {
            "cells": {
             "fill": {
              "color": "#EBF0F8"
             },
             "line": {
              "color": "white"
             }
            },
            "header": {
             "fill": {
              "color": "#C8D4E3"
             },
             "line": {
              "color": "white"
             }
            },
            "type": "table"
           }
          ]
         },
         "layout": {
          "annotationdefaults": {
           "arrowcolor": "#2a3f5f",
           "arrowhead": 0,
           "arrowwidth": 1
          },
          "autotypenumbers": "strict",
          "coloraxis": {
           "colorbar": {
            "outlinewidth": 0,
            "ticks": ""
           }
          },
          "colorscale": {
           "diverging": [
            [
             0,
             "#8e0152"
            ],
            [
             0.1,
             "#c51b7d"
            ],
            [
             0.2,
             "#de77ae"
            ],
            [
             0.3,
             "#f1b6da"
            ],
            [
             0.4,
             "#fde0ef"
            ],
            [
             0.5,
             "#f7f7f7"
            ],
            [
             0.6,
             "#e6f5d0"
            ],
            [
             0.7,
             "#b8e186"
            ],
            [
             0.8,
             "#7fbc41"
            ],
            [
             0.9,
             "#4d9221"
            ],
            [
             1,
             "#276419"
            ]
           ],
           "sequential": [
            [
             0,
             "#0d0887"
            ],
            [
             0.1111111111111111,
             "#46039f"
            ],
            [
             0.2222222222222222,
             "#7201a8"
            ],
            [
             0.3333333333333333,
             "#9c179e"
            ],
            [
             0.4444444444444444,
             "#bd3786"
            ],
            [
             0.5555555555555556,
             "#d8576b"
            ],
            [
             0.6666666666666666,
             "#ed7953"
            ],
            [
             0.7777777777777778,
             "#fb9f3a"
            ],
            [
             0.8888888888888888,
             "#fdca26"
            ],
            [
             1,
             "#f0f921"
            ]
           ],
           "sequentialminus": [
            [
             0,
             "#0d0887"
            ],
            [
             0.1111111111111111,
             "#46039f"
            ],
            [
             0.2222222222222222,
             "#7201a8"
            ],
            [
             0.3333333333333333,
             "#9c179e"
            ],
            [
             0.4444444444444444,
             "#bd3786"
            ],
            [
             0.5555555555555556,
             "#d8576b"
            ],
            [
             0.6666666666666666,
             "#ed7953"
            ],
            [
             0.7777777777777778,
             "#fb9f3a"
            ],
            [
             0.8888888888888888,
             "#fdca26"
            ],
            [
             1,
             "#f0f921"
            ]
           ]
          },
          "colorway": [
           "#636efa",
           "#EF553B",
           "#00cc96",
           "#ab63fa",
           "#FFA15A",
           "#19d3f3",
           "#FF6692",
           "#B6E880",
           "#FF97FF",
           "#FECB52"
          ],
          "font": {
           "color": "#2a3f5f"
          },
          "geo": {
           "bgcolor": "white",
           "lakecolor": "white",
           "landcolor": "white",
           "showlakes": true,
           "showland": true,
           "subunitcolor": "#C8D4E3"
          },
          "hoverlabel": {
           "align": "left"
          },
          "hovermode": "closest",
          "mapbox": {
           "style": "light"
          },
          "paper_bgcolor": "white",
          "plot_bgcolor": "white",
          "polar": {
           "angularaxis": {
            "gridcolor": "#EBF0F8",
            "linecolor": "#EBF0F8",
            "ticks": ""
           },
           "bgcolor": "white",
           "radialaxis": {
            "gridcolor": "#EBF0F8",
            "linecolor": "#EBF0F8",
            "ticks": ""
           }
          },
          "scene": {
           "xaxis": {
            "backgroundcolor": "white",
            "gridcolor": "#DFE8F3",
            "gridwidth": 2,
            "linecolor": "#EBF0F8",
            "showbackground": true,
            "ticks": "",
            "zerolinecolor": "#EBF0F8"
           },
           "yaxis": {
            "backgroundcolor": "white",
            "gridcolor": "#DFE8F3",
            "gridwidth": 2,
            "linecolor": "#EBF0F8",
            "showbackground": true,
            "ticks": "",
            "zerolinecolor": "#EBF0F8"
           },
           "zaxis": {
            "backgroundcolor": "white",
            "gridcolor": "#DFE8F3",
            "gridwidth": 2,
            "linecolor": "#EBF0F8",
            "showbackground": true,
            "ticks": "",
            "zerolinecolor": "#EBF0F8"
           }
          },
          "shapedefaults": {
           "line": {
            "color": "#2a3f5f"
           }
          },
          "ternary": {
           "aaxis": {
            "gridcolor": "#DFE8F3",
            "linecolor": "#A2B1C6",
            "ticks": ""
           },
           "baxis": {
            "gridcolor": "#DFE8F3",
            "linecolor": "#A2B1C6",
            "ticks": ""
           },
           "bgcolor": "white",
           "caxis": {
            "gridcolor": "#DFE8F3",
            "linecolor": "#A2B1C6",
            "ticks": ""
           }
          },
          "title": {
           "x": 0.05
          },
          "xaxis": {
           "automargin": true,
           "gridcolor": "#EBF0F8",
           "linecolor": "#EBF0F8",
           "ticks": "",
           "title": {
            "standoff": 15
           },
           "zerolinecolor": "#EBF0F8",
           "zerolinewidth": 2
          },
          "yaxis": {
           "automargin": true,
           "gridcolor": "#EBF0F8",
           "linecolor": "#EBF0F8",
           "ticks": "",
           "title": {
            "standoff": 15
           },
           "zerolinecolor": "#EBF0F8",
           "zerolinewidth": 2
          }
         }
        },
        "title": {
         "font": {
          "size": 20
         },
         "text": "Boxplot of Features",
         "x": 0.5
        },
        "width": 1600,
        "xaxis": {
         "title": {
          "font": {
           "size": 14
          },
          "text": "Feature"
         }
        },
        "yaxis": {
         "title": {
          "font": {
           "size": 14
          },
          "text": "Value"
         }
        }
       }
      }
     },
     "metadata": {},
     "output_type": "display_data"
    }
   ],
   "source": [
    "plot_box_chart(\n",
    "    wine_df,\n",
    "    \"Feature\",\n",
    "    \"Value\",\n",
    "    \"Boxplot of Features\",\n",
    "    save_path=\"images/boxplot_features.png\",\n",
    ")"
   ]
  },
  {
   "cell_type": "code",
   "execution_count": 11,
   "id": "2ba50223",
   "metadata": {},
   "outputs": [
    {
     "data": {
      "image/png": "[encoded data removed]",
      "text/plain": [
       "<IPython.core.display.Image object>"
      ]
     },
     "execution_count": 11,
     "metadata": {},
     "output_type": "execute_result"
    }
   ],
   "source": [
    "Image(filename=\"images/boxplot_features.png\")"
   ]
  },
  {
   "cell_type": "markdown",
   "id": "741a7ced96615504",
   "metadata": {
    "collapsed": false,
    "jupyter": {
     "outputs_hidden": false
    }
   },
   "source": [
    "The boxplot reveals noticeable outliers in features like \"free sulfur dioxide\" and \"total sulfur dioxide.\" While other features may also have outliers, the IQR (Interquartile Range) can help us further confirm these existing outliers and identify potential ones in other features."
   ]
  },
  {
   "cell_type": "code",
   "execution_count": 12,
   "id": "e2d2a52d2bcc6641",
   "metadata": {
    "ExecuteTime": {
     "end_time": "2024-04-01T17:55:12.454885Z",
     "start_time": "2024-04-01T17:55:12.425566Z"
    },
    "collapsed": false,
    "jupyter": {
     "outputs_hidden": false
    },
    "metadata": {}
   },
   "outputs": [
    {
     "name": "stdout",
     "output_type": "stream",
     "text": [
      "fixed_acidity            41\n",
      "volatile_acidity         19\n",
      "citric_acid               1\n",
      "residual_sugar          126\n",
      "chlorides                87\n",
      "free_sulfur_dioxide      26\n",
      "total_sulfur_dioxide     45\n",
      "density                  35\n",
      "pH                       28\n",
      "sulphates                55\n",
      "alcohol                  12\n",
      "quality                  27\n",
      "dtype: int64\n",
      "Total number of outliers across all columns: 502\n"
     ]
    }
   ],
   "source": [
    "outlier_info = identify_outliers(wine_df)\n",
    "print(outlier_info[\"outliers_per_column\"])\n",
    "print(\n",
    "    f\"Total number of outliers across all columns: {outlier_info['total_outliers']}\"\n",
    ")"
   ]
  },
  {
   "cell_type": "markdown",
   "id": "60c82ddd77f1c824",
   "metadata": {
    "collapsed": false,
    "jupyter": {
     "outputs_hidden": false
    }
   },
   "source": [
    "In our dataset, we have identified a total of 601 outliers across 12 features using the Interquartile Range (IQR) method. \n",
    "\n",
    "These outliers represent values that significantly deviate from the rest of the data. \n",
    "\n",
    "While outliers can sometimes indicate errors, they can also represent valid but extreme variations in the data. \n",
    "\n",
    "At this stage, without a deeper understanding of the context and nature of the data, we have chosen to temporarily retain these outliers in our analysis. \n",
    "\n",
    "This decision stems from the possibility that these outliers could provide valuable insights. \n",
    "\n",
    "However, we acknowledge that outliers can potentially skew our analysis and we will therefore revisit this decision as necessary during later stages of our analysis."
   ]
  },
  {
   "cell_type": "code",
   "execution_count": 13,
   "id": "65b085fe85785848",
   "metadata": {
    "ExecuteTime": {
     "end_time": "2024-04-01T17:55:12.497763Z",
     "start_time": "2024-04-01T17:55:12.456960Z"
    },
    "collapsed": false,
    "jupyter": {
     "outputs_hidden": false
    },
    "metadata": {}
   },
   "outputs": [
    {
     "data": {
      "application/vnd.plotly.v1+json": {
       "config": {
        "plotlyServerURL": "https://plot.ly"
       },
       "data": [
        {
         "marker": {
          "color": "#5684F7",
          "line": {
           "color": "#000000",
           "width": 1
          }
         },
         "name": "fixed_acidity",
         "nbinsx": 40,
         "type": "histogram",
         "x": {
          "bdata": "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",
          "dtype": "f8"
         },
         "xaxis": "x",
         "yaxis": "y"
        },
        {
         "marker": {
          "color": "#3A5CED",
          "line": {
           "color": "#000000",
           "width": 1
          }
         },
         "name": "volatile_acidity",
         "nbinsx": 40,
         "type": "histogram",
         "x": {
          "bdata": "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",
          "dtype": "f8"
         },
         "xaxis": "x2",
         "yaxis": "y2"
        },
        {
         "marker": {
          "color": "#7E7AE6",
          "line": {
           "color": "#000000",
           "width": 1
          }
         },
         "name": "citric_acid",
         "nbinsx": 40,
         "type": "histogram",
         "x": {
          "bdata": "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",
          "dtype": "f8"
         },
         "xaxis": "x3",
         "yaxis": "y3"
        },
        {
         "marker": {
          "color": "#C2A9FF",
          "line": {
           "color": "#000000",
           "width": 1
          }
         },
         "name": "residual_sugar",
         "nbinsx": 40,
         "type": "histogram",
         "x": {
          "bdata": "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",
          "dtype": "f8"
         },
         "xaxis": "x4",
         "yaxis": "y4"
        }
       ],
       "layout": {
        "height": 500,
        "margin": {
         "b": 50,
         "l": 50,
         "r": 50,
         "t": 80
        },
        "showlegend": false,
        "template": {
         "data": {
          "bar": [
           {
            "error_x": {
             "color": "#2a3f5f"
            },
            "error_y": {
             "color": "#2a3f5f"
            },
            "marker": {
             "line": {
              "color": "white",
              "width": 0.5
             },
             "pattern": {
              "fillmode": "overlay",
              "size": 10,
              "solidity": 0.2
             }
            },
            "type": "bar"
           }
          ],
          "barpolar": [
           {
            "marker": {
             "line": {
              "color": "white",
              "width": 0.5
             },
             "pattern": {
              "fillmode": "overlay",
              "size": 10,
              "solidity": 0.2
             }
            },
            "type": "barpolar"
           }
          ],
          "carpet": [
           {
            "aaxis": {
             "endlinecolor": "#2a3f5f",
             "gridcolor": "#C8D4E3",
             "linecolor": "#C8D4E3",
             "minorgridcolor": "#C8D4E3",
             "startlinecolor": "#2a3f5f"
            },
            "baxis": {
             "endlinecolor": "#2a3f5f",
             "gridcolor": "#C8D4E3",
             "linecolor": "#C8D4E3",
             "minorgridcolor": "#C8D4E3",
             "startlinecolor": "#2a3f5f"
            },
            "type": "carpet"
           }
          ],
          "choropleth": [
           {
            "colorbar": {
             "outlinewidth": 0,
             "ticks": ""
            },
            "type": "choropleth"
           }
          ],
          "contour": [
           {
            "colorbar": {
             "outlinewidth": 0,
             "ticks": ""
            },
            "colorscale": [
             [
              0,
              "#0d0887"
             ],
             [
              0.1111111111111111,
              "#46039f"
             ],
             [
              0.2222222222222222,
              "#7201a8"
             ],
             [
              0.3333333333333333,
              "#9c179e"
             ],
             [
              0.4444444444444444,
              "#bd3786"
             ],
             [
              0.5555555555555556,
              "#d8576b"
             ],
             [
              0.6666666666666666,
              "#ed7953"
             ],
             [
              0.7777777777777778,
              "#fb9f3a"
             ],
             [
              0.8888888888888888,
              "#fdca26"
             ],
             [
              1,
              "#f0f921"
             ]
            ],
            "type": "contour"
           }
          ],
          "contourcarpet": [
           {
            "colorbar": {
             "outlinewidth": 0,
             "ticks": ""
            },
            "type": "contourcarpet"
           }
          ],
          "heatmap": [
           {
            "colorbar": {
             "outlinewidth": 0,
             "ticks": ""
            },
            "colorscale": [
             [
              0,
              "#0d0887"
             ],
             [
              0.1111111111111111,
              "#46039f"
             ],
             [
              0.2222222222222222,
              "#7201a8"
             ],
             [
              0.3333333333333333,
              "#9c179e"
             ],
             [
              0.4444444444444444,
              "#bd3786"
             ],
             [
              0.5555555555555556,
              "#d8576b"
             ],
             [
              0.6666666666666666,
              "#ed7953"
             ],
             [
              0.7777777777777778,
              "#fb9f3a"
             ],
             [
              0.8888888888888888,
              "#fdca26"
             ],
             [
              1,
              "#f0f921"
             ]
            ],
            "type": "heatmap"
           }
          ],
          "histogram": [
           {
            "marker": {
             "pattern": {
              "fillmode": "overlay",
              "size": 10,
              "solidity": 0.2
             }
            },
            "type": "histogram"
           }
          ],
          "histogram2d": [
           {
            "colorbar": {
             "outlinewidth": 0,
             "ticks": ""
            },
            "colorscale": [
             [
              0,
              "#0d0887"
             ],
             [
              0.1111111111111111,
              "#46039f"
             ],
             [
              0.2222222222222222,
              "#7201a8"
             ],
             [
              0.3333333333333333,
              "#9c179e"
             ],
             [
              0.4444444444444444,
              "#bd3786"
             ],
             [
              0.5555555555555556,
              "#d8576b"
             ],
             [
              0.6666666666666666,
              "#ed7953"
             ],
             [
              0.7777777777777778,
              "#fb9f3a"
             ],
             [
              0.8888888888888888,
              "#fdca26"
             ],
             [
              1,
              "#f0f921"
             ]
            ],
            "type": "histogram2d"
           }
          ],
          "histogram2dcontour": [
           {
            "colorbar": {
             "outlinewidth": 0,
             "ticks": ""
            },
            "colorscale": [
             [
              0,
              "#0d0887"
             ],
             [
              0.1111111111111111,
              "#46039f"
             ],
             [
              0.2222222222222222,
              "#7201a8"
             ],
             [
              0.3333333333333333,
              "#9c179e"
             ],
             [
              0.4444444444444444,
              "#bd3786"
             ],
             [
              0.5555555555555556,
              "#d8576b"
             ],
             [
              0.6666666666666666,
              "#ed7953"
             ],
             [
              0.7777777777777778,
              "#fb9f3a"
             ],
             [
              0.8888888888888888,
              "#fdca26"
             ],
             [
              1,
              "#f0f921"
             ]
            ],
            "type": "histogram2dcontour"
           }
          ],
          "mesh3d": [
           {
            "colorbar": {
             "outlinewidth": 0,
             "ticks": ""
            },
            "type": "mesh3d"
           }
          ],
          "parcoords": [
           {
            "line": {
             "colorbar": {
              "outlinewidth": 0,
              "ticks": ""
             }
            },
            "type": "parcoords"
           }
          ],
          "pie": [
           {
            "automargin": true,
            "type": "pie"
           }
          ],
          "scatter": [
           {
            "fillpattern": {
             "fillmode": "overlay",
             "size": 10,
             "solidity": 0.2
            },
            "type": "scatter"
           }
          ],
          "scatter3d": [
           {
            "line": {
             "colorbar": {
              "outlinewidth": 0,
              "ticks": ""
             }
            },
            "marker": {
             "colorbar": {
              "outlinewidth": 0,
              "ticks": ""
             }
            },
            "type": "scatter3d"
           }
          ],
          "scattercarpet": [
           {
            "marker": {
             "colorbar": {
              "outlinewidth": 0,
              "ticks": ""
             }
            },
            "type": "scattercarpet"
           }
          ],
          "scattergeo": [
           {
            "marker": {
             "colorbar": {
              "outlinewidth": 0,
              "ticks": ""
             }
            },
            "type": "scattergeo"
           }
          ],
          "scattergl": [
           {
            "marker": {
             "colorbar": {
              "outlinewidth": 0,
              "ticks": ""
             }
            },
            "type": "scattergl"
           }
          ],
          "scattermap": [
           {
            "marker": {
             "colorbar": {
              "outlinewidth": 0,
              "ticks": ""
             }
            },
            "type": "scattermap"
           }
          ],
          "scattermapbox": [
           {
            "marker": {
             "colorbar": {
              "outlinewidth": 0,
              "ticks": ""
             }
            },
            "type": "scattermapbox"
           }
          ],
          "scatterpolar": [
           {
            "marker": {
             "colorbar": {
              "outlinewidth": 0,
              "ticks": ""
             }
            },
            "type": "scatterpolar"
           }
          ],
          "scatterpolargl": [
           {
            "marker": {
             "colorbar": {
              "outlinewidth": 0,
              "ticks": ""
             }
            },
            "type": "scatterpolargl"
           }
          ],
          "scatterternary": [
           {
            "marker": {
             "colorbar": {
              "outlinewidth": 0,
              "ticks": ""
             }
            },
            "type": "scatterternary"
           }
          ],
          "surface": [
           {
            "colorbar": {
             "outlinewidth": 0,
             "ticks": ""
            },
            "colorscale": [
             [
              0,
              "#0d0887"
             ],
             [
              0.1111111111111111,
              "#46039f"
             ],
             [
              0.2222222222222222,
              "#7201a8"
             ],
             [
              0.3333333333333333,
              "#9c179e"
             ],
             [
              0.4444444444444444,
              "#bd3786"
             ],
             [
              0.5555555555555556,
              "#d8576b"
             ],
             [
              0.6666666666666666,
              "#ed7953"
             ],
             [
              0.7777777777777778,
              "#fb9f3a"
             ],
             [
              0.8888888888888888,
              "#fdca26"
             ],
             [
              1,
              "#f0f921"
             ]
            ],
            "type": "surface"
           }
          ],
          "table": [
           {
            "cells": {
             "fill": {
              "color": "#EBF0F8"
             },
             "line": {
              "color": "white"
             }
            },
            "header": {
             "fill": {
              "color": "#C8D4E3"
             },
             "line": {
              "color": "white"
             }
            },
            "type": "table"
           }
          ]
         },
         "layout": {
          "annotationdefaults": {
           "arrowcolor": "#2a3f5f",
           "arrowhead": 0,
           "arrowwidth": 1
          },
          "autotypenumbers": "strict",
          "coloraxis": {
           "colorbar": {
            "outlinewidth": 0,
            "ticks": ""
           }
          },
          "colorscale": {
           "diverging": [
            [
             0,
             "#8e0152"
            ],
            [
             0.1,
             "#c51b7d"
            ],
            [
             0.2,
             "#de77ae"
            ],
            [
             0.3,
             "#f1b6da"
            ],
            [
             0.4,
             "#fde0ef"
            ],
            [
             0.5,
             "#f7f7f7"
            ],
            [
             0.6,
             "#e6f5d0"
            ],
            [
             0.7,
             "#b8e186"
            ],
            [
             0.8,
             "#7fbc41"
            ],
            [
             0.9,
             "#4d9221"
            ],
            [
             1,
             "#276419"
            ]
           ],
           "sequential": [
            [
             0,
             "#0d0887"
            ],
            [
             0.1111111111111111,
             "#46039f"
            ],
            [
             0.2222222222222222,
             "#7201a8"
            ],
            [
             0.3333333333333333,
             "#9c179e"
            ],
            [
             0.4444444444444444,
             "#bd3786"
            ],
            [
             0.5555555555555556,
             "#d8576b"
            ],
            [
             0.6666666666666666,
             "#ed7953"
            ],
            [
             0.7777777777777778,
             "#fb9f3a"
            ],
            [
             0.8888888888888888,
             "#fdca26"
            ],
            [
             1,
             "#f0f921"
            ]
           ],
           "sequentialminus": [
            [
             0,
             "#0d0887"
            ],
            [
             0.1111111111111111,
             "#46039f"
            ],
            [
             0.2222222222222222,
             "#7201a8"
            ],
            [
             0.3333333333333333,
             "#9c179e"
            ],
            [
             0.4444444444444444,
             "#bd3786"
            ],
            [
             0.5555555555555556,
             "#d8576b"
            ],
            [
             0.6666666666666666,
             "#ed7953"
            ],
            [
             0.7777777777777778,
             "#fb9f3a"
            ],
            [
             0.8888888888888888,
             "#fdca26"
            ],
            [
             1,
             "#f0f921"
            ]
           ]
          },
          "colorway": [
           "#636efa",
           "#EF553B",
           "#00cc96",
           "#ab63fa",
           "#FFA15A",
           "#19d3f3",
           "#FF6692",
           "#B6E880",
           "#FF97FF",
           "#FECB52"
          ],
          "font": {
           "color": "#2a3f5f"
          },
          "geo": {
           "bgcolor": "white",
           "lakecolor": "white",
           "landcolor": "white",
           "showlakes": true,
           "showland": true,
           "subunitcolor": "#C8D4E3"
          },
          "hoverlabel": {
           "align": "left"
          },
          "hovermode": "closest",
          "mapbox": {
           "style": "light"
          },
          "paper_bgcolor": "white",
          "plot_bgcolor": "white",
          "polar": {
           "angularaxis": {
            "gridcolor": "#EBF0F8",
            "linecolor": "#EBF0F8",
            "ticks": ""
           },
           "bgcolor": "white",
           "radialaxis": {
            "gridcolor": "#EBF0F8",
            "linecolor": "#EBF0F8",
            "ticks": ""
           }
          },
          "scene": {
           "xaxis": {
            "backgroundcolor": "white",
            "gridcolor": "#DFE8F3",
            "gridwidth": 2,
            "linecolor": "#EBF0F8",
            "showbackground": true,
            "ticks": "",
            "zerolinecolor": "#EBF0F8"
           },
           "yaxis": {
            "backgroundcolor": "white",
            "gridcolor": "#DFE8F3",
            "gridwidth": 2,
            "linecolor": "#EBF0F8",
            "showbackground": true,
            "ticks": "",
            "zerolinecolor": "#EBF0F8"
           },
           "zaxis": {
            "backgroundcolor": "white",
            "gridcolor": "#DFE8F3",
            "gridwidth": 2,
            "linecolor": "#EBF0F8",
            "showbackground": true,
            "ticks": "",
            "zerolinecolor": "#EBF0F8"
           }
          },
          "shapedefaults": {
           "line": {
            "color": "#2a3f5f"
           }
          },
          "ternary": {
           "aaxis": {
            "gridcolor": "#DFE8F3",
            "linecolor": "#A2B1C6",
            "ticks": ""
           },
           "baxis": {
            "gridcolor": "#DFE8F3",
            "linecolor": "#A2B1C6",
            "ticks": ""
           },
           "bgcolor": "white",
           "caxis": {
            "gridcolor": "#DFE8F3",
            "linecolor": "#A2B1C6",
            "ticks": ""
           }
          },
          "title": {
           "x": 0.05
          },
          "xaxis": {
           "automargin": true,
           "gridcolor": "#EBF0F8",
           "linecolor": "#EBF0F8",
           "ticks": "",
           "title": {
            "standoff": 15
           },
           "zerolinecolor": "#EBF0F8",
           "zerolinewidth": 2
          },
          "yaxis": {
           "automargin": true,
           "gridcolor": "#EBF0F8",
           "linecolor": "#EBF0F8",
           "ticks": "",
           "title": {
            "standoff": 15
           },
           "zerolinecolor": "#EBF0F8",
           "zerolinewidth": 2
          }
         }
        },
        "title": {
         "font": {
          "size": 20
         },
         "text": "Distribution of fixed_acidity, volatile_acidity, citric_acid, residual_sugar",
         "x": 0.5
        },
        "width": 1600,
        "xaxis": {
         "anchor": "y",
         "domain": [
          0,
          0.175
         ],
         "title": {
          "font": {
           "size": 14
          },
          "text": "fixed_acidity"
         }
        },
        "xaxis2": {
         "anchor": "y2",
         "domain": [
          0.275,
          0.45
         ],
         "title": {
          "font": {
           "size": 14
          },
          "text": "volatile_acidity"
         }
        },
        "xaxis3": {
         "anchor": "y3",
         "domain": [
          0.55,
          0.7250000000000001
         ],
         "title": {
          "font": {
           "size": 14
          },
          "text": "citric_acid"
         }
        },
        "xaxis4": {
         "anchor": "y4",
         "domain": [
          0.825,
          1
         ],
         "title": {
          "font": {
           "size": 14
          },
          "text": "residual_sugar"
         }
        },
        "yaxis": {
         "anchor": "x",
         "domain": [
          0,
          1
         ],
         "title": {
          "font": {
           "size": 14
          },
          "text": "Count"
         }
        },
        "yaxis2": {
         "anchor": "x2",
         "domain": [
          0,
          1
         ],
         "title": {
          "font": {
           "size": 14
          },
          "text": "Count"
         }
        },
        "yaxis3": {
         "anchor": "x3",
         "domain": [
          0,
          1
         ],
         "title": {
          "font": {
           "size": 14
          },
          "text": "Count"
         }
        },
        "yaxis4": {
         "anchor": "x4",
         "domain": [
          0,
          1
         ],
         "title": {
          "font": {
           "size": 14
          },
          "text": "Count"
         }
        }
       }
      }
     },
     "metadata": {},
     "output_type": "display_data"
    }
   ],
   "source": [
    "plot_histograms(\n",
    "    wine_df,\n",
    "    [\"fixed_acidity\", \"volatile_acidity\", \"citric_acid\", \"residual_sugar\"],\n",
    "    save_path=\"images/histograms.png\",\n",
    ")"
   ]
  },
  {
   "cell_type": "code",
   "execution_count": 14,
   "id": "12f6bab3",
   "metadata": {},
   "outputs": [
    {
     "data": {
      "image/png": "[encoded data removed]",
      "text/plain": [
       "<IPython.core.display.Image object>"
      ]
     },
     "execution_count": 14,
     "metadata": {},
     "output_type": "execute_result"
    }
   ],
   "source": [
    "Image(filename=\"images/histograms.png\")"
   ]
  },
  {
   "cell_type": "markdown",
   "id": "80fd47aad5a8f65a",
   "metadata": {
    "collapsed": false,
    "jupyter": {
     "outputs_hidden": false
    }
   },
   "source": [
    "**Fixed Acidity:** The distribution is right-skewed, indicating that most wines have a fixed acidity level around 7-8, with fewer wines having higher fixed acidity.\n",
    "\n",
    "**Volatile Acidity:** The data is also right-skewed, showing that most wines have a volatile acidity around 0.5, with only a few wines having a volatile acidity above 1.\n",
    "\n",
    "**Citric Acid:** This feature shows a bimodal distribution, indicating two groups of wines, one with low citric acid close to 0 and another with citric acid between 0.25 and 0.5.\n",
    "\n",
    "**Residual Sugar:** The distribution is highly right-skewed, suggesting that most wines have low residual sugar levels, with a peak below five. Few wines have high residual sugar levels."
   ]
  },
  {
   "cell_type": "code",
   "execution_count": 15,
   "id": "5b162680233dfe13",
   "metadata": {
    "ExecuteTime": {
     "end_time": "2024-04-01T17:55:12.547050Z",
     "start_time": "2024-04-01T17:55:12.500015Z"
    },
    "collapsed": false,
    "jupyter": {
     "outputs_hidden": false
    },
    "metadata": {}
   },
   "outputs": [
    {
     "data": {
      "application/vnd.plotly.v1+json": {
       "config": {
        "plotlyServerURL": "https://plot.ly"
       },
       "data": [
        {
         "marker": {
          "color": "#5684F7",
          "line": {
           "color": "#000000",
           "width": 1
          }
         },
         "name": "chlorides",
         "nbinsx": 40,
         "type": "histogram",
         "x": {
          "bdata": "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",
          "dtype": "f8"
         },
         "xaxis": "x",
         "yaxis": "y"
        },
        {
         "marker": {
          "color": "#3A5CED",
          "line": {
           "color": "#000000",
           "width": 1
          }
         },
         "name": "free_sulfur_dioxide",
         "nbinsx": 40,
         "type": "histogram",
         "x": {
          "bdata": "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",
          "dtype": "f8"
         },
         "xaxis": "x2",
         "yaxis": "y2"
        },
        {
         "marker": {
          "color": "#7E7AE6",
          "line": {
           "color": "#000000",
           "width": 1
          }
         },
         "name": "total_sulfur_dioxide",
         "nbinsx": 40,
         "type": "histogram",
         "x": {
          "bdata": "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",
          "dtype": "f8"
         },
         "xaxis": "x3",
         "yaxis": "y3"
        },
        {
         "marker": {
          "color": "#C2A9FF",
          "line": {
           "color": "#000000",
           "width": 1
          }
         },
         "name": "density",
         "nbinsx": 40,
         "type": "histogram",
         "x": {
          "bdata": "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",
          "dtype": "f8"
         },
         "xaxis": "x4",
         "yaxis": "y4"
        }
       ],
       "layout": {
        "height": 500,
        "margin": {
         "b": 50,
         "l": 50,
         "r": 50,
         "t": 80
        },
        "showlegend": false,
        "template": {
         "data": {
          "bar": [
           {
            "error_x": {
             "color": "#2a3f5f"
            },
            "error_y": {
             "color": "#2a3f5f"
            },
            "marker": {
             "line": {
              "color": "white",
              "width": 0.5
             },
             "pattern": {
              "fillmode": "overlay",
              "size": 10,
              "solidity": 0.2
             }
            },
            "type": "bar"
           }
          ],
          "barpolar": [
           {
            "marker": {
             "line": {
              "color": "white",
              "width": 0.5
             },
             "pattern": {
              "fillmode": "overlay",
              "size": 10,
              "solidity": 0.2
             }
            },
            "type": "barpolar"
           }
          ],
          "carpet": [
           {
            "aaxis": {
             "endlinecolor": "#2a3f5f",
             "gridcolor": "#C8D4E3",
             "linecolor": "#C8D4E3",
             "minorgridcolor": "#C8D4E3",
             "startlinecolor": "#2a3f5f"
            },
            "baxis": {
             "endlinecolor": "#2a3f5f",
             "gridcolor": "#C8D4E3",
             "linecolor": "#C8D4E3",
             "minorgridcolor": "#C8D4E3",
             "startlinecolor": "#2a3f5f"
            },
            "type": "carpet"
           }
          ],
          "choropleth": [
           {
            "colorbar": {
             "outlinewidth": 0,
             "ticks": ""
            },
            "type": "choropleth"
           }
          ],
          "contour": [
           {
            "colorbar": {
             "outlinewidth": 0,
             "ticks": ""
            },
            "colorscale": [
             [
              0,
              "#0d0887"
             ],
             [
              0.1111111111111111,
              "#46039f"
             ],
             [
              0.2222222222222222,
              "#7201a8"
             ],
             [
              0.3333333333333333,
              "#9c179e"
             ],
             [
              0.4444444444444444,
              "#bd3786"
             ],
             [
              0.5555555555555556,
              "#d8576b"
             ],
             [
              0.6666666666666666,
              "#ed7953"
             ],
             [
              0.7777777777777778,
              "#fb9f3a"
             ],
             [
              0.8888888888888888,
              "#fdca26"
             ],
             [
              1,
              "#f0f921"
             ]
            ],
            "type": "contour"
           }
          ],
          "contourcarpet": [
           {
            "colorbar": {
             "outlinewidth": 0,
             "ticks": ""
            },
            "type": "contourcarpet"
           }
          ],
          "heatmap": [
           {
            "colorbar": {
             "outlinewidth": 0,
             "ticks": ""
            },
            "colorscale": [
             [
              0,
              "#0d0887"
             ],
             [
              0.1111111111111111,
              "#46039f"
             ],
             [
              0.2222222222222222,
              "#7201a8"
             ],
             [
              0.3333333333333333,
              "#9c179e"
             ],
             [
              0.4444444444444444,
              "#bd3786"
             ],
             [
              0.5555555555555556,
              "#d8576b"
             ],
             [
              0.6666666666666666,
              "#ed7953"
             ],
             [
              0.7777777777777778,
              "#fb9f3a"
             ],
             [
              0.8888888888888888,
              "#fdca26"
             ],
             [
              1,
              "#f0f921"
             ]
            ],
            "type": "heatmap"
           }
          ],
          "histogram": [
           {
            "marker": {
             "pattern": {
              "fillmode": "overlay",
              "size": 10,
              "solidity": 0.2
             }
            },
            "type": "histogram"
           }
          ],
          "histogram2d": [
           {
            "colorbar": {
             "outlinewidth": 0,
             "ticks": ""
            },
            "colorscale": [
             [
              0,
              "#0d0887"
             ],
             [
              0.1111111111111111,
              "#46039f"
             ],
             [
              0.2222222222222222,
              "#7201a8"
             ],
             [
              0.3333333333333333,
              "#9c179e"
             ],
             [
              0.4444444444444444,
              "#bd3786"
             ],
             [
              0.5555555555555556,
              "#d8576b"
             ],
             [
              0.6666666666666666,
              "#ed7953"
             ],
             [
              0.7777777777777778,
              "#fb9f3a"
             ],
             [
              0.8888888888888888,
              "#fdca26"
             ],
             [
              1,
              "#f0f921"
             ]
            ],
            "type": "histogram2d"
           }
          ],
          "histogram2dcontour": [
           {
            "colorbar": {
             "outlinewidth": 0,
             "ticks": ""
            },
            "colorscale": [
             [
              0,
              "#0d0887"
             ],
             [
              0.1111111111111111,
              "#46039f"
             ],
             [
              0.2222222222222222,
              "#7201a8"
             ],
             [
              0.3333333333333333,
              "#9c179e"
             ],
             [
              0.4444444444444444,
              "#bd3786"
             ],
             [
              0.5555555555555556,
              "#d8576b"
             ],
             [
              0.6666666666666666,
              "#ed7953"
             ],
             [
              0.7777777777777778,
              "#fb9f3a"
             ],
             [
              0.8888888888888888,
              "#fdca26"
             ],
             [
              1,
              "#f0f921"
             ]
            ],
            "type": "histogram2dcontour"
           }
          ],
          "mesh3d": [
           {
            "colorbar": {
             "outlinewidth": 0,
             "ticks": ""
            },
            "type": "mesh3d"
           }
          ],
          "parcoords": [
           {
            "line": {
             "colorbar": {
              "outlinewidth": 0,
              "ticks": ""
             }
            },
            "type": "parcoords"
           }
          ],
          "pie": [
           {
            "automargin": true,
            "type": "pie"
           }
          ],
          "scatter": [
           {
            "fillpattern": {
             "fillmode": "overlay",
             "size": 10,
             "solidity": 0.2
            },
            "type": "scatter"
           }
          ],
          "scatter3d": [
           {
            "line": {
             "colorbar": {
              "outlinewidth": 0,
              "ticks": ""
             }
            },
            "marker": {
             "colorbar": {
              "outlinewidth": 0,
              "ticks": ""
             }
            },
            "type": "scatter3d"
           }
          ],
          "scattercarpet": [
           {
            "marker": {
             "colorbar": {
              "outlinewidth": 0,
              "ticks": ""
             }
            },
            "type": "scattercarpet"
           }
          ],
          "scattergeo": [
           {
            "marker": {
             "colorbar": {
              "outlinewidth": 0,
              "ticks": ""
             }
            },
            "type": "scattergeo"
           }
          ],
          "scattergl": [
           {
            "marker": {
             "colorbar": {
              "outlinewidth": 0,
              "ticks": ""
             }
            },
            "type": "scattergl"
           }
          ],
          "scattermap": [
           {
            "marker": {
             "colorbar": {
              "outlinewidth": 0,
              "ticks": ""
             }
            },
            "type": "scattermap"
           }
          ],
          "scattermapbox": [
           {
            "marker": {
             "colorbar": {
              "outlinewidth": 0,
              "ticks": ""
             }
            },
            "type": "scattermapbox"
           }
          ],
          "scatterpolar": [
           {
            "marker": {
             "colorbar": {
              "outlinewidth": 0,
              "ticks": ""
             }
            },
            "type": "scatterpolar"
           }
          ],
          "scatterpolargl": [
           {
            "marker": {
             "colorbar": {
              "outlinewidth": 0,
              "ticks": ""
             }
            },
            "type": "scatterpolargl"
           }
          ],
          "scatterternary": [
           {
            "marker": {
             "colorbar": {
              "outlinewidth": 0,
              "ticks": ""
             }
            },
            "type": "scatterternary"
           }
          ],
          "surface": [
           {
            "colorbar": {
             "outlinewidth": 0,
             "ticks": ""
            },
            "colorscale": [
             [
              0,
              "#0d0887"
             ],
             [
              0.1111111111111111,
              "#46039f"
             ],
             [
              0.2222222222222222,
              "#7201a8"
             ],
             [
              0.3333333333333333,
              "#9c179e"
             ],
             [
              0.4444444444444444,
              "#bd3786"
             ],
             [
              0.5555555555555556,
              "#d8576b"
             ],
             [
              0.6666666666666666,
              "#ed7953"
             ],
             [
              0.7777777777777778,
              "#fb9f3a"
             ],
             [
              0.8888888888888888,
              "#fdca26"
             ],
             [
              1,
              "#f0f921"
             ]
            ],
            "type": "surface"
           }
          ],
          "table": [
           {
            "cells": {
             "fill": {
              "color": "#EBF0F8"
             },
             "line": {
              "color": "white"
             }
            },
            "header": {
             "fill": {
              "color": "#C8D4E3"
             },
             "line": {
              "color": "white"
             }
            },
            "type": "table"
           }
          ]
         },
         "layout": {
          "annotationdefaults": {
           "arrowcolor": "#2a3f5f",
           "arrowhead": 0,
           "arrowwidth": 1
          },
          "autotypenumbers": "strict",
          "coloraxis": {
           "colorbar": {
            "outlinewidth": 0,
            "ticks": ""
           }
          },
          "colorscale": {
           "diverging": [
            [
             0,
             "#8e0152"
            ],
            [
             0.1,
             "#c51b7d"
            ],
            [
             0.2,
             "#de77ae"
            ],
            [
             0.3,
             "#f1b6da"
            ],
            [
             0.4,
             "#fde0ef"
            ],
            [
             0.5,
             "#f7f7f7"
            ],
            [
             0.6,
             "#e6f5d0"
            ],
            [
             0.7,
             "#b8e186"
            ],
            [
             0.8,
             "#7fbc41"
            ],
            [
             0.9,
             "#4d9221"
            ],
            [
             1,
             "#276419"
            ]
           ],
           "sequential": [
            [
             0,
             "#0d0887"
            ],
            [
             0.1111111111111111,
             "#46039f"
            ],
            [
             0.2222222222222222,
             "#7201a8"
            ],
            [
             0.3333333333333333,
             "#9c179e"
            ],
            [
             0.4444444444444444,
             "#bd3786"
            ],
            [
             0.5555555555555556,
             "#d8576b"
            ],
            [
             0.6666666666666666,
             "#ed7953"
            ],
            [
             0.7777777777777778,
             "#fb9f3a"
            ],
            [
             0.8888888888888888,
             "#fdca26"
            ],
            [
             1,
             "#f0f921"
            ]
           ],
           "sequentialminus": [
            [
             0,
             "#0d0887"
            ],
            [
             0.1111111111111111,
             "#46039f"
            ],
            [
             0.2222222222222222,
             "#7201a8"
            ],
            [
             0.3333333333333333,
             "#9c179e"
            ],
            [
             0.4444444444444444,
             "#bd3786"
            ],
            [
             0.5555555555555556,
             "#d8576b"
            ],
            [
             0.6666666666666666,
             "#ed7953"
            ],
            [
             0.7777777777777778,
             "#fb9f3a"
            ],
            [
             0.8888888888888888,
             "#fdca26"
            ],
            [
             1,
             "#f0f921"
            ]
           ]
          },
          "colorway": [
           "#636efa",
           "#EF553B",
           "#00cc96",
           "#ab63fa",
           "#FFA15A",
           "#19d3f3",
           "#FF6692",
           "#B6E880",
           "#FF97FF",
           "#FECB52"
          ],
          "font": {
           "color": "#2a3f5f"
          },
          "geo": {
           "bgcolor": "white",
           "lakecolor": "white",
           "landcolor": "white",
           "showlakes": true,
           "showland": true,
           "subunitcolor": "#C8D4E3"
          },
          "hoverlabel": {
           "align": "left"
          },
          "hovermode": "closest",
          "mapbox": {
           "style": "light"
          },
          "paper_bgcolor": "white",
          "plot_bgcolor": "white",
          "polar": {
           "angularaxis": {
            "gridcolor": "#EBF0F8",
            "linecolor": "#EBF0F8",
            "ticks": ""
           },
           "bgcolor": "white",
           "radialaxis": {
            "gridcolor": "#EBF0F8",
            "linecolor": "#EBF0F8",
            "ticks": ""
           }
          },
          "scene": {
           "xaxis": {
            "backgroundcolor": "white",
            "gridcolor": "#DFE8F3",
            "gridwidth": 2,
            "linecolor": "#EBF0F8",
            "showbackground": true,
            "ticks": "",
            "zerolinecolor": "#EBF0F8"
           },
           "yaxis": {
            "backgroundcolor": "white",
            "gridcolor": "#DFE8F3",
            "gridwidth": 2,
            "linecolor": "#EBF0F8",
            "showbackground": true,
            "ticks": "",
            "zerolinecolor": "#EBF0F8"
           },
           "zaxis": {
            "backgroundcolor": "white",
            "gridcolor": "#DFE8F3",
            "gridwidth": 2,
            "linecolor": "#EBF0F8",
            "showbackground": true,
            "ticks": "",
            "zerolinecolor": "#EBF0F8"
           }
          },
          "shapedefaults": {
           "line": {
            "color": "#2a3f5f"
           }
          },
          "ternary": {
           "aaxis": {
            "gridcolor": "#DFE8F3",
            "linecolor": "#A2B1C6",
            "ticks": ""
           },
           "baxis": {
            "gridcolor": "#DFE8F3",
            "linecolor": "#A2B1C6",
            "ticks": ""
           },
           "bgcolor": "white",
           "caxis": {
            "gridcolor": "#DFE8F3",
            "linecolor": "#A2B1C6",
            "ticks": ""
           }
          },
          "title": {
           "x": 0.05
          },
          "xaxis": {
           "automargin": true,
           "gridcolor": "#EBF0F8",
           "linecolor": "#EBF0F8",
           "ticks": "",
           "title": {
            "standoff": 15
           },
           "zerolinecolor": "#EBF0F8",
           "zerolinewidth": 2
          },
          "yaxis": {
           "automargin": true,
           "gridcolor": "#EBF0F8",
           "linecolor": "#EBF0F8",
           "ticks": "",
           "title": {
            "standoff": 15
           },
           "zerolinecolor": "#EBF0F8",
           "zerolinewidth": 2
          }
         }
        },
        "title": {
         "font": {
          "size": 20
         },
         "text": "Distribution of chlorides, free_sulfur_dioxide, total_sulfur_dioxide, density",
         "x": 0.5
        },
        "width": 1600,
        "xaxis": {
         "anchor": "y",
         "domain": [
          0,
          0.175
         ],
         "title": {
          "font": {
           "size": 14
          },
          "text": "chlorides"
         }
        },
        "xaxis2": {
         "anchor": "y2",
         "domain": [
          0.275,
          0.45
         ],
         "title": {
          "font": {
           "size": 14
          },
          "text": "free_sulfur_dioxide"
         }
        },
        "xaxis3": {
         "anchor": "y3",
         "domain": [
          0.55,
          0.7250000000000001
         ],
         "title": {
          "font": {
           "size": 14
          },
          "text": "total_sulfur_dioxide"
         }
        },
        "xaxis4": {
         "anchor": "y4",
         "domain": [
          0.825,
          1
         ],
         "title": {
          "font": {
           "size": 14
          },
          "text": "density"
         }
        },
        "yaxis": {
         "anchor": "x",
         "domain": [
          0,
          1
         ],
         "title": {
          "font": {
           "size": 14
          },
          "text": "Count"
         }
        },
        "yaxis2": {
         "anchor": "x2",
         "domain": [
          0,
          1
         ],
         "title": {
          "font": {
           "size": 14
          },
          "text": "Count"
         }
        },
        "yaxis3": {
         "anchor": "x3",
         "domain": [
          0,
          1
         ],
         "title": {
          "font": {
           "size": 14
          },
          "text": "Count"
         }
        },
        "yaxis4": {
         "anchor": "x4",
         "domain": [
          0,
          1
         ],
         "title": {
          "font": {
           "size": 14
          },
          "text": "Count"
         }
        }
       }
      }
     },
     "metadata": {},
     "output_type": "display_data"
    }
   ],
   "source": [
    "plot_histograms(\n",
    "    wine_df,\n",
    "    [\"chlorides\", \"free_sulfur_dioxide\", \"total_sulfur_dioxide\", \"density\"],\n",
    "    save_path=\"images/histograms1.png\",\n",
    ")"
   ]
  },
  {
   "cell_type": "code",
   "execution_count": 16,
   "id": "ce916c1e",
   "metadata": {},
   "outputs": [
    {
     "data": {
      "image/png": "[encoded data removed]",
      "text/plain": [
       "<IPython.core.display.Image object>"
      ]
     },
     "execution_count": 16,
     "metadata": {},
     "output_type": "execute_result"
    }
   ],
   "source": [
    "Image(filename=\"images/histograms1.png\")"
   ]
  },
  {
   "cell_type": "code",
   "execution_count": 17,
   "id": "b9670c8b63d008d0",
   "metadata": {
    "ExecuteTime": {
     "end_time": "2024-04-01T17:55:12.583053Z",
     "start_time": "2024-04-01T17:55:12.549039Z"
    },
    "collapsed": false,
    "jupyter": {
     "outputs_hidden": false
    },
    "metadata": {}
   },
   "outputs": [
    {
     "data": {
      "application/vnd.plotly.v1+json": {
       "config": {
        "plotlyServerURL": "https://plot.ly"
       },
       "data": [
        {
         "marker": {
          "color": "#5684F7",
          "line": {
           "color": "#000000",
           "width": 1
          }
         },
         "name": "pH",
         "nbinsx": 40,
         "type": "histogram",
         "x": {
          "bdata": "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",
          "dtype": "f8"
         },
         "xaxis": "x",
         "yaxis": "y"
        },
        {
         "marker": {
          "color": "#3A5CED",
          "line": {
           "color": "#000000",
           "width": 1
          }
         },
         "name": "sulphates",
         "nbinsx": 40,
         "type": "histogram",
         "x": {
          "bdata": "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",
          "dtype": "f8"
         },
         "xaxis": "x2",
         "yaxis": "y2"
        },
        {
         "marker": {
          "color": "#7E7AE6",
          "line": {
           "color": "#000000",
           "width": 1
          }
         },
         "name": "alcohol",
         "nbinsx": 40,
         "type": "histogram",
         "x": {
          "bdata": "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",
          "dtype": "f8"
         },
         "xaxis": "x3",
         "yaxis": "y3"
        },
        {
         "marker": {
          "color": "#C2A9FF",
          "line": {
           "color": "#000000",
           "width": 1
          }
         },
         "name": "quality",
         "nbinsx": 40,
         "type": "histogram",
         "x": {
          "bdata": "BQUFBgUFBwcFBQUFBQUHBQQGBgUFBQYFBQUGBQYFBgUGBgcEBQQGBQUEBQUFBQUGBgUGBQUFBQYFBQcFBQUFBQYGBQUEBQUGBQQFBQUFBgUGBQUFBQUEBgUFBQYGBgUFBQUGBQUFBQYGBgYGBgUFBQUFBQUHBQUFBgYFBQUFBQYFBQUFBgYGBAUFBQUGBQQGBQUFBQQGBQQGBgUFBgUFBQUFBgUFBQUFBQYFBQUFBgcEBwUFBQYHBQUHBgYGBQYFBQUFBQYFBQYEBgYFBQcGBgYGBgUGBgcGBQUGBgYFBQUFBQUHBQQFBQUHBAgGBgYFBQUIBwYHBQUGBgcFBQYGBgUFBQUFBgYFBQUGBQYGBgYGBQUGBQYHBQUGBgcFBgUGBgUHBwYFBgcGBgYGBQcGBgYGBgUFBgYFBwcGBQYFBQcGBQUHBQYGBQYHBgYGBgYFBgYGBgcIBQUFBwUGBQYGBgUGBgcGBAYFBQcFBQYFBgUHBwUHBgYFBgUGBQYGBgUIBgcHBwYFBQYGBgYHBQgFBQMGBQUFBgUGBgYFBQYGBQYFBQYGBQgFBQYFBgcGBgcHBgYIBgUHBwcHBwYGBwUGBwUGAwYFBgUFBQUFBgYFBgUGBgYHBQUGBQYGBQYGBgYGBgYFBQYFBgUFBQYGBgYGBQQGBgQFBQYFBQcHBgcFCAcFBgUFBQYGBgYEBgUGBgcGBgYFBQYFBgUGBQUFBQUGBQUGBQUGBAUFBQUHBgUFBwUEBwYFBQUGBQUHBgQFBgYFBQYGBQUFBQYFBQUFBQYFBQUFBQUFAwUFBQUGBgUGBgYEBAUFBQYGBQUFBQUGBQUFBQUFBAUGBQYFBQUFBQUGBQUGBQUFBQYGBQYFBQYGBgUFBQUGBgYFBQYFBQUGBgUGBgUFBgUFBQUGBQYFBgUGBQUHBgUFBwYGBwcFBgUGBQQGBgYFBQUHBQUFBwgGBAMEBQUHBwUHBQYFBgUGBQUFBgcHBwYFBgUFBQYGBgYFBAcHBwQGBQUGBgUGBwYFBQUGBgYHAwUHBwUFBgYGBgYGBwYFBgYGBQUHBgQHBQUGBgQHBQcHBwcHBwcHBwcHBgUGBgcFBgUFBgYHBQYFBgcFBwUFBwUGBQYGBwUFBgUGBQYHBgYHBwcHBQcHBQcGBQYGBgcGBQYFBgcGBgUGBwcFBgYHBwUHBgUGBwYGBgUGBgUFBwYHBQcGCAYGBgYHBwUHBQYGBwYFBwYHBgYFBwYHCAYGBwYFBQcGBgYGBQYHBQYGBwYGBgYGBQgGBgYEBwYGBQYGBQcHBwYGBQYGBgYGBQYGBwYGBwYFBgYHBwYFBwYHBQUFBwYGBgYGBgYEBwUGBQYFBQYFBAYFBwUGBgYGBgcIBQcFBwYFBgYGBgYGBgYGBgYFBQUHBQYFBAYEBgQEBQUGBQYFBQYGBQUFBQUFBgYFBAUEBgYGBggGBgUFBgYEBgcGBgYFBQYFBQUGBgQFBgYDBgYGBQUFBQQFBgUGBgYGBgYFBgUHBgUGBQYFBQYFBgYFBgUFBQUGBQUFBQYFBgUFBAYFBQYGBAUGBQMFBQYGBgUFBQUFBQUGBQUFBQYFBQcGBQYIBgcGBgcGBgUFBQcFBQUGBAYGBQUFBQYGBwYFBQUGBwYFBQYGBQUIBwcFBgYGBQcGBAYGBQcEAwUFBgUFBwcDBQQEBQQFBQUFBgYFBQcGBgYFBQUGBgMGBgUGBQYGBgYFBgUFBAUGBQYGBgYGBQYFBwYGBgUFBgcGBgcGBQUFCAUFBgUGBwUFBQUGBgUGBgYFBgYGBgYGBQYFBQcGBgYGBQYGBgYFBgUG",
          "dtype": "i1"
         },
         "xaxis": "x4",
         "yaxis": "y4"
        }
       ],
       "layout": {
        "height": 500,
        "margin": {
         "b": 50,
         "l": 50,
         "r": 50,
         "t": 80
        },
        "showlegend": false,
        "template": {
         "data": {
          "bar": [
           {
            "error_x": {
             "color": "#2a3f5f"
            },
            "error_y": {
             "color": "#2a3f5f"
            },
            "marker": {
             "line": {
              "color": "white",
              "width": 0.5
             },
             "pattern": {
              "fillmode": "overlay",
              "size": 10,
              "solidity": 0.2
             }
            },
            "type": "bar"
           }
          ],
          "barpolar": [
           {
            "marker": {
             "line": {
              "color": "white",
              "width": 0.5
             },
             "pattern": {
              "fillmode": "overlay",
              "size": 10,
              "solidity": 0.2
             }
            },
            "type": "barpolar"
           }
          ],
          "carpet": [
           {
            "aaxis": {
             "endlinecolor": "#2a3f5f",
             "gridcolor": "#C8D4E3",
             "linecolor": "#C8D4E3",
             "minorgridcolor": "#C8D4E3",
             "startlinecolor": "#2a3f5f"
            },
            "baxis": {
             "endlinecolor": "#2a3f5f",
             "gridcolor": "#C8D4E3",
             "linecolor": "#C8D4E3",
             "minorgridcolor": "#C8D4E3",
             "startlinecolor": "#2a3f5f"
            },
            "type": "carpet"
           }
          ],
          "choropleth": [
           {
            "colorbar": {
             "outlinewidth": 0,
             "ticks": ""
            },
            "type": "choropleth"
           }
          ],
          "contour": [
           {
            "colorbar": {
             "outlinewidth": 0,
             "ticks": ""
            },
            "colorscale": [
             [
              0,
              "#0d0887"
             ],
             [
              0.1111111111111111,
              "#46039f"
             ],
             [
              0.2222222222222222,
              "#7201a8"
             ],
             [
              0.3333333333333333,
              "#9c179e"
             ],
             [
              0.4444444444444444,
              "#bd3786"
             ],
             [
              0.5555555555555556,
              "#d8576b"
             ],
             [
              0.6666666666666666,
              "#ed7953"
             ],
             [
              0.7777777777777778,
              "#fb9f3a"
             ],
             [
              0.8888888888888888,
              "#fdca26"
             ],
             [
              1,
              "#f0f921"
             ]
            ],
            "type": "contour"
           }
          ],
          "contourcarpet": [
           {
            "colorbar": {
             "outlinewidth": 0,
             "ticks": ""
            },
            "type": "contourcarpet"
           }
          ],
          "heatmap": [
           {
            "colorbar": {
             "outlinewidth": 0,
             "ticks": ""
            },
            "colorscale": [
             [
              0,
              "#0d0887"
             ],
             [
              0.1111111111111111,
              "#46039f"
             ],
             [
              0.2222222222222222,
              "#7201a8"
             ],
             [
              0.3333333333333333,
              "#9c179e"
             ],
             [
              0.4444444444444444,
              "#bd3786"
             ],
             [
              0.5555555555555556,
              "#d8576b"
             ],
             [
              0.6666666666666666,
              "#ed7953"
             ],
             [
              0.7777777777777778,
              "#fb9f3a"
             ],
             [
              0.8888888888888888,
              "#fdca26"
             ],
             [
              1,
              "#f0f921"
             ]
            ],
            "type": "heatmap"
           }
          ],
          "histogram": [
           {
            "marker": {
             "pattern": {
              "fillmode": "overlay",
              "size": 10,
              "solidity": 0.2
             }
            },
            "type": "histogram"
           }
          ],
          "histogram2d": [
           {
            "colorbar": {
             "outlinewidth": 0,
             "ticks": ""
            },
            "colorscale": [
             [
              0,
              "#0d0887"
             ],
             [
              0.1111111111111111,
              "#46039f"
             ],
             [
              0.2222222222222222,
              "#7201a8"
             ],
             [
              0.3333333333333333,
              "#9c179e"
             ],
             [
              0.4444444444444444,
              "#bd3786"
             ],
             [
              0.5555555555555556,
              "#d8576b"
             ],
             [
              0.6666666666666666,
              "#ed7953"
             ],
             [
              0.7777777777777778,
              "#fb9f3a"
             ],
             [
              0.8888888888888888,
              "#fdca26"
             ],
             [
              1,
              "#f0f921"
             ]
            ],
            "type": "histogram2d"
           }
          ],
          "histogram2dcontour": [
           {
            "colorbar": {
             "outlinewidth": 0,
             "ticks": ""
            },
            "colorscale": [
             [
              0,
              "#0d0887"
             ],
             [
              0.1111111111111111,
              "#46039f"
             ],
             [
              0.2222222222222222,
              "#7201a8"
             ],
             [
              0.3333333333333333,
              "#9c179e"
             ],
             [
              0.4444444444444444,
              "#bd3786"
             ],
             [
              0.5555555555555556,
              "#d8576b"
             ],
             [
              0.6666666666666666,
              "#ed7953"
             ],
             [
              0.7777777777777778,
              "#fb9f3a"
             ],
             [
              0.8888888888888888,
              "#fdca26"
             ],
             [
              1,
              "#f0f921"
             ]
            ],
            "type": "histogram2dcontour"
           }
          ],
          "mesh3d": [
           {
            "colorbar": {
             "outlinewidth": 0,
             "ticks": ""
            },
            "type": "mesh3d"
           }
          ],
          "parcoords": [
           {
            "line": {
             "colorbar": {
              "outlinewidth": 0,
              "ticks": ""
             }
            },
            "type": "parcoords"
           }
          ],
          "pie": [
           {
            "automargin": true,
            "type": "pie"
           }
          ],
          "scatter": [
           {
            "fillpattern": {
             "fillmode": "overlay",
             "size": 10,
             "solidity": 0.2
            },
            "type": "scatter"
           }
          ],
          "scatter3d": [
           {
            "line": {
             "colorbar": {
              "outlinewidth": 0,
              "ticks": ""
             }
            },
            "marker": {
             "colorbar": {
              "outlinewidth": 0,
              "ticks": ""
             }
            },
            "type": "scatter3d"
           }
          ],
          "scattercarpet": [
           {
            "marker": {
             "colorbar": {
              "outlinewidth": 0,
              "ticks": ""
             }
            },
            "type": "scattercarpet"
           }
          ],
          "scattergeo": [
           {
            "marker": {
             "colorbar": {
              "outlinewidth": 0,
              "ticks": ""
             }
            },
            "type": "scattergeo"
           }
          ],
          "scattergl": [
           {
            "marker": {
             "colorbar": {
              "outlinewidth": 0,
              "ticks": ""
             }
            },
            "type": "scattergl"
           }
          ],
          "scattermap": [
           {
            "marker": {
             "colorbar": {
              "outlinewidth": 0,
              "ticks": ""
             }
            },
            "type": "scattermap"
           }
          ],
          "scattermapbox": [
           {
            "marker": {
             "colorbar": {
              "outlinewidth": 0,
              "ticks": ""
             }
            },
            "type": "scattermapbox"
           }
          ],
          "scatterpolar": [
           {
            "marker": {
             "colorbar": {
              "outlinewidth": 0,
              "ticks": ""
             }
            },
            "type": "scatterpolar"
           }
          ],
          "scatterpolargl": [
           {
            "marker": {
             "colorbar": {
              "outlinewidth": 0,
              "ticks": ""
             }
            },
            "type": "scatterpolargl"
           }
          ],
          "scatterternary": [
           {
            "marker": {
             "colorbar": {
              "outlinewidth": 0,
              "ticks": ""
             }
            },
            "type": "scatterternary"
           }
          ],
          "surface": [
           {
            "colorbar": {
             "outlinewidth": 0,
             "ticks": ""
            },
            "colorscale": [
             [
              0,
              "#0d0887"
             ],
             [
              0.1111111111111111,
              "#46039f"
             ],
             [
              0.2222222222222222,
              "#7201a8"
             ],
             [
              0.3333333333333333,
              "#9c179e"
             ],
             [
              0.4444444444444444,
              "#bd3786"
             ],
             [
              0.5555555555555556,
              "#d8576b"
             ],
             [
              0.6666666666666666,
              "#ed7953"
             ],
             [
              0.7777777777777778,
              "#fb9f3a"
             ],
             [
              0.8888888888888888,
              "#fdca26"
             ],
             [
              1,
              "#f0f921"
             ]
            ],
            "type": "surface"
           }
          ],
          "table": [
           {
            "cells": {
             "fill": {
              "color": "#EBF0F8"
             },
             "line": {
              "color": "white"
             }
            },
            "header": {
             "fill": {
              "color": "#C8D4E3"
             },
             "line": {
              "color": "white"
             }
            },
            "type": "table"
           }
          ]
         },
         "layout": {
          "annotationdefaults": {
           "arrowcolor": "#2a3f5f",
           "arrowhead": 0,
           "arrowwidth": 1
          },
          "autotypenumbers": "strict",
          "coloraxis": {
           "colorbar": {
            "outlinewidth": 0,
            "ticks": ""
           }
          },
          "colorscale": {
           "diverging": [
            [
             0,
             "#8e0152"
            ],
            [
             0.1,
             "#c51b7d"
            ],
            [
             0.2,
             "#de77ae"
            ],
            [
             0.3,
             "#f1b6da"
            ],
            [
             0.4,
             "#fde0ef"
            ],
            [
             0.5,
             "#f7f7f7"
            ],
            [
             0.6,
             "#e6f5d0"
            ],
            [
             0.7,
             "#b8e186"
            ],
            [
             0.8,
             "#7fbc41"
            ],
            [
             0.9,
             "#4d9221"
            ],
            [
             1,
             "#276419"
            ]
           ],
           "sequential": [
            [
             0,
             "#0d0887"
            ],
            [
             0.1111111111111111,
             "#46039f"
            ],
            [
             0.2222222222222222,
             "#7201a8"
            ],
            [
             0.3333333333333333,
             "#9c179e"
            ],
            [
             0.4444444444444444,
             "#bd3786"
            ],
            [
             0.5555555555555556,
             "#d8576b"
            ],
            [
             0.6666666666666666,
             "#ed7953"
            ],
            [
             0.7777777777777778,
             "#fb9f3a"
            ],
            [
             0.8888888888888888,
             "#fdca26"
            ],
            [
             1,
             "#f0f921"
            ]
           ],
           "sequentialminus": [
            [
             0,
             "#0d0887"
            ],
            [
             0.1111111111111111,
             "#46039f"
            ],
            [
             0.2222222222222222,
             "#7201a8"
            ],
            [
             0.3333333333333333,
             "#9c179e"
            ],
            [
             0.4444444444444444,
             "#bd3786"
            ],
            [
             0.5555555555555556,
             "#d8576b"
            ],
            [
             0.6666666666666666,
             "#ed7953"
            ],
            [
             0.7777777777777778,
             "#fb9f3a"
            ],
            [
             0.8888888888888888,
             "#fdca26"
            ],
            [
             1,
             "#f0f921"
            ]
           ]
          },
          "colorway": [
           "#636efa",
           "#EF553B",
           "#00cc96",
           "#ab63fa",
           "#FFA15A",
           "#19d3f3",
           "#FF6692",
           "#B6E880",
           "#FF97FF",
           "#FECB52"
          ],
          "font": {
           "color": "#2a3f5f"
          },
          "geo": {
           "bgcolor": "white",
           "lakecolor": "white",
           "landcolor": "white",
           "showlakes": true,
           "showland": true,
           "subunitcolor": "#C8D4E3"
          },
          "hoverlabel": {
           "align": "left"
          },
          "hovermode": "closest",
          "mapbox": {
           "style": "light"
          },
          "paper_bgcolor": "white",
          "plot_bgcolor": "white",
          "polar": {
           "angularaxis": {
            "gridcolor": "#EBF0F8",
            "linecolor": "#EBF0F8",
            "ticks": ""
           },
           "bgcolor": "white",
           "radialaxis": {
            "gridcolor": "#EBF0F8",
            "linecolor": "#EBF0F8",
            "ticks": ""
           }
          },
          "scene": {
           "xaxis": {
            "backgroundcolor": "white",
            "gridcolor": "#DFE8F3",
            "gridwidth": 2,
            "linecolor": "#EBF0F8",
            "showbackground": true,
            "ticks": "",
            "zerolinecolor": "#EBF0F8"
           },
           "yaxis": {
            "backgroundcolor": "white",
            "gridcolor": "#DFE8F3",
            "gridwidth": 2,
            "linecolor": "#EBF0F8",
            "showbackground": true,
            "ticks": "",
            "zerolinecolor": "#EBF0F8"
           },
           "zaxis": {
            "backgroundcolor": "white",
            "gridcolor": "#DFE8F3",
            "gridwidth": 2,
            "linecolor": "#EBF0F8",
            "showbackground": true,
            "ticks": "",
            "zerolinecolor": "#EBF0F8"
           }
          },
          "shapedefaults": {
           "line": {
            "color": "#2a3f5f"
           }
          },
          "ternary": {
           "aaxis": {
            "gridcolor": "#DFE8F3",
            "linecolor": "#A2B1C6",
            "ticks": ""
           },
           "baxis": {
            "gridcolor": "#DFE8F3",
            "linecolor": "#A2B1C6",
            "ticks": ""
           },
           "bgcolor": "white",
           "caxis": {
            "gridcolor": "#DFE8F3",
            "linecolor": "#A2B1C6",
            "ticks": ""
           }
          },
          "title": {
           "x": 0.05
          },
          "xaxis": {
           "automargin": true,
           "gridcolor": "#EBF0F8",
           "linecolor": "#EBF0F8",
           "ticks": "",
           "title": {
            "standoff": 15
           },
           "zerolinecolor": "#EBF0F8",
           "zerolinewidth": 2
          },
          "yaxis": {
           "automargin": true,
           "gridcolor": "#EBF0F8",
           "linecolor": "#EBF0F8",
           "ticks": "",
           "title": {
            "standoff": 15
           },
           "zerolinecolor": "#EBF0F8",
           "zerolinewidth": 2
          }
         }
        },
        "title": {
         "font": {
          "size": 20
         },
         "text": "Distribution of pH, sulphates, alcohol, quality",
         "x": 0.5
        },
        "width": 1600,
        "xaxis": {
         "anchor": "y",
         "domain": [
          0,
          0.175
         ],
         "title": {
          "font": {
           "size": 14
          },
          "text": "pH"
         }
        },
        "xaxis2": {
         "anchor": "y2",
         "domain": [
          0.275,
          0.45
         ],
         "title": {
          "font": {
           "size": 14
          },
          "text": "sulphates"
         }
        },
        "xaxis3": {
         "anchor": "y3",
         "domain": [
          0.55,
          0.7250000000000001
         ],
         "title": {
          "font": {
           "size": 14
          },
          "text": "alcohol"
         }
        },
        "xaxis4": {
         "anchor": "y4",
         "domain": [
          0.825,
          1
         ],
         "title": {
          "font": {
           "size": 14
          },
          "text": "quality"
         }
        },
        "yaxis": {
         "anchor": "x",
         "domain": [
          0,
          1
         ],
         "title": {
          "font": {
           "size": 14
          },
          "text": "Count"
         }
        },
        "yaxis2": {
         "anchor": "x2",
         "domain": [
          0,
          1
         ],
         "title": {
          "font": {
           "size": 14
          },
          "text": "Count"
         }
        },
        "yaxis3": {
         "anchor": "x3",
         "domain": [
          0,
          1
         ],
         "title": {
          "font": {
           "size": 14
          },
          "text": "Count"
         }
        },
        "yaxis4": {
         "anchor": "x4",
         "domain": [
          0,
          1
         ],
         "title": {
          "font": {
           "size": 14
          },
          "text": "Count"
         }
        }
       }
      }
     },
     "metadata": {},
     "output_type": "display_data"
    }
   ],
   "source": [
    "plot_histograms(\n",
    "    wine_df,\n",
    "    [\"pH\", \"sulphates\", \"alcohol\", \"quality\"],\n",
    "    save_path=\"images/histograms2.png\",\n",
    ")"
   ]
  },
  {
   "cell_type": "code",
   "execution_count": 18,
   "id": "a19e3b48",
   "metadata": {},
   "outputs": [
    {
     "data": {
      "image/png": "[encoded data removed]",
      "text/plain": [
       "<IPython.core.display.Image object>"
      ]
     },
     "execution_count": 18,
     "metadata": {},
     "output_type": "execute_result"
    }
   ],
   "source": [
    "Image(filename=\"images/histograms2.png\")"
   ]
  },
  {
   "cell_type": "markdown",
   "id": "9e4dc79cca50d54",
   "metadata": {
    "collapsed": false,
    "jupyter": {
     "outputs_hidden": false
    }
   },
   "source": [
    "**pH:** The distribution is approximately normal, indicating that most wines have a pH level around 3.2, with fewer wines having significantly higher or lower pH levels.\n",
    "\n",
    "**Sulphates:** The data is right-skewed, showing that most wines have a sulphate level around 0.5, with only a few wines having a level above 1.\n",
    "\n",
    "**Alcohol:** This feature shows a right-skewed distribution, indicating that most wines have an alcohol level around 9-10%, with fewer wines having a level above 13%.\n",
    "\n",
    "**Quality:** The distribution is approximately normal, suggesting that most wines have a quality rating around 6, with few wines having significantly higher or lower ratings.\n",
    "\n",
    "Our initial data exploration using histograms revealed that most features (fixed acidity, volatile acidity, etc.) exhibit right-skewed distributions, indicating a concentration of wines with values clustered around a central point. \n",
    "\n",
    "This pattern suggests that the majority of wines fall within a specific range for these features. In contrast, \"density\" and \"pH\" show distributions closer to normal, while \"citric acid\" has a unique bimodal distribution. \n",
    "\n",
    "Notably, \"quality\" itself appears to be normally distributed.  \n",
    "\n",
    "These observations provide a foundation for further analysis, particularly investigating relationships between these features and wine quality to identify potential patterns and correlations.\n",
    "\n",
    "With that in mind as our dataset is mostly right skewed, we will perform log transformation."
   ]
  },
  {
   "cell_type": "code",
   "execution_count": 19,
   "id": "caab3508",
   "metadata": {},
   "outputs": [],
   "source": [
    "columns_to_transform = [\n",
    "    \"sulphates\",\n",
    "    \"alcohol\",\n",
    "    \"chlorides\",\n",
    "    \"free_sulfur_dioxide\",\n",
    "    \"total_sulfur_dioxide\",\n",
    "    \"fixed_acidity\",\n",
    "    \"volatile_acidity\",\n",
    "    \"citric_acid\",\n",
    "    \"residual_sugar\",\n",
    "]\n",
    "transformed_wine_df = log_transform_features(wine_df, columns_to_transform)"
   ]
  },
  {
   "cell_type": "code",
   "execution_count": 20,
   "id": "cb5e2558",
   "metadata": {},
   "outputs": [
    {
     "name": "stdout",
     "output_type": "stream",
     "text": [
      "fixed_acidity            12\n",
      "volatile_acidity          8\n",
      "citric_acid               0\n",
      "residual_sugar          108\n",
      "chlorides                87\n",
      "free_sulfur_dioxide       0\n",
      "total_sulfur_dioxide      0\n",
      "density                  35\n",
      "pH                       28\n",
      "sulphates                48\n",
      "alcohol                   7\n",
      "quality                  27\n",
      "dtype: int64\n",
      "Total number of outliers across all columns: 360\n"
     ]
    }
   ],
   "source": [
    "outlier_info = identify_outliers(transformed_wine_df)\n",
    "print(outlier_info[\"outliers_per_column\"])\n",
    "print(\n",
    "    f\"Total number of outliers across all columns: {outlier_info['total_outliers']}\"\n",
    ")"
   ]
  },
  {
   "cell_type": "markdown",
   "id": "d029d1b8",
   "metadata": {},
   "source": [
    "We got rid of at least 142 outliers, for now we will keep the dataset as it is and will not check the distribution of the transformed \n",
    "features and move to correlation matrix."
   ]
  },
  {
   "cell_type": "code",
   "execution_count": 21,
   "id": "6327ef440dc54f5e",
   "metadata": {
    "ExecuteTime": {
     "end_time": "2024-04-01T17:55:12.608666Z",
     "start_time": "2024-04-01T17:55:12.584767Z"
    },
    "collapsed": false,
    "jupyter": {
     "outputs_hidden": false
    },
    "metadata": {}
   },
   "outputs": [
    {
     "name": "stdout",
     "output_type": "stream",
     "text": [
      "                      fixed_acidity  volatile_acidity  citric_acid  \\\n",
      "fixed_acidity              1.000000         -0.259980     0.656309   \n",
      "volatile_acidity          -0.259980          1.000000    -0.575063   \n",
      "citric_acid                0.656309         -0.575063     1.000000   \n",
      "residual_sugar             0.159338          0.020262     0.163785   \n",
      "chlorides                  0.112359          0.067558     0.194126   \n",
      "free_sulfur_dioxide       -0.161301          0.005780    -0.061352   \n",
      "total_sulfur_dioxide      -0.106640          0.077575     0.027812   \n",
      "density                    0.677643          0.031674     0.352629   \n",
      "pH                        -0.708034          0.245293    -0.551118   \n",
      "sulphates                  0.198090         -0.278336     0.331680   \n",
      "alcohol                   -0.091192         -0.209158     0.095063   \n",
      "quality                    0.109715         -0.397329     0.227422   \n",
      "\n",
      "                      residual_sugar  chlorides  free_sulfur_dioxide  \\\n",
      "fixed_acidity               0.159338   0.112359            -0.161301   \n",
      "volatile_acidity            0.020262   0.067558             0.005780   \n",
      "citric_acid                 0.163785   0.194126            -0.061352   \n",
      "residual_sugar              1.000000   0.032933             0.089687   \n",
      "chlorides                   0.032933   1.000000            -0.006385   \n",
      "free_sulfur_dioxide         0.089687  -0.006385             1.000000   \n",
      "total_sulfur_dioxide        0.146414   0.062295             0.786095   \n",
      "density                     0.380607   0.211604            -0.030833   \n",
      "pH                         -0.093706  -0.275122             0.079773   \n",
      "sulphates                  -0.002417   0.359596             0.056486   \n",
      "alcohol                     0.089509  -0.238845            -0.093764   \n",
      "quality                     0.020154  -0.137302            -0.047132   \n",
      "\n",
      "                      total_sulfur_dioxide   density        pH  sulphates  \\\n",
      "fixed_acidity                    -0.106640  0.677643 -0.708034   0.198090   \n",
      "volatile_acidity                  0.077575  0.031674  0.245293  -0.278336   \n",
      "citric_acid                       0.027812  0.352629 -0.551118   0.331680   \n",
      "residual_sugar                    0.146414  0.380607 -0.093706  -0.002417   \n",
      "chlorides                         0.062295  0.211604 -0.275122   0.359596   \n",
      "free_sulfur_dioxide               0.786095 -0.030833  0.079773   0.056486   \n",
      "total_sulfur_dioxide              1.000000  0.109176 -0.030143   0.053566   \n",
      "density                           0.109176  1.000000 -0.355617   0.152989   \n",
      "pH                               -0.030143 -0.355617  1.000000  -0.196653   \n",
      "sulphates                         0.053566  0.152989 -0.196653   1.000000   \n",
      "alcohol                          -0.247685 -0.500142  0.213968   0.113559   \n",
      "quality                          -0.165289 -0.184252 -0.055245   0.279517   \n",
      "\n",
      "                       alcohol   quality  \n",
      "fixed_acidity        -0.091192  0.109715  \n",
      "volatile_acidity     -0.209158 -0.397329  \n",
      "citric_acid           0.095063  0.227422  \n",
      "residual_sugar        0.089509  0.020154  \n",
      "chlorides            -0.238845 -0.137302  \n",
      "free_sulfur_dioxide  -0.093764 -0.047132  \n",
      "total_sulfur_dioxide -0.247685 -0.165289  \n",
      "density              -0.500142 -0.184252  \n",
      "pH                    0.213968 -0.055245  \n",
      "sulphates             0.113559  0.279517  \n",
      "alcohol               1.000000  0.481462  \n",
      "quality               0.481462  1.000000  \n"
     ]
    }
   ],
   "source": [
    "corr_matrix = transformed_wine_df.corr()\n",
    "print(corr_matrix)"
   ]
  },
  {
   "cell_type": "code",
   "execution_count": 22,
   "id": "d0944695ec5bf764",
   "metadata": {
    "ExecuteTime": {
     "end_time": "2024-04-01T17:55:12.633304Z",
     "start_time": "2024-04-01T17:55:12.610006Z"
    },
    "collapsed": false,
    "jupyter": {
     "outputs_hidden": false
    },
    "metadata": {}
   },
   "outputs": [
    {
     "ename": "ValueError",
     "evalue": "Invalid property specified for object of type plotly.graph_objs.heatmap.ColorBar: 'titleside'\n\nDid you mean \"title\"?\n\n    Valid properties:\n        bgcolor\n            Sets the color of padded area.\n        bordercolor\n            Sets the axis line color.\n        borderwidth\n            Sets the width (in px) or the border enclosing this\n            color bar.\n        dtick\n            Sets the step in-between ticks on this axis. Use with\n            `tick0`. Must be a positive number, or special strings\n            available to \"log\" and \"date\" axes. If the axis `type`\n            is \"log\", then ticks are set every 10^(n*dtick) where n\n            is the tick number. For example, to set a tick mark at\n            1, 10, 100, 1000, ... set dtick to 1. To set tick marks\n            at 1, 100, 10000, ... set dtick to 2. To set tick marks\n            at 1, 5, 25, 125, 625, 3125, ... set dtick to\n            log_10(5), or 0.69897000433. \"log\" has several special\n            values; \"L<f>\", where `f` is a positive number, gives\n            ticks linearly spaced in value (but not position). For\n            example `tick0` = 0.1, `dtick` = \"L0.5\" will put ticks\n            at 0.1, 0.6, 1.1, 1.6 etc. To show powers of 10 plus\n            small digits between, use \"D1\" (all digits) or \"D2\"\n            (only 2 and 5). `tick0` is ignored for \"D1\" and \"D2\".\n            If the axis `type` is \"date\", then you must convert the\n            time to milliseconds. For example, to set the interval\n            between ticks to one day, set `dtick` to 86400000.0.\n            \"date\" also has special values \"M<n>\" gives ticks\n            spaced by a number of months. `n` must be a positive\n            integer. To set ticks on the 15th of every third month,\n            set `tick0` to \"2000-01-15\" and `dtick` to \"M3\". To set\n            ticks every 4 years, set `dtick` to \"M48\"\n        exponentformat\n            Determines a formatting rule for the tick exponents.\n            For example, consider the number 1,000,000,000. If\n            \"none\", it appears as 1,000,000,000. If \"e\", 1e+9. If\n            \"E\", 1E+9. If \"power\", 1x10^9 (with 9 in a super\n            script). If \"SI\", 1G. If \"B\", 1B.\n        labelalias\n            Replacement text for specific tick or hover labels. For\n            example using {US: 'USA', CA: 'Canada'} changes US to\n            USA and CA to Canada. The labels we would have shown\n            must match the keys exactly, after adding any\n            tickprefix or ticksuffix. For negative numbers the\n            minus sign symbol used (U+2212) is wider than the\n            regular ascii dash. That means you need to use −1\n            instead of -1. labelalias can be used with any axis\n            type, and both keys (if needed) and values (if desired)\n            can include html-like tags or MathJax.\n        len\n            Sets the length of the color bar This measure excludes\n            the padding of both ends. That is, the color bar length\n            is this length minus the padding on both ends.\n        lenmode\n            Determines whether this color bar's length (i.e. the\n            measure in the color variation direction) is set in\n            units of plot \"fraction\" or in *pixels. Use `len` to\n            set the value.\n        minexponent\n            Hide SI prefix for 10^n if |n| is below this number.\n            This only has an effect when `tickformat` is \"SI\" or\n            \"B\".\n        nticks\n            Specifies the maximum number of ticks for the\n            particular axis. The actual number of ticks will be\n            chosen automatically to be less than or equal to\n            `nticks`. Has an effect only if `tickmode` is set to\n            \"auto\".\n        orientation\n            Sets the orientation of the colorbar.\n        outlinecolor\n            Sets the axis line color.\n        outlinewidth\n            Sets the width (in px) of the axis line.\n        separatethousands\n            If \"true\", even 4-digit integers are separated\n        showexponent\n            If \"all\", all exponents are shown besides their\n            significands. If \"first\", only the exponent of the\n            first tick is shown. If \"last\", only the exponent of\n            the last tick is shown. If \"none\", no exponents appear.\n        showticklabels\n            Determines whether or not the tick labels are drawn.\n        showtickprefix\n            If \"all\", all tick labels are displayed with a prefix.\n            If \"first\", only the first tick is displayed with a\n            prefix. If \"last\", only the last tick is displayed with\n            a suffix. If \"none\", tick prefixes are hidden.\n        showticksuffix\n            Same as `showtickprefix` but for tick suffixes.\n        thickness\n            Sets the thickness of the color bar This measure\n            excludes the size of the padding, ticks and labels.\n        thicknessmode\n            Determines whether this color bar's thickness (i.e. the\n            measure in the constant color direction) is set in\n            units of plot \"fraction\" or in \"pixels\". Use\n            `thickness` to set the value.\n        tick0\n            Sets the placement of the first tick on this axis. Use\n            with `dtick`. If the axis `type` is \"log\", then you\n            must take the log of your starting tick (e.g. to set\n            the starting tick to 100, set the `tick0` to 2) except\n            when `dtick`=*L<f>* (see `dtick` for more info). If the\n            axis `type` is \"date\", it should be a date string, like\n            date data. If the axis `type` is \"category\", it should\n            be a number, using the scale where each category is\n            assigned a serial number from zero in the order it\n            appears.\n        tickangle\n            Sets the angle of the tick labels with respect to the\n            horizontal. For example, a `tickangle` of -90 draws the\n            tick labels vertically.\n        tickcolor\n            Sets the tick color.\n        tickfont\n            Sets the color bar's tick label font\n        tickformat\n            Sets the tick label formatting rule using d3 formatting\n            mini-languages which are very similar to those in\n            Python. For numbers, see:\n            https://github.com/d3/d3-format/tree/v1.4.5#d3-format.\n            And for dates see: https://github.com/d3/d3-time-\n            format/tree/v2.2.3#locale_format. We add two items to\n            d3's date formatter: \"%h\" for half of the year as a\n            decimal number as well as \"%{n}f\" for fractional\n            seconds with n digits. For example, *2016-10-13\n            09:15:23.456* with tickformat \"%H~%M~%S.%2f\" would\n            display \"09~15~23.46\"\n        tickformatstops\n            A tuple of :class:`plotly.graph_objects.heatmap.colorba\n            r.Tickformatstop` instances or dicts with compatible\n            properties\n        tickformatstopdefaults\n            When used in a template (as layout.template.data.heatma\n            p.colorbar.tickformatstopdefaults), sets the default\n            property values to use for elements of\n            heatmap.colorbar.tickformatstops\n        ticklabeloverflow\n            Determines how we handle tick labels that would\n            overflow either the graph div or the domain of the\n            axis. The default value for inside tick labels is *hide\n            past domain*. In other cases the default is *hide past\n            div*.\n        ticklabelposition\n            Determines where tick labels are drawn relative to the\n            ticks. Left and right options are used when\n            `orientation` is \"h\", top and bottom when `orientation`\n            is \"v\".\n        ticklabelstep\n            Sets the spacing between tick labels as compared to the\n            spacing between ticks. A value of 1 (default) means\n            each tick gets a label. A value of 2 means shows every\n            2nd label. A larger value n means only every nth tick\n            is labeled. `tick0` determines which labels are shown.\n            Not implemented for axes with `type` \"log\" or\n            \"multicategory\", or when `tickmode` is \"array\".\n        ticklen\n            Sets the tick length (in px).\n        tickmode\n            Sets the tick mode for this axis. If \"auto\", the number\n            of ticks is set via `nticks`. If \"linear\", the\n            placement of the ticks is determined by a starting\n            position `tick0` and a tick step `dtick` (\"linear\" is\n            the default value if `tick0` and `dtick` are provided).\n            If \"array\", the placement of the ticks is set via\n            `tickvals` and the tick text is `ticktext`. (\"array\" is\n            the default value if `tickvals` is provided).\n        tickprefix\n            Sets a tick label prefix.\n        ticks\n            Determines whether ticks are drawn or not. If \"\", this\n            axis' ticks are not drawn. If \"outside\" (\"inside\"),\n            this axis' are drawn outside (inside) the axis lines.\n        ticksuffix\n            Sets a tick label suffix.\n        ticktext\n            Sets the text displayed at the ticks position via\n            `tickvals`. Only has an effect if `tickmode` is set to\n            \"array\". Used with `tickvals`.\n        ticktextsrc\n            Sets the source reference on Chart Studio Cloud for\n            `ticktext`.\n        tickvals\n            Sets the values at which ticks on this axis appear.\n            Only has an effect if `tickmode` is set to \"array\".\n            Used with `ticktext`.\n        tickvalssrc\n            Sets the source reference on Chart Studio Cloud for\n            `tickvals`.\n        tickwidth\n            Sets the tick width (in px).\n        title\n            :class:`plotly.graph_objects.heatmap.colorbar.Title`\n            instance or dict with compatible properties\n        x\n            Sets the x position with respect to `xref` of the color\n            bar (in plot fraction). When `xref` is \"paper\",\n            defaults to 1.02 when `orientation` is \"v\" and 0.5 when\n            `orientation` is \"h\". When `xref` is \"container\",\n            defaults to 1 when `orientation` is \"v\" and 0.5 when\n            `orientation` is \"h\". Must be between 0 and 1 if `xref`\n            is \"container\" and between \"-2\" and 3 if `xref` is\n            \"paper\".\n        xanchor\n            Sets this color bar's horizontal position anchor. This\n            anchor binds the `x` position to the \"left\", \"center\"\n            or \"right\" of the color bar. Defaults to \"left\" when\n            `orientation` is \"v\" and \"center\" when `orientation` is\n            \"h\".\n        xpad\n            Sets the amount of padding (in px) along the x\n            direction.\n        xref\n            Sets the container `x` refers to. \"container\" spans the\n            entire `width` of the plot. \"paper\" refers to the width\n            of the plotting area only.\n        y\n            Sets the y position with respect to `yref` of the color\n            bar (in plot fraction). When `yref` is \"paper\",\n            defaults to 0.5 when `orientation` is \"v\" and 1.02 when\n            `orientation` is \"h\". When `yref` is \"container\",\n            defaults to 0.5 when `orientation` is \"v\" and 1 when\n            `orientation` is \"h\". Must be between 0 and 1 if `yref`\n            is \"container\" and between \"-2\" and 3 if `yref` is\n            \"paper\".\n        yanchor\n            Sets this color bar's vertical position anchor This\n            anchor binds the `y` position to the \"top\", \"middle\" or\n            \"bottom\" of the color bar. Defaults to \"middle\" when\n            `orientation` is \"v\" and \"bottom\" when `orientation` is\n            \"h\".\n        ypad\n            Sets the amount of padding (in px) along the y\n            direction.\n        yref\n            Sets the container `y` refers to. \"container\" spans the\n            entire `height` of the plot. \"paper\" refers to the\n            height of the plotting area only.\n        \nDid you mean \"title\"?\n\nBad property path:\ntitleside\n^^^^^^^^^",
     "output_type": "error",
     "traceback": [
      "\u001b[0;31m---------------------------------------------------------------------------\u001b[0m",
      "\u001b[0;31mValueError\u001b[0m                                Traceback (most recent call last)",
      "Cell \u001b[0;32mIn[22], line 1\u001b[0m\n\u001b[0;32m----> 1\u001b[0m \u001b[43mplot_heatmap\u001b[49m\u001b[43m(\u001b[49m\u001b[43mcorr_matrix\u001b[49m\u001b[43m,\u001b[49m\u001b[43m \u001b[49m\u001b[43msave_path\u001b[49m\u001b[38;5;241;43m=\u001b[39;49m\u001b[38;5;124;43m\"\u001b[39;49m\u001b[38;5;124;43mimages/correlation_heatmap.png\u001b[39;49m\u001b[38;5;124;43m\"\u001b[39;49m\u001b[43m)\u001b[49m\n",
      "File \u001b[0;32m~/red-wine-quality-analysis/red_wine_quality_utils.py:234\u001b[0m, in \u001b[0;36mplot_heatmap\u001b[0;34m(corr_matrix, save_path)\u001b[0m\n\u001b[1;32m    212\u001b[0m \u001b[38;5;250m\u001b[39m\u001b[38;5;124;03m\"\"\"Display a heatmap of the provided correlation matrix.\u001b[39;00m\n\u001b[1;32m    213\u001b[0m \n\u001b[1;32m    214\u001b[0m \u001b[38;5;124;03mThis function creates a heatmap visualization of the correlation matrix using Plotly,\u001b[39;00m\n\u001b[0;32m   (...)\u001b[0m\n\u001b[1;32m    222\u001b[0m \u001b[38;5;124;03m    None\u001b[39;00m\n\u001b[1;32m    223\u001b[0m \u001b[38;5;124;03m\"\"\"\u001b[39;00m\n\u001b[1;32m    224\u001b[0m colorscale \u001b[38;5;241m=\u001b[39m [\n\u001b[1;32m    225\u001b[0m     [\u001b[38;5;241m0.0\u001b[39m, SECONDARY_COLORS[\u001b[38;5;241m4\u001b[39m]],\n\u001b[1;32m    226\u001b[0m     [\u001b[38;5;241m0.2\u001b[39m, SECONDARY_COLORS[\u001b[38;5;241m3\u001b[39m]],\n\u001b[0;32m   (...)\u001b[0m\n\u001b[1;32m    230\u001b[0m     [\u001b[38;5;241m1.0\u001b[39m, SECONDARY_COLORS[\u001b[38;5;241m0\u001b[39m]],\n\u001b[1;32m    231\u001b[0m ]\n\u001b[1;32m    233\u001b[0m fig \u001b[38;5;241m=\u001b[39m go\u001b[38;5;241m.\u001b[39mFigure(\n\u001b[0;32m--> 234\u001b[0m     data\u001b[38;5;241m=\u001b[39m\u001b[43mgo\u001b[49m\u001b[38;5;241;43m.\u001b[39;49m\u001b[43mHeatmap\u001b[49m\u001b[43m(\u001b[49m\n\u001b[1;32m    235\u001b[0m \u001b[43m        \u001b[49m\u001b[43mz\u001b[49m\u001b[38;5;241;43m=\u001b[39;49m\u001b[43mcorr_matrix\u001b[49m\u001b[38;5;241;43m.\u001b[39;49m\u001b[43mvalues\u001b[49m\u001b[43m,\u001b[49m\n\u001b[1;32m    236\u001b[0m \u001b[43m        \u001b[49m\u001b[43mx\u001b[49m\u001b[38;5;241;43m=\u001b[39;49m\u001b[43mcorr_matrix\u001b[49m\u001b[38;5;241;43m.\u001b[39;49m\u001b[43mcolumns\u001b[49m\u001b[43m,\u001b[49m\n\u001b[1;32m    237\u001b[0m \u001b[43m        \u001b[49m\u001b[43my\u001b[49m\u001b[38;5;241;43m=\u001b[39;49m\u001b[43mcorr_matrix\u001b[49m\u001b[38;5;241;43m.\u001b[39;49m\u001b[43mcolumns\u001b[49m\u001b[43m,\u001b[49m\n\u001b[1;32m    238\u001b[0m \u001b[43m        \u001b[49m\u001b[43mcolorscale\u001b[49m\u001b[38;5;241;43m=\u001b[39;49m\u001b[43mcolorscale\u001b[49m\u001b[43m,\u001b[49m\n\u001b[1;32m    239\u001b[0m \u001b[43m        \u001b[49m\u001b[43mcolorbar\u001b[49m\u001b[38;5;241;43m=\u001b[39;49m\u001b[38;5;28;43mdict\u001b[39;49m\u001b[43m(\u001b[49m\n\u001b[1;32m    240\u001b[0m \u001b[43m            \u001b[49m\u001b[43mtitle\u001b[49m\u001b[38;5;241;43m=\u001b[39;49m\u001b[38;5;124;43m\"\u001b[39;49m\u001b[38;5;124;43mCorrelation\u001b[39;49m\u001b[38;5;124;43m\"\u001b[39;49m\u001b[43m,\u001b[49m\n\u001b[1;32m    241\u001b[0m \u001b[43m            \u001b[49m\u001b[43mtitleside\u001b[49m\u001b[38;5;241;43m=\u001b[39;49m\u001b[38;5;124;43m\"\u001b[39;49m\u001b[38;5;124;43mright\u001b[39;49m\u001b[38;5;124;43m\"\u001b[39;49m\u001b[43m,\u001b[49m\n\u001b[1;32m    242\u001b[0m \u001b[43m            \u001b[49m\u001b[43mtitlefont\u001b[49m\u001b[38;5;241;43m=\u001b[39;49m\u001b[38;5;28;43mdict\u001b[39;49m\u001b[43m(\u001b[49m\u001b[43msize\u001b[49m\u001b[38;5;241;43m=\u001b[39;49m\u001b[38;5;241;43m14\u001b[39;49m\u001b[43m,\u001b[49m\u001b[43m \u001b[49m\u001b[43mfamily\u001b[49m\u001b[38;5;241;43m=\u001b[39;49m\u001b[38;5;124;43m\"\u001b[39;49m\u001b[38;5;124;43mArial, sans-serif\u001b[39;49m\u001b[38;5;124;43m\"\u001b[39;49m\u001b[43m)\u001b[49m\u001b[43m,\u001b[49m\n\u001b[1;32m    243\u001b[0m \u001b[43m            \u001b[49m\u001b[43mtickfont\u001b[49m\u001b[38;5;241;43m=\u001b[39;49m\u001b[38;5;28;43mdict\u001b[39;49m\u001b[43m(\u001b[49m\u001b[43msize\u001b[49m\u001b[38;5;241;43m=\u001b[39;49m\u001b[38;5;241;43m12\u001b[39;49m\u001b[43m,\u001b[49m\u001b[43m \u001b[49m\u001b[43mfamily\u001b[49m\u001b[38;5;241;43m=\u001b[39;49m\u001b[38;5;124;43m\"\u001b[39;49m\u001b[38;5;124;43mArial, sans-serif\u001b[39;49m\u001b[38;5;124;43m\"\u001b[39;49m\u001b[43m)\u001b[49m\u001b[43m,\u001b[49m\n\u001b[1;32m    244\u001b[0m \u001b[43m        \u001b[49m\u001b[43m)\u001b[49m\u001b[43m,\u001b[49m\n\u001b[1;32m    245\u001b[0m \u001b[43m    \u001b[49m\u001b[43m)\u001b[49m\n\u001b[1;32m    246\u001b[0m )\n\u001b[1;32m    248\u001b[0m fig\u001b[38;5;241m.\u001b[39mupdate_layout(\n\u001b[1;32m    249\u001b[0m     title\u001b[38;5;241m=\u001b[39m\u001b[38;5;28mdict\u001b[39m(\n\u001b[1;32m    250\u001b[0m         text\u001b[38;5;241m=\u001b[39m\u001b[38;5;124m\"\u001b[39m\u001b[38;5;124mCorrelation Matrix\u001b[39m\u001b[38;5;124m\"\u001b[39m,\n\u001b[0;32m   (...)\u001b[0m\n\u001b[1;32m    269\u001b[0m     margin\u001b[38;5;241m=\u001b[39m\u001b[38;5;28mdict\u001b[39m(l\u001b[38;5;241m=\u001b[39m\u001b[38;5;241m100\u001b[39m, r\u001b[38;5;241m=\u001b[39m\u001b[38;5;241m100\u001b[39m, t\u001b[38;5;241m=\u001b[39m\u001b[38;5;241m100\u001b[39m, b\u001b[38;5;241m=\u001b[39m\u001b[38;5;241m100\u001b[39m),\n\u001b[1;32m    270\u001b[0m )\n\u001b[1;32m    272\u001b[0m fig\u001b[38;5;241m.\u001b[39mshow()\n",
      "File \u001b[0;32m~/red-wine-quality-analysis/.venv/lib/python3.13/site-packages/plotly/graph_objs/_heatmap.py:2991\u001b[0m, in \u001b[0;36mHeatmap.__init__\u001b[0;34m(self, arg, autocolorscale, coloraxis, colorbar, colorscale, connectgaps, customdata, customdatasrc, dx, dy, hoverinfo, hoverinfosrc, hoverlabel, hoverongaps, hovertemplate, hovertemplatesrc, hovertext, hovertextsrc, ids, idssrc, legend, legendgroup, legendgrouptitle, legendrank, legendwidth, meta, metasrc, name, opacity, reversescale, showlegend, showscale, stream, text, textfont, textsrc, texttemplate, transpose, uid, uirevision, visible, x, x0, xaxis, xcalendar, xgap, xhoverformat, xperiod, xperiod0, xperiodalignment, xsrc, xtype, y, y0, yaxis, ycalendar, ygap, yhoverformat, yperiod, yperiod0, yperiodalignment, ysrc, ytype, z, zauto, zhoverformat, zmax, zmid, zmin, zorder, zsmooth, zsrc, **kwargs)\u001b[0m\n\u001b[1;32m   2989\u001b[0m _v \u001b[38;5;241m=\u001b[39m colorbar \u001b[38;5;28;01mif\u001b[39;00m colorbar \u001b[38;5;129;01mis\u001b[39;00m \u001b[38;5;129;01mnot\u001b[39;00m \u001b[38;5;28;01mNone\u001b[39;00m \u001b[38;5;28;01melse\u001b[39;00m _v\n\u001b[1;32m   2990\u001b[0m \u001b[38;5;28;01mif\u001b[39;00m _v \u001b[38;5;129;01mis\u001b[39;00m \u001b[38;5;129;01mnot\u001b[39;00m \u001b[38;5;28;01mNone\u001b[39;00m:\n\u001b[0;32m-> 2991\u001b[0m     \u001b[38;5;28;43mself\u001b[39;49m\u001b[43m[\u001b[49m\u001b[38;5;124;43m\"\u001b[39;49m\u001b[38;5;124;43mcolorbar\u001b[39;49m\u001b[38;5;124;43m\"\u001b[39;49m\u001b[43m]\u001b[49m \u001b[38;5;241m=\u001b[39m _v\n\u001b[1;32m   2992\u001b[0m _v \u001b[38;5;241m=\u001b[39m arg\u001b[38;5;241m.\u001b[39mpop(\u001b[38;5;124m\"\u001b[39m\u001b[38;5;124mcolorscale\u001b[39m\u001b[38;5;124m\"\u001b[39m, \u001b[38;5;28;01mNone\u001b[39;00m)\n\u001b[1;32m   2993\u001b[0m _v \u001b[38;5;241m=\u001b[39m colorscale \u001b[38;5;28;01mif\u001b[39;00m colorscale \u001b[38;5;129;01mis\u001b[39;00m \u001b[38;5;129;01mnot\u001b[39;00m \u001b[38;5;28;01mNone\u001b[39;00m \u001b[38;5;28;01melse\u001b[39;00m _v\n",
      "File \u001b[0;32m~/red-wine-quality-analysis/.venv/lib/python3.13/site-packages/plotly/basedatatypes.py:4852\u001b[0m, in \u001b[0;36mBasePlotlyType.__setitem__\u001b[0;34m(self, prop, value)\u001b[0m\n\u001b[1;32m   4850\u001b[0m \u001b[38;5;66;03m# ### Handle compound property ###\u001b[39;00m\n\u001b[1;32m   4851\u001b[0m \u001b[38;5;28;01mif\u001b[39;00m \u001b[38;5;28misinstance\u001b[39m(validator, CompoundValidator):\n\u001b[0;32m-> 4852\u001b[0m     \u001b[38;5;28;43mself\u001b[39;49m\u001b[38;5;241;43m.\u001b[39;49m\u001b[43m_set_compound_prop\u001b[49m\u001b[43m(\u001b[49m\u001b[43mprop\u001b[49m\u001b[43m,\u001b[49m\u001b[43m \u001b[49m\u001b[43mvalue\u001b[49m\u001b[43m)\u001b[49m\n\u001b[1;32m   4854\u001b[0m \u001b[38;5;66;03m# ### Handle compound array property ###\u001b[39;00m\n\u001b[1;32m   4855\u001b[0m \u001b[38;5;28;01melif\u001b[39;00m \u001b[38;5;28misinstance\u001b[39m(validator, (CompoundArrayValidator, BaseDataValidator)):\n",
      "File \u001b[0;32m~/red-wine-quality-analysis/.venv/lib/python3.13/site-packages/plotly/basedatatypes.py:5263\u001b[0m, in \u001b[0;36mBasePlotlyType._set_compound_prop\u001b[0;34m(self, prop, val)\u001b[0m\n\u001b[1;32m   5260\u001b[0m \u001b[38;5;66;03m# Import value\u001b[39;00m\n\u001b[1;32m   5261\u001b[0m \u001b[38;5;66;03m# ------------\u001b[39;00m\n\u001b[1;32m   5262\u001b[0m validator \u001b[38;5;241m=\u001b[39m \u001b[38;5;28mself\u001b[39m\u001b[38;5;241m.\u001b[39m_get_validator(prop)\n\u001b[0;32m-> 5263\u001b[0m val \u001b[38;5;241m=\u001b[39m \u001b[43mvalidator\u001b[49m\u001b[38;5;241;43m.\u001b[39;49m\u001b[43mvalidate_coerce\u001b[49m\u001b[43m(\u001b[49m\u001b[43mval\u001b[49m\u001b[43m,\u001b[49m\u001b[43m \u001b[49m\u001b[43mskip_invalid\u001b[49m\u001b[38;5;241;43m=\u001b[39;49m\u001b[38;5;28;43mself\u001b[39;49m\u001b[38;5;241;43m.\u001b[39;49m\u001b[43m_skip_invalid\u001b[49m\u001b[43m)\u001b[49m\n\u001b[1;32m   5265\u001b[0m \u001b[38;5;66;03m# Save deep copies of current and new states\u001b[39;00m\n\u001b[1;32m   5266\u001b[0m \u001b[38;5;66;03m# ------------------------------------------\u001b[39;00m\n\u001b[1;32m   5267\u001b[0m curr_val \u001b[38;5;241m=\u001b[39m \u001b[38;5;28mself\u001b[39m\u001b[38;5;241m.\u001b[39m_compound_props\u001b[38;5;241m.\u001b[39mget(prop, \u001b[38;5;28;01mNone\u001b[39;00m)\n",
      "File \u001b[0;32m~/red-wine-quality-analysis/.venv/lib/python3.13/site-packages/_plotly_utils/basevalidators.py:2504\u001b[0m, in \u001b[0;36mCompoundValidator.validate_coerce\u001b[0;34m(self, v, skip_invalid, _validate)\u001b[0m\n\u001b[1;32m   2501\u001b[0m     v \u001b[38;5;241m=\u001b[39m \u001b[38;5;28mself\u001b[39m\u001b[38;5;241m.\u001b[39mdata_class()\n\u001b[1;32m   2503\u001b[0m \u001b[38;5;28;01melif\u001b[39;00m \u001b[38;5;28misinstance\u001b[39m(v, \u001b[38;5;28mdict\u001b[39m):\n\u001b[0;32m-> 2504\u001b[0m     v \u001b[38;5;241m=\u001b[39m \u001b[38;5;28;43mself\u001b[39;49m\u001b[38;5;241;43m.\u001b[39;49m\u001b[43mdata_class\u001b[49m\u001b[43m(\u001b[49m\u001b[43mv\u001b[49m\u001b[43m,\u001b[49m\u001b[43m \u001b[49m\u001b[43mskip_invalid\u001b[49m\u001b[38;5;241;43m=\u001b[39;49m\u001b[43mskip_invalid\u001b[49m\u001b[43m,\u001b[49m\u001b[43m \u001b[49m\u001b[43m_validate\u001b[49m\u001b[38;5;241;43m=\u001b[39;49m\u001b[43m_validate\u001b[49m\u001b[43m)\u001b[49m\n\u001b[1;32m   2506\u001b[0m \u001b[38;5;28;01melif\u001b[39;00m \u001b[38;5;28misinstance\u001b[39m(v, \u001b[38;5;28mself\u001b[39m\u001b[38;5;241m.\u001b[39mdata_class):\n\u001b[1;32m   2507\u001b[0m     \u001b[38;5;66;03m# Copy object\u001b[39;00m\n\u001b[1;32m   2508\u001b[0m     v \u001b[38;5;241m=\u001b[39m \u001b[38;5;28mself\u001b[39m\u001b[38;5;241m.\u001b[39mdata_class(v)\n",
      "File \u001b[0;32m~/red-wine-quality-analysis/.venv/lib/python3.13/site-packages/plotly/graph_objs/heatmap/_colorbar.py:2216\u001b[0m, in \u001b[0;36mColorBar.__init__\u001b[0;34m(self, arg, bgcolor, bordercolor, borderwidth, dtick, exponentformat, labelalias, len, lenmode, minexponent, nticks, orientation, outlinecolor, outlinewidth, separatethousands, showexponent, showticklabels, showtickprefix, showticksuffix, thickness, thicknessmode, tick0, tickangle, tickcolor, tickfont, tickformat, tickformatstops, tickformatstopdefaults, ticklabeloverflow, ticklabelposition, ticklabelstep, ticklen, tickmode, tickprefix, ticks, ticksuffix, ticktext, ticktextsrc, tickvals, tickvalssrc, tickwidth, title, x, xanchor, xpad, xref, y, yanchor, ypad, yref, **kwargs)\u001b[0m\n\u001b[1;32m   2212\u001b[0m     \u001b[38;5;28mself\u001b[39m[\u001b[38;5;124m\"\u001b[39m\u001b[38;5;124myref\u001b[39m\u001b[38;5;124m\"\u001b[39m] \u001b[38;5;241m=\u001b[39m _v\n\u001b[1;32m   2214\u001b[0m \u001b[38;5;66;03m# Process unknown kwargs\u001b[39;00m\n\u001b[1;32m   2215\u001b[0m \u001b[38;5;66;03m# ----------------------\u001b[39;00m\n\u001b[0;32m-> 2216\u001b[0m \u001b[38;5;28;43mself\u001b[39;49m\u001b[38;5;241;43m.\u001b[39;49m\u001b[43m_process_kwargs\u001b[49m\u001b[43m(\u001b[49m\u001b[38;5;241;43m*\u001b[39;49m\u001b[38;5;241;43m*\u001b[39;49m\u001b[38;5;28;43mdict\u001b[39;49m\u001b[43m(\u001b[49m\u001b[43marg\u001b[49m\u001b[43m,\u001b[49m\u001b[43m \u001b[49m\u001b[38;5;241;43m*\u001b[39;49m\u001b[38;5;241;43m*\u001b[39;49m\u001b[43mkwargs\u001b[49m\u001b[43m)\u001b[49m\u001b[43m)\u001b[49m\n\u001b[1;32m   2218\u001b[0m \u001b[38;5;66;03m# Reset skip_invalid\u001b[39;00m\n\u001b[1;32m   2219\u001b[0m \u001b[38;5;66;03m# ------------------\u001b[39;00m\n\u001b[1;32m   2220\u001b[0m \u001b[38;5;28mself\u001b[39m\u001b[38;5;241m.\u001b[39m_skip_invalid \u001b[38;5;241m=\u001b[39m \u001b[38;5;28;01mFalse\u001b[39;00m\n",
      "File \u001b[0;32m~/red-wine-quality-analysis/.venv/lib/python3.13/site-packages/plotly/basedatatypes.py:4378\u001b[0m, in \u001b[0;36mBasePlotlyType._process_kwargs\u001b[0;34m(self, **kwargs)\u001b[0m\n\u001b[1;32m   4376\u001b[0m     \u001b[38;5;28mself\u001b[39m[k] \u001b[38;5;241m=\u001b[39m v\n\u001b[1;32m   4377\u001b[0m \u001b[38;5;28;01melif\u001b[39;00m \u001b[38;5;129;01mnot\u001b[39;00m \u001b[38;5;28mself\u001b[39m\u001b[38;5;241m.\u001b[39m_skip_invalid:\n\u001b[0;32m-> 4378\u001b[0m     \u001b[38;5;28;01mraise\u001b[39;00m err\n",
      "\u001b[0;31mValueError\u001b[0m: Invalid property specified for object of type plotly.graph_objs.heatmap.ColorBar: 'titleside'\n\nDid you mean \"title\"?\n\n    Valid properties:\n        bgcolor\n            Sets the color of padded area.\n        bordercolor\n            Sets the axis line color.\n        borderwidth\n            Sets the width (in px) or the border enclosing this\n            color bar.\n        dtick\n            Sets the step in-between ticks on this axis. Use with\n            `tick0`. Must be a positive number, or special strings\n            available to \"log\" and \"date\" axes. If the axis `type`\n            is \"log\", then ticks are set every 10^(n*dtick) where n\n            is the tick number. For example, to set a tick mark at\n            1, 10, 100, 1000, ... set dtick to 1. To set tick marks\n            at 1, 100, 10000, ... set dtick to 2. To set tick marks\n            at 1, 5, 25, 125, 625, 3125, ... set dtick to\n            log_10(5), or 0.69897000433. \"log\" has several special\n            values; \"L<f>\", where `f` is a positive number, gives\n            ticks linearly spaced in value (but not position). For\n            example `tick0` = 0.1, `dtick` = \"L0.5\" will put ticks\n            at 0.1, 0.6, 1.1, 1.6 etc. To show powers of 10 plus\n            small digits between, use \"D1\" (all digits) or \"D2\"\n            (only 2 and 5). `tick0` is ignored for \"D1\" and \"D2\".\n            If the axis `type` is \"date\", then you must convert the\n            time to milliseconds. For example, to set the interval\n            between ticks to one day, set `dtick` to 86400000.0.\n            \"date\" also has special values \"M<n>\" gives ticks\n            spaced by a number of months. `n` must be a positive\n            integer. To set ticks on the 15th of every third month,\n            set `tick0` to \"2000-01-15\" and `dtick` to \"M3\". To set\n            ticks every 4 years, set `dtick` to \"M48\"\n        exponentformat\n            Determines a formatting rule for the tick exponents.\n            For example, consider the number 1,000,000,000. If\n            \"none\", it appears as 1,000,000,000. If \"e\", 1e+9. If\n            \"E\", 1E+9. If \"power\", 1x10^9 (with 9 in a super\n            script). If \"SI\", 1G. If \"B\", 1B.\n        labelalias\n            Replacement text for specific tick or hover labels. For\n            example using {US: 'USA', CA: 'Canada'} changes US to\n            USA and CA to Canada. The labels we would have shown\n            must match the keys exactly, after adding any\n            tickprefix or ticksuffix. For negative numbers the\n            minus sign symbol used (U+2212) is wider than the\n            regular ascii dash. That means you need to use −1\n            instead of -1. labelalias can be used with any axis\n            type, and both keys (if needed) and values (if desired)\n            can include html-like tags or MathJax.\n        len\n            Sets the length of the color bar This measure excludes\n            the padding of both ends. That is, the color bar length\n            is this length minus the padding on both ends.\n        lenmode\n            Determines whether this color bar's length (i.e. the\n            measure in the color variation direction) is set in\n            units of plot \"fraction\" or in *pixels. Use `len` to\n            set the value.\n        minexponent\n            Hide SI prefix for 10^n if |n| is below this number.\n            This only has an effect when `tickformat` is \"SI\" or\n            \"B\".\n        nticks\n            Specifies the maximum number of ticks for the\n            particular axis. The actual number of ticks will be\n            chosen automatically to be less than or equal to\n            `nticks`. Has an effect only if `tickmode` is set to\n            \"auto\".\n        orientation\n            Sets the orientation of the colorbar.\n        outlinecolor\n            Sets the axis line color.\n        outlinewidth\n            Sets the width (in px) of the axis line.\n        separatethousands\n            If \"true\", even 4-digit integers are separated\n        showexponent\n            If \"all\", all exponents are shown besides their\n            significands. If \"first\", only the exponent of the\n            first tick is shown. If \"last\", only the exponent of\n            the last tick is shown. If \"none\", no exponents appear.\n        showticklabels\n            Determines whether or not the tick labels are drawn.\n        showtickprefix\n            If \"all\", all tick labels are displayed with a prefix.\n            If \"first\", only the first tick is displayed with a\n            prefix. If \"last\", only the last tick is displayed with\n            a suffix. If \"none\", tick prefixes are hidden.\n        showticksuffix\n            Same as `showtickprefix` but for tick suffixes.\n        thickness\n            Sets the thickness of the color bar This measure\n            excludes the size of the padding, ticks and labels.\n        thicknessmode\n            Determines whether this color bar's thickness (i.e. the\n            measure in the constant color direction) is set in\n            units of plot \"fraction\" or in \"pixels\". Use\n            `thickness` to set the value.\n        tick0\n            Sets the placement of the first tick on this axis. Use\n            with `dtick`. If the axis `type` is \"log\", then you\n            must take the log of your starting tick (e.g. to set\n            the starting tick to 100, set the `tick0` to 2) except\n            when `dtick`=*L<f>* (see `dtick` for more info). If the\n            axis `type` is \"date\", it should be a date string, like\n            date data. If the axis `type` is \"category\", it should\n            be a number, using the scale where each category is\n            assigned a serial number from zero in the order it\n            appears.\n        tickangle\n            Sets the angle of the tick labels with respect to the\n            horizontal. For example, a `tickangle` of -90 draws the\n            tick labels vertically.\n        tickcolor\n            Sets the tick color.\n        tickfont\n            Sets the color bar's tick label font\n        tickformat\n            Sets the tick label formatting rule using d3 formatting\n            mini-languages which are very similar to those in\n            Python. For numbers, see:\n            https://github.com/d3/d3-format/tree/v1.4.5#d3-format.\n            And for dates see: https://github.com/d3/d3-time-\n            format/tree/v2.2.3#locale_format. We add two items to\n            d3's date formatter: \"%h\" for half of the year as a\n            decimal number as well as \"%{n}f\" for fractional\n            seconds with n digits. For example, *2016-10-13\n            09:15:23.456* with tickformat \"%H~%M~%S.%2f\" would\n            display \"09~15~23.46\"\n        tickformatstops\n            A tuple of :class:`plotly.graph_objects.heatmap.colorba\n            r.Tickformatstop` instances or dicts with compatible\n            properties\n        tickformatstopdefaults\n            When used in a template (as layout.template.data.heatma\n            p.colorbar.tickformatstopdefaults), sets the default\n            property values to use for elements of\n            heatmap.colorbar.tickformatstops\n        ticklabeloverflow\n            Determines how we handle tick labels that would\n            overflow either the graph div or the domain of the\n            axis. The default value for inside tick labels is *hide\n            past domain*. In other cases the default is *hide past\n            div*.\n        ticklabelposition\n            Determines where tick labels are drawn relative to the\n            ticks. Left and right options are used when\n            `orientation` is \"h\", top and bottom when `orientation`\n            is \"v\".\n        ticklabelstep\n            Sets the spacing between tick labels as compared to the\n            spacing between ticks. A value of 1 (default) means\n            each tick gets a label. A value of 2 means shows every\n            2nd label. A larger value n means only every nth tick\n            is labeled. `tick0` determines which labels are shown.\n            Not implemented for axes with `type` \"log\" or\n            \"multicategory\", or when `tickmode` is \"array\".\n        ticklen\n            Sets the tick length (in px).\n        tickmode\n            Sets the tick mode for this axis. If \"auto\", the number\n            of ticks is set via `nticks`. If \"linear\", the\n            placement of the ticks is determined by a starting\n            position `tick0` and a tick step `dtick` (\"linear\" is\n            the default value if `tick0` and `dtick` are provided).\n            If \"array\", the placement of the ticks is set via\n            `tickvals` and the tick text is `ticktext`. (\"array\" is\n            the default value if `tickvals` is provided).\n        tickprefix\n            Sets a tick label prefix.\n        ticks\n            Determines whether ticks are drawn or not. If \"\", this\n            axis' ticks are not drawn. If \"outside\" (\"inside\"),\n            this axis' are drawn outside (inside) the axis lines.\n        ticksuffix\n            Sets a tick label suffix.\n        ticktext\n            Sets the text displayed at the ticks position via\n            `tickvals`. Only has an effect if `tickmode` is set to\n            \"array\". Used with `tickvals`.\n        ticktextsrc\n            Sets the source reference on Chart Studio Cloud for\n            `ticktext`.\n        tickvals\n            Sets the values at which ticks on this axis appear.\n            Only has an effect if `tickmode` is set to \"array\".\n            Used with `ticktext`.\n        tickvalssrc\n            Sets the source reference on Chart Studio Cloud for\n            `tickvals`.\n        tickwidth\n            Sets the tick width (in px).\n        title\n            :class:`plotly.graph_objects.heatmap.colorbar.Title`\n            instance or dict with compatible properties\n        x\n            Sets the x position with respect to `xref` of the color\n            bar (in plot fraction). When `xref` is \"paper\",\n            defaults to 1.02 when `orientation` is \"v\" and 0.5 when\n            `orientation` is \"h\". When `xref` is \"container\",\n            defaults to 1 when `orientation` is \"v\" and 0.5 when\n            `orientation` is \"h\". Must be between 0 and 1 if `xref`\n            is \"container\" and between \"-2\" and 3 if `xref` is\n            \"paper\".\n        xanchor\n            Sets this color bar's horizontal position anchor. This\n            anchor binds the `x` position to the \"left\", \"center\"\n            or \"right\" of the color bar. Defaults to \"left\" when\n            `orientation` is \"v\" and \"center\" when `orientation` is\n            \"h\".\n        xpad\n            Sets the amount of padding (in px) along the x\n            direction.\n        xref\n            Sets the container `x` refers to. \"container\" spans the\n            entire `width` of the plot. \"paper\" refers to the width\n            of the plotting area only.\n        y\n            Sets the y position with respect to `yref` of the color\n            bar (in plot fraction). When `yref` is \"paper\",\n            defaults to 0.5 when `orientation` is \"v\" and 1.02 when\n            `orientation` is \"h\". When `yref` is \"container\",\n            defaults to 0.5 when `orientation` is \"v\" and 1 when\n            `orientation` is \"h\". Must be between 0 and 1 if `yref`\n            is \"container\" and between \"-2\" and 3 if `yref` is\n            \"paper\".\n        yanchor\n            Sets this color bar's vertical position anchor This\n            anchor binds the `y` position to the \"top\", \"middle\" or\n            \"bottom\" of the color bar. Defaults to \"middle\" when\n            `orientation` is \"v\" and \"bottom\" when `orientation` is\n            \"h\".\n        ypad\n            Sets the amount of padding (in px) along the y\n            direction.\n        yref\n            Sets the container `y` refers to. \"container\" spans the\n            entire `height` of the plot. \"paper\" refers to the\n            height of the plotting area only.\n        \nDid you mean \"title\"?\n\nBad property path:\ntitleside\n^^^^^^^^^"
     ]
    }
   ],
   "source": [
    "plot_heatmap(corr_matrix, save_path=\"images/correlation_heatmap.png\")"
   ]
  },
  {
   "cell_type": "code",
   "execution_count": null,
   "id": "fdb73475",
   "metadata": {},
   "outputs": [],
   "source": [
    "Image(filename=\"images/correlation_heatmap.png\")"
   ]
  },
  {
   "cell_type": "markdown",
   "id": "85be100ce0844ec5",
   "metadata": {
    "collapsed": false,
    "jupyter": {
     "outputs_hidden": false
    }
   },
   "source": [
    "Our analysis of the correlation matrix reveals notable relationships within the red wine data:\n",
    "\n",
    "### Positive Correlations:\n",
    "- **Fixed Acidity and Citric Acid**: This suggests a trend where wines with higher fixed acidity tend to also possess higher citric acid content, potentially contributing to the overall flavor profile.\n",
    "- **Quality and Alcohol**: Exhibits the strongest positive correlation in the dataset, indicating that wines with higher alcohol content are generally perceived as being of higher quality.\n",
    "\n",
    "### Negative Correlations:\n",
    "- **Volatile Acidity and Quality**: There is a trend where higher levels of volatile acidity are associated with lower wine quality, likely due to the influence on taste and aroma.\n",
    "- **pH and Citric Acid**: Demonstrates that wines with higher acidity typically have lower pH values, reflecting the direct chemical relationship between these factors.\n",
    "\n",
    "Given these correlations, we should check our distributions once again before moving forward."
   ]
  },
  {
   "cell_type": "code",
   "execution_count": null,
   "id": "f74790f2-2528-485c-8074-5dd7ea2acc3b",
   "metadata": {},
   "outputs": [],
   "source": [
    "plot_histograms(\n",
    "    transformed_wine_df,\n",
    "    [\"fixed_acidity\", \"volatile_acidity\", \"citric_acid\", \"residual_sugar\"],\n",
    "    save_path=\"images/histograms_transformed.png\",\n",
    ")"
   ]
  },
  {
   "cell_type": "code",
   "execution_count": null,
   "id": "415dd111",
   "metadata": {},
   "outputs": [],
   "source": [
    "Image(filename=\"images/histograms_transformed.png\")"
   ]
  },
  {
   "cell_type": "code",
   "execution_count": null,
   "id": "0346e505-77c5-4776-b699-78f6ea4a7ef9",
   "metadata": {},
   "outputs": [],
   "source": [
    "plot_histograms(\n",
    "    transformed_wine_df,\n",
    "    [\"chlorides\", \"free_sulfur_dioxide\", \"total_sulfur_dioxide\", \"density\"],\n",
    "    save_path=\"images/histograms1_transformed.png\",\n",
    ")"
   ]
  },
  {
   "cell_type": "code",
   "execution_count": null,
   "id": "aa7e0857",
   "metadata": {},
   "outputs": [],
   "source": [
    "Image(filename=\"images/histograms1_transformed.png\")"
   ]
  },
  {
   "cell_type": "code",
   "execution_count": null,
   "id": "eb34cfb3-4ccf-4c71-93ab-2c981ea7c878",
   "metadata": {},
   "outputs": [],
   "source": [
    "plot_histograms(\n",
    "    transformed_wine_df,\n",
    "    [\"pH\", \"sulphates\", \"alcohol\", \"quality\"],\n",
    "    save_path=\"images/histograms2_transformed.png\",\n",
    ")"
   ]
  },
  {
   "cell_type": "code",
   "execution_count": null,
   "id": "45108ef4",
   "metadata": {},
   "outputs": [],
   "source": [
    "Image(filename=\"images/histograms2_transformed.png\")"
   ]
  },
  {
   "cell_type": "markdown",
   "id": "f3b88997-eea7-42a5-8a89-de6414416a92",
   "metadata": {},
   "source": [
    "Since most features appear to be approximately normally distributed, we can proceed with statistical hypothesis testing to further explore these relationships. The entire dataset of red wines will serve as our target population for these tests. Given the normality assumption, we will use Pearson's correlation coefficient (r) test instead of Z or t-tests for our numerical features.\n",
    "\n",
    "### Hypotheses for Statistical Testing:\n",
    "\n",
    "1. **Fixed Acidity and Citric Acid**\n",
    "   - **Null Hypothesis (H0)**: There is no significant relationship between fixed acidity and citric acid levels in wines.\n",
    "   - **Alternative Hypothesis (H1)**: Wines with higher fixed acidity have higher citric acid levels.\n",
    "\n",
    "2. **Quality and Alcohol**\n",
    "   - **Null Hypothesis (H0)**: Alcohol content does not significantly affect wine quality.\n",
    "   - **Alternative Hypothesis (H1)**: Higher alcohol content is associated with higher wine quality.\n",
    "\n",
    "3. **Volatile Acidity and Quality**\n",
    "   - **Null Hypothesis (H0)**: Volatile acidity levels do not significantly affect wine quality.\n",
    "   - **Alternative Hypothesis (H1)**: Higher volatile acidity is associated with lower wine quality.\n",
    "\n",
    "4. **pH and Citric Acid**\n",
    "   - **Null Hypothesis (H0)**: Citric acid levels do not significantly affect the pH of wines.\n",
    "   - **Alternative Hypothesis (H1)**: Higher citric acid levels result in lower pH values in wines.\n",
    "\n",
    "These hypotheses will guide our detailed statistical analysis to further validate the initial findings from our correlation study."
   ]
  },
  {
   "cell_type": "code",
   "execution_count": null,
   "id": "8db11115",
   "metadata": {},
   "outputs": [],
   "source": [
    "test_correlation(transformed_wine_df, \"fixed_acidity\", \"citric_acid\")"
   ]
  },
  {
   "cell_type": "code",
   "execution_count": null,
   "id": "f75faa4f",
   "metadata": {},
   "outputs": [],
   "source": [
    "plot_correlation(\n",
    "    transformed_wine_df,\n",
    "    \"fixed_acidity\",\n",
    "    \"citric_acid\",\n",
    "    save_path=\"images/correlation_plot.png\",\n",
    ")"
   ]
  },
  {
   "cell_type": "code",
   "execution_count": null,
   "id": "ebf57b84",
   "metadata": {},
   "outputs": [],
   "source": [
    "Image(filename=\"images/correlation_plot.png\")"
   ]
  },
  {
   "cell_type": "markdown",
   "id": "fa4db72e",
   "metadata": {},
   "source": [
    "**There's a clear connection between two important wine properties: fixed acidity and citric acid.** Our analysis shows a positive correlation of 0.656. This means when fixed acidity levels go up, citric acid levels tend to go up as well. \n",
    "\n",
    "The results are incredibly statistically significant, with a p-value close to zero. This strong evidence allows us to reject the idea of no relationship between these properties (null hypothesis). \n",
    "\n",
    "The 95% confidence interval (0.618 to 0.694) excludes zero, which boosts our confidence in the positive correlation. This interval tells us how precise our estimate of the connection is.\n",
    "\n",
    "The equation of the regression line (y = 0.562x - 1.014) helps visualize this trend. Here, \"x\" represents fixed acidity and \"y\" represents citric acid content. If fixed acidity (x) increases by one unit, we can expect the citric acid (y) to increase by about 0.562, assuming all other factors remain constant.\n",
    "\n",
    "**In simpler terms, wines with higher fixed acidity tend to have more citric acid, and vice versa. This link is statistically significant, meaning it's very unlikely to be random.**"
   ]
  },
  {
   "cell_type": "code",
   "execution_count": null,
   "id": "ea378557",
   "metadata": {},
   "outputs": [],
   "source": [
    "test_correlation(transformed_wine_df, \"quality\", \"alcohol\")"
   ]
  },
  {
   "cell_type": "code",
   "execution_count": null,
   "id": "22a6d3b0",
   "metadata": {},
   "outputs": [],
   "source": [
    "plot_correlation(\n",
    "    transformed_wine_df,\n",
    "    \"quality\",\n",
    "    \"alcohol\",\n",
    "    save_path=\"images/correlation_plot1.png\",\n",
    ")"
   ]
  },
  {
   "cell_type": "code",
   "execution_count": null,
   "id": "55547239",
   "metadata": {},
   "outputs": [],
   "source": [
    "Image(filename=\"images/correlation_plot1.png\")"
   ]
  },
  {
   "cell_type": "markdown",
   "id": "a6f120b2",
   "metadata": {},
   "source": [
    "**Our analysis suggests that higher alcohol content might be associated with better quality wines.** There's a moderate positive correlation (0.481), meaning wines with more alcohol tend to get higher quality ratings. \n",
    "\n",
    "This connection is statistically significant, with a very small p-value (basically zero). This means it's very unlikely to be due to random chance. We can therefore reject the initial idea (null hypothesis) that alcohol content has no effect on quality.\n",
    "\n",
    "The 95% confidence interval (0.437 to 0.526) excludes zero, which strengthens our confidence in the positive correlation. This interval tells us how precise our estimate of the connection is.\n",
    "\n",
    "To visualize this, the scatter plot shows an upward trend. The equation (y=0.054x+2.131) represents this trend, where \"x\" is alcohol content and \"y\" is perceived quality. As the alcohol content increases (x), the perceived quality (y) also goes up, further supporting the positive association.\n",
    "\n",
    "**In simpler terms, there's a good chance that wines with higher alcohol content are rated as being of higher quality.** \n"
   ]
  },
  {
   "cell_type": "code",
   "execution_count": null,
   "id": "30ef9c2b",
   "metadata": {},
   "outputs": [],
   "source": [
    "test_correlation(transformed_wine_df, \"volatile_acidity\", \"quality\")"
   ]
  },
  {
   "cell_type": "code",
   "execution_count": null,
   "id": "a6acec00",
   "metadata": {},
   "outputs": [],
   "source": [
    "plot_correlation(\n",
    "    transformed_wine_df,\n",
    "    \"volatile_acidity\",\n",
    "    \"quality\",\n",
    "    save_path=\"images/correlation_plot2.png\",\n",
    ")"
   ]
  },
  {
   "cell_type": "code",
   "execution_count": null,
   "id": "e97c614c",
   "metadata": {},
   "outputs": [],
   "source": [
    "Image(filename=\"images/correlation_plot2.png\")"
   ]
  },
  {
   "cell_type": "markdown",
   "id": "28608b81",
   "metadata": {},
   "source": [
    "**Looks like higher volatile acidity might not be good news for wine quality.** Our analysis shows a negative correlation of -0.397. This means wines with higher levels of volatile acidity tend to get lower quality ratings. \n",
    "\n",
    "More importantly, the results are statistically significant, with a very small p-value (basically zero). This strengthens the idea that the connection isn't random. \n",
    "\n",
    "The 95% confidence interval (-0.444 to -0.351) excludes zero, making us more confident in the negative correlation. This interval tells us how precise our estimate of the connection is.\n",
    "\n",
    "The equation of the regression line (y = -2.799x + 6.793) helps visualize this. Here, \"x\" represents volatile acidity and \"y\" represents quality score. If the volatile acidity (x) increases by one unit, the quality score (y) is expected to decrease by about 2.799 points, assuming everything else stays the same.\n",
    "\n",
    "**In simpler terms, wines with higher volatile acidity tend to be rated lower in quality.**"
   ]
  },
  {
   "cell_type": "code",
   "execution_count": null,
   "id": "71eb03a4",
   "metadata": {},
   "outputs": [],
   "source": [
    "test_correlation(transformed_wine_df, \"pH\", \"citric_acid\")"
   ]
  },
  {
   "cell_type": "code",
   "execution_count": null,
   "id": "e037057a",
   "metadata": {},
   "outputs": [],
   "source": [
    "plot_correlation(\n",
    "    transformed_wine_df,\n",
    "    \"pH\",\n",
    "    \"citric_acid\",\n",
    "    save_path=\"images/correlation_plot3.png\",\n",
    ")"
   ]
  },
  {
   "cell_type": "code",
   "execution_count": null,
   "id": "366ac2fc",
   "metadata": {},
   "outputs": [],
   "source": [
    "Image(filename=\"images/correlation_plot3.png\")\n"
   ]
  },
  {
   "cell_type": "markdown",
   "id": "61360275",
   "metadata": {},
   "source": [
    "**Our analysis found a link between wine's pH and citric acid content.** There's a moderate negative correlation of -0.551, meaning wines with higher levels of citric acid tend to have lower pH values. This makes sense because citric acid contributes to a wine's acidity.\n",
    "\n",
    "The results are very statistically significant (p-value basically zero), which means it's highly unlikely to be random. We can confidently reject the idea of no connection (null hypothesis).\n",
    "\n",
    "The 95% confidence interval (-0.593 to -0.509) excludes zero, further strengthening our belief in the negative correlation. This interval tells us how precise our estimate of the connection is.\n",
    "\n",
    "The equation of the regression line (y = -0.543x + 2.028) helps visualize this. Here, \"x\" represents pH and \"y\" represents citric acid content. If the pH (x) goes up by one unit, citric acid (y) is expected to decrease by about 0.543, assuming everything else stays the same. With a neutral pH (x = 7), the expected citric acid content is around 2.028.\n",
    "\n",
    "**In simpler terms, wines with higher citric acid tend to have lower pH, and vice versa.** This connection is statistically significant, meaning it's likely not a coincidence."
   ]
  },
  {
   "cell_type": "code",
   "execution_count": null,
   "id": "61b5c6c2",
   "metadata": {},
   "outputs": [],
   "source": [
    "model_results, X_test, y_test, y_pred = train_linear_model(\n",
    "    transformed_wine_df, \"quality\"\n",
    ")\n",
    "plot_model_predictions(\n",
    "    X_test,\n",
    "    y_test,\n",
    "    y_pred,\n",
    "    \"Predicted Quality vs Actual Quality\",\n",
    "    save_path=\"images/model_predictions.png\",\n",
    ")"
   ]
  },
  {
   "cell_type": "code",
   "execution_count": null,
   "id": "5ea3ac36",
   "metadata": {},
   "outputs": [],
   "source": [
    "Image(filename=\"images/model_predictions.png\")"
   ]
  },
  {
   "cell_type": "markdown",
   "id": "cab4496c",
   "metadata": {},
   "source": [
    "This model uses various physicochemical characteristics of wine to predict its quality. Below are some key points from the model's summary:\n",
    "\n",
    "- **R-squared (Explained Variance):** The model explains approximately 35.4% of the variance in wine quality. This indicates how much of the total variation in wine quality our model can account for based on the variables used.\n",
    "- **Important Predictors:** Characteristics such as volatile acidity, chlorides, free sulfur dioxide, total sulfur dioxide, pH, sulphates, and alcohol are significant predictors of wine quality.\n",
    "- **Model Diagnostics:**\n",
    "  - **Durbin-Watson:** Close to 2, suggesting there are no major concerns regarding the independence of residuals.\n",
    "  - **Jarque-Bera Test:** Indicates that residuals are not normally distributed, which is an area for caution.\n",
    "  - **Condition Number:** High, suggesting potential issues with multicollinearity among predictors.\n",
    "\n",
    "The plot, compares the predicted wine quality against the actual wine quality. It helps us visualize the accuracy of our predictions across different levels of wine quality. Some findings, predictions become more scattered as actual quality increases, indicating that the model is less accurate for higher-quality wines.\n",
    "\n",
    "- **F-statistic and Prob (F-statistic):** These metrics confirm that the overall regression model is statistically significant, meaning the predictors do have an impact on wine quality.\n",
    "- **AIC/BIC:** Lower values are preferred as they indicate a better model fit. These criteria help compare our model with others by balancing goodness of fit and complexity.\n",
    "- **Condition Number:** Indicates potential overlap in what our predictors tell us, which might affect the reliability of our predictions.\n",
    "\n",
    "- **Categorization of Quality:** Considering transforming the wine quality from a continuous variable to categorical (e.g., Low, Medium, High). This might enhance model performance and interpretability, especially at higher quality levels where predictions are currently less accurate.\n",
    "\n",
    "While our model provides a foundation for predicting wine quality, refining it or approaching the prediction task differently could yield better results and more actionable insights."
   ]
  },
  {
   "cell_type": "code",
   "execution_count": null,
   "id": "31784ec6",
   "metadata": {},
   "outputs": [],
   "source": [
    "model_results, X_test, y_test, y_pred = train_linear_model(\n",
    "    transformed_wine_df, \"alcohol\"\n",
    ")\n",
    "plot_model_predictions(\n",
    "    X_test,\n",
    "    y_test,\n",
    "    y_pred,\n",
    "    \"Predicted Alcohol vs Actual Alcohol\",\n",
    "    save_path=\"images/model_predictions1.png\",\n",
    ")"
   ]
  },
  {
   "cell_type": "code",
   "execution_count": null,
   "id": "56898d66",
   "metadata": {},
   "outputs": [],
   "source": [
    "Image(filename=\"images/model_predictions1.png\")"
   ]
  },
  {
   "cell_type": "markdown",
   "id": "74de0110",
   "metadata": {},
   "source": [
    "This model evaluates how various characteristics of wine can predict its alcohol content. Here are the highlights and key points from the model's summary:\n",
    "\n",
    "- **R-squared (Explained Variance):** The model explains approximately 71.9% of the variance in alcohol content. This indicates a strong relationship between the predictors used and the alcohol content in the wine.\n",
    "- **Important Predictors:** Factors such as fixed acidity, volatile acidity, citric acid, sulphates, and wine quality are significant predictors of the alcohol content. Each of these characteristics has a statistically significant impact on the alcohol content.\n",
    "- **Model Diagnostics:**\n",
    "  - **Durbin-Watson:** With a value close to 2, this suggests that there is no significant autocorrelation in the residuals of the model.\n",
    "  - **Jarque-Bera Test:** This indicates that the residuals are not normally distributed, which could suggest some concerns regarding the underlying assumptions of the model.\n",
    "  - **Condition Number:** The high value points to potential multicollinearity issues among the predictors, which may affect the accuracy of the estimated coefficients.\n",
    "\n",
    "The plot compares the predicted alcohol content against the actual alcohol content, showing how well the model performs in predicting wine alcohol levels.\n",
    "Also, the plot shows that residuals are generally close to zero, especially around higher predicted values, indicating good model accuracy in these regions. However, some spread in residuals at lower predicted values suggests variability in accuracy.\n",
    "\n",
    "- **F-statistic and Prob (F-statistic):** These indicate that the model as a whole is statistically significant—meaning the included predictors do impact the alcohol content.\n",
    "- **AIC/BIC:** The lower these values, the better the model balance between fit and complexity, indicating a preferable model fit to the data.\n",
    "- **Condition Number:** A reminder that the high number could mean some predictors are providing overlapping information, potentially complicating the interpretation of individual effects.\n",
    "\n",
    "- **Addressing Non-Normality and Multicollinearity:** Adjustments such as transforming variables or revising the model to include or exclude certain variables might help in resolving the issues indicated by the Jarque-Bera test and high condition number.\n",
    "- **Further Analysis:** Investigating other modeling approaches or adding interaction terms could provide deeper insights and potentially enhance the model’s performance and interpretability.\n",
    "\n",
    "The model effectively predicts the alcohol content in wine with significant accuracy, although some areas for improvement remain, particularly in handling the underlying model assumptions and extending the model's applicability to broader wine types"
   ]
  },
  {
   "cell_type": "markdown",
   "id": "41a7cf8c",
   "metadata": {},
   "source": [
    "## Key Findings from Red Wine Quality Analysis\n",
    "\n",
    "### 1. Key Physicochemical Properties\n",
    "- **Included Properties**: Fixed acidity, volatile acidity, citric acid, residual sugar, chlorides, free sulfur dioxide, total sulfur dioxide, density, pH, sulphates, alcohol content, and overall quality score.\n",
    "- These properties represent critical measurements from various stages of wine production.\n",
    "\n",
    "### 2. Distribution of Properties\n",
    "- **Distribution Patterns**: Properties exhibit distributions that are right-skewed, normally distributed, or bimodal.\n",
    "- Understanding these distributions helps in profiling typical physicochemical characteristics of the wines.\n",
    "\n",
    "### 3. Outliers\n",
    "- **Identification and Impact**: Outliers were identified using the Interquartile Range (IQR) method. Initially, these outliers were retained to allow potential uncovering of valuable insights.\n",
    "- The significance and impact of these outliers on further analysis were discussed, with a plan to revisit their inclusion.\n",
    "\n",
    "### 4. Influence on Wine Quality\n",
    "- **Significant Properties**: Alcohol and volatile acidity show strong correlations with wine quality. Higher alcohol content correlates positively with higher quality, whereas higher volatile acidity correlates negatively with quality.\n",
    "- These findings are derived from correlation analyses and regression modeling.\n",
    "\n",
    "### 5. Predictive Modeling of Wine Quality\n",
    "- **Model Insights**: Linear regression was used, with an R-squared value indicating moderate explanatory power of 35.4%.\n",
    "- The models highlighted the importance of alcohol, sulphates, and acidity levels as predictors of quality.\n",
    "\n",
    "### 6. Predictors of Alcohol Content\n",
    "- **Model Findings**: A separate model was developed for predicting alcohol content, emphasizing the significance of fixed acidity, volatile acidity, citric acid, sulphates, and wine quality.\n",
    "- This model also showed strong explanatory power of 71.9% and provided insights into the physicochemical properties influencing alcohol levels.\n",
    "\n",
    "### 7. Issues Affecting Model Reliability\n",
    "- **Challenges Identified**: Multicollinearity and non-normal distribution of residuals were notable issues, potentially affecting the accuracy and reliability of predictions.\n",
    "\n",
    "### 8. Suggestions for Model Improvement\n",
    "- **Enhancement Strategies**:\n",
    "  - Consideration of non-linear models to better capture relationships.\n",
    "  - Variable transformations to address non-normality and multicollinearity.\n",
    "  - Categorizing wine quality for improved model interpretability and accuracy.\n",
    "\n",
    "### Conclusion\n",
    "- This analysis provides a comprehensive understanding of the factors influencing red wine quality and alcohol content. The insights can aid producers and marketers in improving wine production and positioning strategies based on scientific findings."
   ]
  }
 ],
 "metadata": {
  "kernelspec": {
   "display_name": ".venv",
   "language": "python",
   "name": "python3"
  },
  "language_info": {
   "codemirror_mode": {
    "name": "ipython",
    "version": 3
   },
   "file_extension": ".py",
   "mimetype": "text/x-python",
   "name": "python",
   "nbconvert_exporter": "python",
   "pygments_lexer": "ipython3",
   "version": "3.13.0"
  }
 },
 "nbformat": 4,
 "nbformat_minor": 5
}
